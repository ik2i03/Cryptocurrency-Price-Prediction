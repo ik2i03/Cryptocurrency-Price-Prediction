{
  "metadata": {
    "kernelspec": {
      "language": "python",
      "display_name": "Python 3",
      "name": "python3"
    },
    "language_info": {
      "name": "python",
      "version": "3.7.12",
      "mimetype": "text/x-python",
      "codemirror_mode": {
        "name": "ipython",
        "version": 3
      },
      "pygments_lexer": "ipython3",
      "nbconvert_exporter": "python",
      "file_extension": ".py"
    },
    "colab": {
      "name": "crypto-eth.ipynb",
      "provenance": []
    },
    "accelerator": "GPU"
  },
  "nbformat_minor": 0,
  "nbformat": 4,
  "cells": [
    {
      "cell_type": "code",
      "source": [
        "import numpy as np\n",
        "import pandas as pd\n",
        "import matplotlib.pyplot as plt\n",
        "import seaborn as sns"
      ],
      "metadata": {
        "execution": {
          "iopub.status.busy": "2022-05-02T19:12:06.874016Z",
          "iopub.execute_input": "2022-05-02T19:12:06.874731Z",
          "iopub.status.idle": "2022-05-02T19:12:07.890105Z",
          "shell.execute_reply.started": "2022-05-02T19:12:06.874636Z",
          "shell.execute_reply": "2022-05-02T19:12:07.889401Z"
        },
        "trusted": true,
        "id": "0FFpUtEfDq3R"
      },
      "execution_count": null,
      "outputs": []
    },
    {
      "cell_type": "markdown",
      "source": [
        "**Data Collection**"
      ],
      "metadata": {
        "id": "ZnacL7QoBGys"
      }
    },
    {
      "cell_type": "code",
      "source": [
        "url = 'https://www.cryptodatadownload.com/cdd/Gemini_ETHUSD_1hr.csv'\n",
        "dataset = pd.read_csv(url, index_col=\"Date\", skiprows=1)\n",
        "#dataset = pd.read_csv('Gemini_ETHUSD_1hr.csv', index_col=\"Date\", skiprows=1)\n",
        "dataset.head()"
      ],
      "metadata": {
        "execution": {
          "iopub.status.busy": "2022-05-02T19:12:08.556377Z",
          "iopub.execute_input": "2022-05-02T19:12:08.556598Z",
          "iopub.status.idle": "2022-05-02T19:12:09.556824Z",
          "shell.execute_reply.started": "2022-05-02T19:12:08.556566Z",
          "shell.execute_reply": "2022-05-02T19:12:09.556120Z"
        },
        "trusted": true,
        "colab": {
          "base_uri": "https://localhost:8080/",
          "height": 237
        },
        "id": "CzeLSvUfDq3U",
        "outputId": "502c8e2c-e722-4e51-fe8e-8528952ee3ed"
      },
      "execution_count": null,
      "outputs": [
        {
          "output_type": "execute_result",
          "data": {
            "text/plain": [
              "                     Unix Timestamp  Symbol     Open     High      Low  \\\n",
              "Date                                                                     \n",
              "2022-04-26 04:00:00   1650945600000  ETHUSD  3001.21  3003.87  2998.17   \n",
              "2022-04-26 03:00:00   1650942000000  ETHUSD  2999.07  3005.78  2997.79   \n",
              "2022-04-26 02:00:00   1650938400000  ETHUSD  3003.49  3006.65  2985.92   \n",
              "2022-04-26 01:00:00   1650934800000  ETHUSD  3010.63  3016.25  3003.48   \n",
              "2022-04-26 00:00:00   1650931200000  ETHUSD  3006.82  3036.40  3006.82   \n",
              "\n",
              "                       Close      Volume  \n",
              "Date                                      \n",
              "2022-04-26 04:00:00  3001.47   88.811435  \n",
              "2022-04-26 03:00:00  3001.21  103.177377  \n",
              "2022-04-26 02:00:00  2999.07  183.246060  \n",
              "2022-04-26 01:00:00  3003.49  315.646260  \n",
              "2022-04-26 00:00:00  3010.63  438.109320  "
            ],
            "text/html": [
              "\n",
              "  <div id=\"df-6663cd50-1b7f-4e0e-809a-bf0e6d4ec555\">\n",
              "    <div class=\"colab-df-container\">\n",
              "      <div>\n",
              "<style scoped>\n",
              "    .dataframe tbody tr th:only-of-type {\n",
              "        vertical-align: middle;\n",
              "    }\n",
              "\n",
              "    .dataframe tbody tr th {\n",
              "        vertical-align: top;\n",
              "    }\n",
              "\n",
              "    .dataframe thead th {\n",
              "        text-align: right;\n",
              "    }\n",
              "</style>\n",
              "<table border=\"1\" class=\"dataframe\">\n",
              "  <thead>\n",
              "    <tr style=\"text-align: right;\">\n",
              "      <th></th>\n",
              "      <th>Unix Timestamp</th>\n",
              "      <th>Symbol</th>\n",
              "      <th>Open</th>\n",
              "      <th>High</th>\n",
              "      <th>Low</th>\n",
              "      <th>Close</th>\n",
              "      <th>Volume</th>\n",
              "    </tr>\n",
              "    <tr>\n",
              "      <th>Date</th>\n",
              "      <th></th>\n",
              "      <th></th>\n",
              "      <th></th>\n",
              "      <th></th>\n",
              "      <th></th>\n",
              "      <th></th>\n",
              "      <th></th>\n",
              "    </tr>\n",
              "  </thead>\n",
              "  <tbody>\n",
              "    <tr>\n",
              "      <th>2022-04-26 04:00:00</th>\n",
              "      <td>1650945600000</td>\n",
              "      <td>ETHUSD</td>\n",
              "      <td>3001.21</td>\n",
              "      <td>3003.87</td>\n",
              "      <td>2998.17</td>\n",
              "      <td>3001.47</td>\n",
              "      <td>88.811435</td>\n",
              "    </tr>\n",
              "    <tr>\n",
              "      <th>2022-04-26 03:00:00</th>\n",
              "      <td>1650942000000</td>\n",
              "      <td>ETHUSD</td>\n",
              "      <td>2999.07</td>\n",
              "      <td>3005.78</td>\n",
              "      <td>2997.79</td>\n",
              "      <td>3001.21</td>\n",
              "      <td>103.177377</td>\n",
              "    </tr>\n",
              "    <tr>\n",
              "      <th>2022-04-26 02:00:00</th>\n",
              "      <td>1650938400000</td>\n",
              "      <td>ETHUSD</td>\n",
              "      <td>3003.49</td>\n",
              "      <td>3006.65</td>\n",
              "      <td>2985.92</td>\n",
              "      <td>2999.07</td>\n",
              "      <td>183.246060</td>\n",
              "    </tr>\n",
              "    <tr>\n",
              "      <th>2022-04-26 01:00:00</th>\n",
              "      <td>1650934800000</td>\n",
              "      <td>ETHUSD</td>\n",
              "      <td>3010.63</td>\n",
              "      <td>3016.25</td>\n",
              "      <td>3003.48</td>\n",
              "      <td>3003.49</td>\n",
              "      <td>315.646260</td>\n",
              "    </tr>\n",
              "    <tr>\n",
              "      <th>2022-04-26 00:00:00</th>\n",
              "      <td>1650931200000</td>\n",
              "      <td>ETHUSD</td>\n",
              "      <td>3006.82</td>\n",
              "      <td>3036.40</td>\n",
              "      <td>3006.82</td>\n",
              "      <td>3010.63</td>\n",
              "      <td>438.109320</td>\n",
              "    </tr>\n",
              "  </tbody>\n",
              "</table>\n",
              "</div>\n",
              "      <button class=\"colab-df-convert\" onclick=\"convertToInteractive('df-6663cd50-1b7f-4e0e-809a-bf0e6d4ec555')\"\n",
              "              title=\"Convert this dataframe to an interactive table.\"\n",
              "              style=\"display:none;\">\n",
              "        \n",
              "  <svg xmlns=\"http://www.w3.org/2000/svg\" height=\"24px\"viewBox=\"0 0 24 24\"\n",
              "       width=\"24px\">\n",
              "    <path d=\"M0 0h24v24H0V0z\" fill=\"none\"/>\n",
              "    <path d=\"M18.56 5.44l.94 2.06.94-2.06 2.06-.94-2.06-.94-.94-2.06-.94 2.06-2.06.94zm-11 1L8.5 8.5l.94-2.06 2.06-.94-2.06-.94L8.5 2.5l-.94 2.06-2.06.94zm10 10l.94 2.06.94-2.06 2.06-.94-2.06-.94-.94-2.06-.94 2.06-2.06.94z\"/><path d=\"M17.41 7.96l-1.37-1.37c-.4-.4-.92-.59-1.43-.59-.52 0-1.04.2-1.43.59L10.3 9.45l-7.72 7.72c-.78.78-.78 2.05 0 2.83L4 21.41c.39.39.9.59 1.41.59.51 0 1.02-.2 1.41-.59l7.78-7.78 2.81-2.81c.8-.78.8-2.07 0-2.86zM5.41 20L4 18.59l7.72-7.72 1.47 1.35L5.41 20z\"/>\n",
              "  </svg>\n",
              "      </button>\n",
              "      \n",
              "  <style>\n",
              "    .colab-df-container {\n",
              "      display:flex;\n",
              "      flex-wrap:wrap;\n",
              "      gap: 12px;\n",
              "    }\n",
              "\n",
              "    .colab-df-convert {\n",
              "      background-color: #E8F0FE;\n",
              "      border: none;\n",
              "      border-radius: 50%;\n",
              "      cursor: pointer;\n",
              "      display: none;\n",
              "      fill: #1967D2;\n",
              "      height: 32px;\n",
              "      padding: 0 0 0 0;\n",
              "      width: 32px;\n",
              "    }\n",
              "\n",
              "    .colab-df-convert:hover {\n",
              "      background-color: #E2EBFA;\n",
              "      box-shadow: 0px 1px 2px rgba(60, 64, 67, 0.3), 0px 1px 3px 1px rgba(60, 64, 67, 0.15);\n",
              "      fill: #174EA6;\n",
              "    }\n",
              "\n",
              "    [theme=dark] .colab-df-convert {\n",
              "      background-color: #3B4455;\n",
              "      fill: #D2E3FC;\n",
              "    }\n",
              "\n",
              "    [theme=dark] .colab-df-convert:hover {\n",
              "      background-color: #434B5C;\n",
              "      box-shadow: 0px 1px 3px 1px rgba(0, 0, 0, 0.15);\n",
              "      filter: drop-shadow(0px 1px 2px rgba(0, 0, 0, 0.3));\n",
              "      fill: #FFFFFF;\n",
              "    }\n",
              "  </style>\n",
              "\n",
              "      <script>\n",
              "        const buttonEl =\n",
              "          document.querySelector('#df-6663cd50-1b7f-4e0e-809a-bf0e6d4ec555 button.colab-df-convert');\n",
              "        buttonEl.style.display =\n",
              "          google.colab.kernel.accessAllowed ? 'block' : 'none';\n",
              "\n",
              "        async function convertToInteractive(key) {\n",
              "          const element = document.querySelector('#df-6663cd50-1b7f-4e0e-809a-bf0e6d4ec555');\n",
              "          const dataTable =\n",
              "            await google.colab.kernel.invokeFunction('convertToInteractive',\n",
              "                                                     [key], {});\n",
              "          if (!dataTable) return;\n",
              "\n",
              "          const docLinkHtml = 'Like what you see? Visit the ' +\n",
              "            '<a target=\"_blank\" href=https://colab.research.google.com/notebooks/data_table.ipynb>data table notebook</a>'\n",
              "            + ' to learn more about interactive tables.';\n",
              "          element.innerHTML = '';\n",
              "          dataTable['output_type'] = 'display_data';\n",
              "          await google.colab.output.renderOutput(dataTable, element);\n",
              "          const docLink = document.createElement('div');\n",
              "          docLink.innerHTML = docLinkHtml;\n",
              "          element.appendChild(docLink);\n",
              "        }\n",
              "      </script>\n",
              "    </div>\n",
              "  </div>\n",
              "  "
            ]
          },
          "metadata": {},
          "execution_count": 4
        }
      ]
    },
    {
      "cell_type": "markdown",
      "source": [
        "**Data Pre-processing**"
      ],
      "metadata": {
        "id": "9fS4hhUPBRmf"
      }
    },
    {
      "cell_type": "code",
      "source": [
        "dataset = dataset.iloc[::-1]\n",
        "dataset.head()"
      ],
      "metadata": {
        "execution": {
          "iopub.status.busy": "2022-05-02T19:12:09.560449Z",
          "iopub.execute_input": "2022-05-02T19:12:09.562560Z",
          "iopub.status.idle": "2022-05-02T19:12:09.582701Z",
          "shell.execute_reply.started": "2022-05-02T19:12:09.562521Z",
          "shell.execute_reply": "2022-05-02T19:12:09.582126Z"
        },
        "trusted": true,
        "colab": {
          "base_uri": "https://localhost:8080/",
          "height": 237
        },
        "id": "_FGUdSwzDq3V",
        "outputId": "0fab31cf-cbf7-432f-bb4b-68a130c1a71a"
      },
      "execution_count": null,
      "outputs": [
        {
          "output_type": "execute_result",
          "data": {
            "text/plain": [
              "                     Unix Timestamp  Symbol   Open   High   Low  Close  \\\n",
              "Date                                                                     \n",
              "2016-05-09 13:00:00      1462798800  ETHUSD   0.00  12.00  0.00   9.55   \n",
              "2016-05-09 14:00:00      1462802400  ETHUSD   9.55  10.00  9.55  10.00   \n",
              "2016-05-09 15:00:00      1462806000  ETHUSD  10.00  10.00  9.99   9.99   \n",
              "2016-05-09 16:00:00      1462809600  ETHUSD   9.99   9.99  9.79   9.83   \n",
              "2016-05-09 17:00:00      1462813200  ETHUSD   9.83   9.83  9.48   9.49   \n",
              "\n",
              "                         Volume  \n",
              "Date                             \n",
              "2016-05-09 13:00:00  432.562115  \n",
              "2016-05-09 14:00:00  235.774075  \n",
              "2016-05-09 15:00:00   10.973567  \n",
              "2016-05-09 16:00:00   62.379450  \n",
              "2016-05-09 17:00:00  329.553213  "
            ],
            "text/html": [
              "\n",
              "  <div id=\"df-c362b33a-9ce7-4296-be72-966ddda3d533\">\n",
              "    <div class=\"colab-df-container\">\n",
              "      <div>\n",
              "<style scoped>\n",
              "    .dataframe tbody tr th:only-of-type {\n",
              "        vertical-align: middle;\n",
              "    }\n",
              "\n",
              "    .dataframe tbody tr th {\n",
              "        vertical-align: top;\n",
              "    }\n",
              "\n",
              "    .dataframe thead th {\n",
              "        text-align: right;\n",
              "    }\n",
              "</style>\n",
              "<table border=\"1\" class=\"dataframe\">\n",
              "  <thead>\n",
              "    <tr style=\"text-align: right;\">\n",
              "      <th></th>\n",
              "      <th>Unix Timestamp</th>\n",
              "      <th>Symbol</th>\n",
              "      <th>Open</th>\n",
              "      <th>High</th>\n",
              "      <th>Low</th>\n",
              "      <th>Close</th>\n",
              "      <th>Volume</th>\n",
              "    </tr>\n",
              "    <tr>\n",
              "      <th>Date</th>\n",
              "      <th></th>\n",
              "      <th></th>\n",
              "      <th></th>\n",
              "      <th></th>\n",
              "      <th></th>\n",
              "      <th></th>\n",
              "      <th></th>\n",
              "    </tr>\n",
              "  </thead>\n",
              "  <tbody>\n",
              "    <tr>\n",
              "      <th>2016-05-09 13:00:00</th>\n",
              "      <td>1462798800</td>\n",
              "      <td>ETHUSD</td>\n",
              "      <td>0.00</td>\n",
              "      <td>12.00</td>\n",
              "      <td>0.00</td>\n",
              "      <td>9.55</td>\n",
              "      <td>432.562115</td>\n",
              "    </tr>\n",
              "    <tr>\n",
              "      <th>2016-05-09 14:00:00</th>\n",
              "      <td>1462802400</td>\n",
              "      <td>ETHUSD</td>\n",
              "      <td>9.55</td>\n",
              "      <td>10.00</td>\n",
              "      <td>9.55</td>\n",
              "      <td>10.00</td>\n",
              "      <td>235.774075</td>\n",
              "    </tr>\n",
              "    <tr>\n",
              "      <th>2016-05-09 15:00:00</th>\n",
              "      <td>1462806000</td>\n",
              "      <td>ETHUSD</td>\n",
              "      <td>10.00</td>\n",
              "      <td>10.00</td>\n",
              "      <td>9.99</td>\n",
              "      <td>9.99</td>\n",
              "      <td>10.973567</td>\n",
              "    </tr>\n",
              "    <tr>\n",
              "      <th>2016-05-09 16:00:00</th>\n",
              "      <td>1462809600</td>\n",
              "      <td>ETHUSD</td>\n",
              "      <td>9.99</td>\n",
              "      <td>9.99</td>\n",
              "      <td>9.79</td>\n",
              "      <td>9.83</td>\n",
              "      <td>62.379450</td>\n",
              "    </tr>\n",
              "    <tr>\n",
              "      <th>2016-05-09 17:00:00</th>\n",
              "      <td>1462813200</td>\n",
              "      <td>ETHUSD</td>\n",
              "      <td>9.83</td>\n",
              "      <td>9.83</td>\n",
              "      <td>9.48</td>\n",
              "      <td>9.49</td>\n",
              "      <td>329.553213</td>\n",
              "    </tr>\n",
              "  </tbody>\n",
              "</table>\n",
              "</div>\n",
              "      <button class=\"colab-df-convert\" onclick=\"convertToInteractive('df-c362b33a-9ce7-4296-be72-966ddda3d533')\"\n",
              "              title=\"Convert this dataframe to an interactive table.\"\n",
              "              style=\"display:none;\">\n",
              "        \n",
              "  <svg xmlns=\"http://www.w3.org/2000/svg\" height=\"24px\"viewBox=\"0 0 24 24\"\n",
              "       width=\"24px\">\n",
              "    <path d=\"M0 0h24v24H0V0z\" fill=\"none\"/>\n",
              "    <path d=\"M18.56 5.44l.94 2.06.94-2.06 2.06-.94-2.06-.94-.94-2.06-.94 2.06-2.06.94zm-11 1L8.5 8.5l.94-2.06 2.06-.94-2.06-.94L8.5 2.5l-.94 2.06-2.06.94zm10 10l.94 2.06.94-2.06 2.06-.94-2.06-.94-.94-2.06-.94 2.06-2.06.94z\"/><path d=\"M17.41 7.96l-1.37-1.37c-.4-.4-.92-.59-1.43-.59-.52 0-1.04.2-1.43.59L10.3 9.45l-7.72 7.72c-.78.78-.78 2.05 0 2.83L4 21.41c.39.39.9.59 1.41.59.51 0 1.02-.2 1.41-.59l7.78-7.78 2.81-2.81c.8-.78.8-2.07 0-2.86zM5.41 20L4 18.59l7.72-7.72 1.47 1.35L5.41 20z\"/>\n",
              "  </svg>\n",
              "      </button>\n",
              "      \n",
              "  <style>\n",
              "    .colab-df-container {\n",
              "      display:flex;\n",
              "      flex-wrap:wrap;\n",
              "      gap: 12px;\n",
              "    }\n",
              "\n",
              "    .colab-df-convert {\n",
              "      background-color: #E8F0FE;\n",
              "      border: none;\n",
              "      border-radius: 50%;\n",
              "      cursor: pointer;\n",
              "      display: none;\n",
              "      fill: #1967D2;\n",
              "      height: 32px;\n",
              "      padding: 0 0 0 0;\n",
              "      width: 32px;\n",
              "    }\n",
              "\n",
              "    .colab-df-convert:hover {\n",
              "      background-color: #E2EBFA;\n",
              "      box-shadow: 0px 1px 2px rgba(60, 64, 67, 0.3), 0px 1px 3px 1px rgba(60, 64, 67, 0.15);\n",
              "      fill: #174EA6;\n",
              "    }\n",
              "\n",
              "    [theme=dark] .colab-df-convert {\n",
              "      background-color: #3B4455;\n",
              "      fill: #D2E3FC;\n",
              "    }\n",
              "\n",
              "    [theme=dark] .colab-df-convert:hover {\n",
              "      background-color: #434B5C;\n",
              "      box-shadow: 0px 1px 3px 1px rgba(0, 0, 0, 0.15);\n",
              "      filter: drop-shadow(0px 1px 2px rgba(0, 0, 0, 0.3));\n",
              "      fill: #FFFFFF;\n",
              "    }\n",
              "  </style>\n",
              "\n",
              "      <script>\n",
              "        const buttonEl =\n",
              "          document.querySelector('#df-c362b33a-9ce7-4296-be72-966ddda3d533 button.colab-df-convert');\n",
              "        buttonEl.style.display =\n",
              "          google.colab.kernel.accessAllowed ? 'block' : 'none';\n",
              "\n",
              "        async function convertToInteractive(key) {\n",
              "          const element = document.querySelector('#df-c362b33a-9ce7-4296-be72-966ddda3d533');\n",
              "          const dataTable =\n",
              "            await google.colab.kernel.invokeFunction('convertToInteractive',\n",
              "                                                     [key], {});\n",
              "          if (!dataTable) return;\n",
              "\n",
              "          const docLinkHtml = 'Like what you see? Visit the ' +\n",
              "            '<a target=\"_blank\" href=https://colab.research.google.com/notebooks/data_table.ipynb>data table notebook</a>'\n",
              "            + ' to learn more about interactive tables.';\n",
              "          element.innerHTML = '';\n",
              "          dataTable['output_type'] = 'display_data';\n",
              "          await google.colab.output.renderOutput(dataTable, element);\n",
              "          const docLink = document.createElement('div');\n",
              "          docLink.innerHTML = docLinkHtml;\n",
              "          element.appendChild(docLink);\n",
              "        }\n",
              "      </script>\n",
              "    </div>\n",
              "  </div>\n",
              "  "
            ]
          },
          "metadata": {},
          "execution_count": 5
        }
      ]
    },
    {
      "cell_type": "code",
      "source": [
        "df = dataset.reset_index()\n",
        "df"
      ],
      "metadata": {
        "execution": {
          "iopub.status.busy": "2022-05-02T19:12:09.586046Z",
          "iopub.execute_input": "2022-05-02T19:12:09.586597Z",
          "iopub.status.idle": "2022-05-02T19:12:09.615996Z",
          "shell.execute_reply.started": "2022-05-02T19:12:09.586563Z",
          "shell.execute_reply": "2022-05-02T19:12:09.615428Z"
        },
        "trusted": true,
        "colab": {
          "base_uri": "https://localhost:8080/",
          "height": 423
        },
        "id": "64UhXOQYDq3V",
        "outputId": "25b58c1e-b8a0-4c8d-f739-bfbac0f5bee6"
      },
      "execution_count": null,
      "outputs": [
        {
          "output_type": "execute_result",
          "data": {
            "text/plain": [
              "                      Date  Unix Timestamp  Symbol     Open     High      Low  \\\n",
              "0      2016-05-09 13:00:00      1462798800  ETHUSD     0.00    12.00     0.00   \n",
              "1      2016-05-09 14:00:00      1462802400  ETHUSD     9.55    10.00     9.55   \n",
              "2      2016-05-09 15:00:00      1462806000  ETHUSD    10.00    10.00     9.99   \n",
              "3      2016-05-09 16:00:00      1462809600  ETHUSD     9.99     9.99     9.79   \n",
              "4      2016-05-09 17:00:00      1462813200  ETHUSD     9.83     9.83     9.48   \n",
              "...                    ...             ...     ...      ...      ...      ...   \n",
              "52256  2022-04-26 00:00:00   1650931200000  ETHUSD  3006.82  3036.40  3006.82   \n",
              "52257  2022-04-26 01:00:00   1650934800000  ETHUSD  3010.63  3016.25  3003.48   \n",
              "52258  2022-04-26 02:00:00   1650938400000  ETHUSD  3003.49  3006.65  2985.92   \n",
              "52259  2022-04-26 03:00:00   1650942000000  ETHUSD  2999.07  3005.78  2997.79   \n",
              "52260  2022-04-26 04:00:00   1650945600000  ETHUSD  3001.21  3003.87  2998.17   \n",
              "\n",
              "         Close      Volume  \n",
              "0         9.55  432.562115  \n",
              "1        10.00  235.774075  \n",
              "2         9.99   10.973567  \n",
              "3         9.83   62.379450  \n",
              "4         9.49  329.553213  \n",
              "...        ...         ...  \n",
              "52256  3010.63  438.109320  \n",
              "52257  3003.49  315.646260  \n",
              "52258  2999.07  183.246060  \n",
              "52259  3001.21  103.177377  \n",
              "52260  3001.47   88.811435  \n",
              "\n",
              "[52261 rows x 8 columns]"
            ],
            "text/html": [
              "\n",
              "  <div id=\"df-75933a09-19b4-44b8-ac1c-60b55c437ac2\">\n",
              "    <div class=\"colab-df-container\">\n",
              "      <div>\n",
              "<style scoped>\n",
              "    .dataframe tbody tr th:only-of-type {\n",
              "        vertical-align: middle;\n",
              "    }\n",
              "\n",
              "    .dataframe tbody tr th {\n",
              "        vertical-align: top;\n",
              "    }\n",
              "\n",
              "    .dataframe thead th {\n",
              "        text-align: right;\n",
              "    }\n",
              "</style>\n",
              "<table border=\"1\" class=\"dataframe\">\n",
              "  <thead>\n",
              "    <tr style=\"text-align: right;\">\n",
              "      <th></th>\n",
              "      <th>Date</th>\n",
              "      <th>Unix Timestamp</th>\n",
              "      <th>Symbol</th>\n",
              "      <th>Open</th>\n",
              "      <th>High</th>\n",
              "      <th>Low</th>\n",
              "      <th>Close</th>\n",
              "      <th>Volume</th>\n",
              "    </tr>\n",
              "  </thead>\n",
              "  <tbody>\n",
              "    <tr>\n",
              "      <th>0</th>\n",
              "      <td>2016-05-09 13:00:00</td>\n",
              "      <td>1462798800</td>\n",
              "      <td>ETHUSD</td>\n",
              "      <td>0.00</td>\n",
              "      <td>12.00</td>\n",
              "      <td>0.00</td>\n",
              "      <td>9.55</td>\n",
              "      <td>432.562115</td>\n",
              "    </tr>\n",
              "    <tr>\n",
              "      <th>1</th>\n",
              "      <td>2016-05-09 14:00:00</td>\n",
              "      <td>1462802400</td>\n",
              "      <td>ETHUSD</td>\n",
              "      <td>9.55</td>\n",
              "      <td>10.00</td>\n",
              "      <td>9.55</td>\n",
              "      <td>10.00</td>\n",
              "      <td>235.774075</td>\n",
              "    </tr>\n",
              "    <tr>\n",
              "      <th>2</th>\n",
              "      <td>2016-05-09 15:00:00</td>\n",
              "      <td>1462806000</td>\n",
              "      <td>ETHUSD</td>\n",
              "      <td>10.00</td>\n",
              "      <td>10.00</td>\n",
              "      <td>9.99</td>\n",
              "      <td>9.99</td>\n",
              "      <td>10.973567</td>\n",
              "    </tr>\n",
              "    <tr>\n",
              "      <th>3</th>\n",
              "      <td>2016-05-09 16:00:00</td>\n",
              "      <td>1462809600</td>\n",
              "      <td>ETHUSD</td>\n",
              "      <td>9.99</td>\n",
              "      <td>9.99</td>\n",
              "      <td>9.79</td>\n",
              "      <td>9.83</td>\n",
              "      <td>62.379450</td>\n",
              "    </tr>\n",
              "    <tr>\n",
              "      <th>4</th>\n",
              "      <td>2016-05-09 17:00:00</td>\n",
              "      <td>1462813200</td>\n",
              "      <td>ETHUSD</td>\n",
              "      <td>9.83</td>\n",
              "      <td>9.83</td>\n",
              "      <td>9.48</td>\n",
              "      <td>9.49</td>\n",
              "      <td>329.553213</td>\n",
              "    </tr>\n",
              "    <tr>\n",
              "      <th>...</th>\n",
              "      <td>...</td>\n",
              "      <td>...</td>\n",
              "      <td>...</td>\n",
              "      <td>...</td>\n",
              "      <td>...</td>\n",
              "      <td>...</td>\n",
              "      <td>...</td>\n",
              "      <td>...</td>\n",
              "    </tr>\n",
              "    <tr>\n",
              "      <th>52256</th>\n",
              "      <td>2022-04-26 00:00:00</td>\n",
              "      <td>1650931200000</td>\n",
              "      <td>ETHUSD</td>\n",
              "      <td>3006.82</td>\n",
              "      <td>3036.40</td>\n",
              "      <td>3006.82</td>\n",
              "      <td>3010.63</td>\n",
              "      <td>438.109320</td>\n",
              "    </tr>\n",
              "    <tr>\n",
              "      <th>52257</th>\n",
              "      <td>2022-04-26 01:00:00</td>\n",
              "      <td>1650934800000</td>\n",
              "      <td>ETHUSD</td>\n",
              "      <td>3010.63</td>\n",
              "      <td>3016.25</td>\n",
              "      <td>3003.48</td>\n",
              "      <td>3003.49</td>\n",
              "      <td>315.646260</td>\n",
              "    </tr>\n",
              "    <tr>\n",
              "      <th>52258</th>\n",
              "      <td>2022-04-26 02:00:00</td>\n",
              "      <td>1650938400000</td>\n",
              "      <td>ETHUSD</td>\n",
              "      <td>3003.49</td>\n",
              "      <td>3006.65</td>\n",
              "      <td>2985.92</td>\n",
              "      <td>2999.07</td>\n",
              "      <td>183.246060</td>\n",
              "    </tr>\n",
              "    <tr>\n",
              "      <th>52259</th>\n",
              "      <td>2022-04-26 03:00:00</td>\n",
              "      <td>1650942000000</td>\n",
              "      <td>ETHUSD</td>\n",
              "      <td>2999.07</td>\n",
              "      <td>3005.78</td>\n",
              "      <td>2997.79</td>\n",
              "      <td>3001.21</td>\n",
              "      <td>103.177377</td>\n",
              "    </tr>\n",
              "    <tr>\n",
              "      <th>52260</th>\n",
              "      <td>2022-04-26 04:00:00</td>\n",
              "      <td>1650945600000</td>\n",
              "      <td>ETHUSD</td>\n",
              "      <td>3001.21</td>\n",
              "      <td>3003.87</td>\n",
              "      <td>2998.17</td>\n",
              "      <td>3001.47</td>\n",
              "      <td>88.811435</td>\n",
              "    </tr>\n",
              "  </tbody>\n",
              "</table>\n",
              "<p>52261 rows × 8 columns</p>\n",
              "</div>\n",
              "      <button class=\"colab-df-convert\" onclick=\"convertToInteractive('df-75933a09-19b4-44b8-ac1c-60b55c437ac2')\"\n",
              "              title=\"Convert this dataframe to an interactive table.\"\n",
              "              style=\"display:none;\">\n",
              "        \n",
              "  <svg xmlns=\"http://www.w3.org/2000/svg\" height=\"24px\"viewBox=\"0 0 24 24\"\n",
              "       width=\"24px\">\n",
              "    <path d=\"M0 0h24v24H0V0z\" fill=\"none\"/>\n",
              "    <path d=\"M18.56 5.44l.94 2.06.94-2.06 2.06-.94-2.06-.94-.94-2.06-.94 2.06-2.06.94zm-11 1L8.5 8.5l.94-2.06 2.06-.94-2.06-.94L8.5 2.5l-.94 2.06-2.06.94zm10 10l.94 2.06.94-2.06 2.06-.94-2.06-.94-.94-2.06-.94 2.06-2.06.94z\"/><path d=\"M17.41 7.96l-1.37-1.37c-.4-.4-.92-.59-1.43-.59-.52 0-1.04.2-1.43.59L10.3 9.45l-7.72 7.72c-.78.78-.78 2.05 0 2.83L4 21.41c.39.39.9.59 1.41.59.51 0 1.02-.2 1.41-.59l7.78-7.78 2.81-2.81c.8-.78.8-2.07 0-2.86zM5.41 20L4 18.59l7.72-7.72 1.47 1.35L5.41 20z\"/>\n",
              "  </svg>\n",
              "      </button>\n",
              "      \n",
              "  <style>\n",
              "    .colab-df-container {\n",
              "      display:flex;\n",
              "      flex-wrap:wrap;\n",
              "      gap: 12px;\n",
              "    }\n",
              "\n",
              "    .colab-df-convert {\n",
              "      background-color: #E8F0FE;\n",
              "      border: none;\n",
              "      border-radius: 50%;\n",
              "      cursor: pointer;\n",
              "      display: none;\n",
              "      fill: #1967D2;\n",
              "      height: 32px;\n",
              "      padding: 0 0 0 0;\n",
              "      width: 32px;\n",
              "    }\n",
              "\n",
              "    .colab-df-convert:hover {\n",
              "      background-color: #E2EBFA;\n",
              "      box-shadow: 0px 1px 2px rgba(60, 64, 67, 0.3), 0px 1px 3px 1px rgba(60, 64, 67, 0.15);\n",
              "      fill: #174EA6;\n",
              "    }\n",
              "\n",
              "    [theme=dark] .colab-df-convert {\n",
              "      background-color: #3B4455;\n",
              "      fill: #D2E3FC;\n",
              "    }\n",
              "\n",
              "    [theme=dark] .colab-df-convert:hover {\n",
              "      background-color: #434B5C;\n",
              "      box-shadow: 0px 1px 3px 1px rgba(0, 0, 0, 0.15);\n",
              "      filter: drop-shadow(0px 1px 2px rgba(0, 0, 0, 0.3));\n",
              "      fill: #FFFFFF;\n",
              "    }\n",
              "  </style>\n",
              "\n",
              "      <script>\n",
              "        const buttonEl =\n",
              "          document.querySelector('#df-75933a09-19b4-44b8-ac1c-60b55c437ac2 button.colab-df-convert');\n",
              "        buttonEl.style.display =\n",
              "          google.colab.kernel.accessAllowed ? 'block' : 'none';\n",
              "\n",
              "        async function convertToInteractive(key) {\n",
              "          const element = document.querySelector('#df-75933a09-19b4-44b8-ac1c-60b55c437ac2');\n",
              "          const dataTable =\n",
              "            await google.colab.kernel.invokeFunction('convertToInteractive',\n",
              "                                                     [key], {});\n",
              "          if (!dataTable) return;\n",
              "\n",
              "          const docLinkHtml = 'Like what you see? Visit the ' +\n",
              "            '<a target=\"_blank\" href=https://colab.research.google.com/notebooks/data_table.ipynb>data table notebook</a>'\n",
              "            + ' to learn more about interactive tables.';\n",
              "          element.innerHTML = '';\n",
              "          dataTable['output_type'] = 'display_data';\n",
              "          await google.colab.output.renderOutput(dataTable, element);\n",
              "          const docLink = document.createElement('div');\n",
              "          docLink.innerHTML = docLinkHtml;\n",
              "          element.appendChild(docLink);\n",
              "        }\n",
              "      </script>\n",
              "    </div>\n",
              "  </div>\n",
              "  "
            ]
          },
          "metadata": {},
          "execution_count": 6
        }
      ]
    },
    {
      "cell_type": "code",
      "source": [
        "df = df[[\"Open\", \"High\", \"Low\", \"Close\",\"Volume\"]]\n",
        "#df = df[['Close']]\n",
        "df.head()"
      ],
      "metadata": {
        "execution": {
          "iopub.status.busy": "2022-05-02T19:12:09.619528Z",
          "iopub.execute_input": "2022-05-02T19:12:09.619973Z",
          "iopub.status.idle": "2022-05-02T19:12:09.642804Z",
          "shell.execute_reply.started": "2022-05-02T19:12:09.619937Z",
          "shell.execute_reply": "2022-05-02T19:12:09.642213Z"
        },
        "trusted": true,
        "colab": {
          "base_uri": "https://localhost:8080/",
          "height": 206
        },
        "id": "nGJCb1jvDq3W",
        "outputId": "6a24931d-c12a-4b14-8b5a-86b80adfec0d"
      },
      "execution_count": null,
      "outputs": [
        {
          "output_type": "execute_result",
          "data": {
            "text/plain": [
              "    Open   High   Low  Close      Volume\n",
              "0   0.00  12.00  0.00   9.55  432.562115\n",
              "1   9.55  10.00  9.55  10.00  235.774075\n",
              "2  10.00  10.00  9.99   9.99   10.973567\n",
              "3   9.99   9.99  9.79   9.83   62.379450\n",
              "4   9.83   9.83  9.48   9.49  329.553213"
            ],
            "text/html": [
              "\n",
              "  <div id=\"df-4c14d6a1-6745-4a8d-a6d3-1fb675363469\">\n",
              "    <div class=\"colab-df-container\">\n",
              "      <div>\n",
              "<style scoped>\n",
              "    .dataframe tbody tr th:only-of-type {\n",
              "        vertical-align: middle;\n",
              "    }\n",
              "\n",
              "    .dataframe tbody tr th {\n",
              "        vertical-align: top;\n",
              "    }\n",
              "\n",
              "    .dataframe thead th {\n",
              "        text-align: right;\n",
              "    }\n",
              "</style>\n",
              "<table border=\"1\" class=\"dataframe\">\n",
              "  <thead>\n",
              "    <tr style=\"text-align: right;\">\n",
              "      <th></th>\n",
              "      <th>Open</th>\n",
              "      <th>High</th>\n",
              "      <th>Low</th>\n",
              "      <th>Close</th>\n",
              "      <th>Volume</th>\n",
              "    </tr>\n",
              "  </thead>\n",
              "  <tbody>\n",
              "    <tr>\n",
              "      <th>0</th>\n",
              "      <td>0.00</td>\n",
              "      <td>12.00</td>\n",
              "      <td>0.00</td>\n",
              "      <td>9.55</td>\n",
              "      <td>432.562115</td>\n",
              "    </tr>\n",
              "    <tr>\n",
              "      <th>1</th>\n",
              "      <td>9.55</td>\n",
              "      <td>10.00</td>\n",
              "      <td>9.55</td>\n",
              "      <td>10.00</td>\n",
              "      <td>235.774075</td>\n",
              "    </tr>\n",
              "    <tr>\n",
              "      <th>2</th>\n",
              "      <td>10.00</td>\n",
              "      <td>10.00</td>\n",
              "      <td>9.99</td>\n",
              "      <td>9.99</td>\n",
              "      <td>10.973567</td>\n",
              "    </tr>\n",
              "    <tr>\n",
              "      <th>3</th>\n",
              "      <td>9.99</td>\n",
              "      <td>9.99</td>\n",
              "      <td>9.79</td>\n",
              "      <td>9.83</td>\n",
              "      <td>62.379450</td>\n",
              "    </tr>\n",
              "    <tr>\n",
              "      <th>4</th>\n",
              "      <td>9.83</td>\n",
              "      <td>9.83</td>\n",
              "      <td>9.48</td>\n",
              "      <td>9.49</td>\n",
              "      <td>329.553213</td>\n",
              "    </tr>\n",
              "  </tbody>\n",
              "</table>\n",
              "</div>\n",
              "      <button class=\"colab-df-convert\" onclick=\"convertToInteractive('df-4c14d6a1-6745-4a8d-a6d3-1fb675363469')\"\n",
              "              title=\"Convert this dataframe to an interactive table.\"\n",
              "              style=\"display:none;\">\n",
              "        \n",
              "  <svg xmlns=\"http://www.w3.org/2000/svg\" height=\"24px\"viewBox=\"0 0 24 24\"\n",
              "       width=\"24px\">\n",
              "    <path d=\"M0 0h24v24H0V0z\" fill=\"none\"/>\n",
              "    <path d=\"M18.56 5.44l.94 2.06.94-2.06 2.06-.94-2.06-.94-.94-2.06-.94 2.06-2.06.94zm-11 1L8.5 8.5l.94-2.06 2.06-.94-2.06-.94L8.5 2.5l-.94 2.06-2.06.94zm10 10l.94 2.06.94-2.06 2.06-.94-2.06-.94-.94-2.06-.94 2.06-2.06.94z\"/><path d=\"M17.41 7.96l-1.37-1.37c-.4-.4-.92-.59-1.43-.59-.52 0-1.04.2-1.43.59L10.3 9.45l-7.72 7.72c-.78.78-.78 2.05 0 2.83L4 21.41c.39.39.9.59 1.41.59.51 0 1.02-.2 1.41-.59l7.78-7.78 2.81-2.81c.8-.78.8-2.07 0-2.86zM5.41 20L4 18.59l7.72-7.72 1.47 1.35L5.41 20z\"/>\n",
              "  </svg>\n",
              "      </button>\n",
              "      \n",
              "  <style>\n",
              "    .colab-df-container {\n",
              "      display:flex;\n",
              "      flex-wrap:wrap;\n",
              "      gap: 12px;\n",
              "    }\n",
              "\n",
              "    .colab-df-convert {\n",
              "      background-color: #E8F0FE;\n",
              "      border: none;\n",
              "      border-radius: 50%;\n",
              "      cursor: pointer;\n",
              "      display: none;\n",
              "      fill: #1967D2;\n",
              "      height: 32px;\n",
              "      padding: 0 0 0 0;\n",
              "      width: 32px;\n",
              "    }\n",
              "\n",
              "    .colab-df-convert:hover {\n",
              "      background-color: #E2EBFA;\n",
              "      box-shadow: 0px 1px 2px rgba(60, 64, 67, 0.3), 0px 1px 3px 1px rgba(60, 64, 67, 0.15);\n",
              "      fill: #174EA6;\n",
              "    }\n",
              "\n",
              "    [theme=dark] .colab-df-convert {\n",
              "      background-color: #3B4455;\n",
              "      fill: #D2E3FC;\n",
              "    }\n",
              "\n",
              "    [theme=dark] .colab-df-convert:hover {\n",
              "      background-color: #434B5C;\n",
              "      box-shadow: 0px 1px 3px 1px rgba(0, 0, 0, 0.15);\n",
              "      filter: drop-shadow(0px 1px 2px rgba(0, 0, 0, 0.3));\n",
              "      fill: #FFFFFF;\n",
              "    }\n",
              "  </style>\n",
              "\n",
              "      <script>\n",
              "        const buttonEl =\n",
              "          document.querySelector('#df-4c14d6a1-6745-4a8d-a6d3-1fb675363469 button.colab-df-convert');\n",
              "        buttonEl.style.display =\n",
              "          google.colab.kernel.accessAllowed ? 'block' : 'none';\n",
              "\n",
              "        async function convertToInteractive(key) {\n",
              "          const element = document.querySelector('#df-4c14d6a1-6745-4a8d-a6d3-1fb675363469');\n",
              "          const dataTable =\n",
              "            await google.colab.kernel.invokeFunction('convertToInteractive',\n",
              "                                                     [key], {});\n",
              "          if (!dataTable) return;\n",
              "\n",
              "          const docLinkHtml = 'Like what you see? Visit the ' +\n",
              "            '<a target=\"_blank\" href=https://colab.research.google.com/notebooks/data_table.ipynb>data table notebook</a>'\n",
              "            + ' to learn more about interactive tables.';\n",
              "          element.innerHTML = '';\n",
              "          dataTable['output_type'] = 'display_data';\n",
              "          await google.colab.output.renderOutput(dataTable, element);\n",
              "          const docLink = document.createElement('div');\n",
              "          docLink.innerHTML = docLinkHtml;\n",
              "          element.appendChild(docLink);\n",
              "        }\n",
              "      </script>\n",
              "    </div>\n",
              "  </div>\n",
              "  "
            ]
          },
          "metadata": {},
          "execution_count": 7
        }
      ]
    },
    {
      "cell_type": "code",
      "source": [
        "plt.figure(figsize=(12,6))\n",
        "sns.lineplot(x=df.index, y='Close', data=df).set_title(\"Price of Ethereum\")"
      ],
      "metadata": {
        "execution": {
          "iopub.status.busy": "2022-05-02T19:12:09.643883Z",
          "iopub.execute_input": "2022-05-02T19:12:09.644225Z",
          "iopub.status.idle": "2022-05-02T19:12:11.397781Z",
          "shell.execute_reply.started": "2022-05-02T19:12:09.644184Z",
          "shell.execute_reply": "2022-05-02T19:12:11.397118Z"
        },
        "trusted": true,
        "colab": {
          "base_uri": "https://localhost:8080/",
          "height": 407
        },
        "id": "NAIXrsm8Dq3W",
        "outputId": "eaad0cb9-80f6-459e-e3d9-7eab3fea6d65"
      },
      "execution_count": null,
      "outputs": [
        {
          "output_type": "execute_result",
          "data": {
            "text/plain": [
              "Text(0.5, 1.0, 'Price of Ethereum')"
            ]
          },
          "metadata": {},
          "execution_count": 8
        },
        {
          "output_type": "display_data",
          "data": {
            "text/plain": [
              "<Figure size 864x432 with 1 Axes>"
            ],
            "image/png": "[encoded data removed]"
          },
          "metadata": {
            "needs_background": "light"
          }
        }
      ]
    },
    {
      "cell_type": "code",
      "source": [
        "SEQ_LEN = 120\n",
        "FUTURE_PERIOD = 10\n",
        "\n",
        "RATIO_TO_PREDICT = \"Close\""
      ],
      "metadata": {
        "execution": {
          "iopub.status.busy": "2022-05-02T19:12:11.399048Z",
          "iopub.execute_input": "2022-05-02T19:12:11.399462Z",
          "iopub.status.idle": "2022-05-02T19:12:11.403358Z",
          "shell.execute_reply.started": "2022-05-02T19:12:11.399424Z",
          "shell.execute_reply": "2022-05-02T19:12:11.402689Z"
        },
        "trusted": true,
        "id": "YG4L6sdnDq3X"
      },
      "execution_count": null,
      "outputs": []
    },
    {
      "cell_type": "code",
      "source": [
        "times = sorted(df.index.values)  # get the times\n",
        "last_10 = sorted(df.index.values)[-int(0.1*len(times))] \n",
        "last_20 = sorted(df.index.values)[-int(0.2*len(times))]\n",
        "\n",
        "test_df = df[(df.index >= last_10)]\n",
        "validation_df = df[(df.index >= last_20) & (df.index < last_10)]  \n",
        "train_df = df[(df.index < last_20)] "
      ],
      "metadata": {
        "execution": {
          "iopub.status.busy": "2022-05-02T19:12:11.406134Z",
          "iopub.execute_input": "2022-05-02T19:12:11.406650Z",
          "iopub.status.idle": "2022-05-02T19:12:11.435716Z",
          "shell.execute_reply.started": "2022-05-02T19:12:11.406514Z",
          "shell.execute_reply": "2022-05-02T19:12:11.435116Z"
        },
        "trusted": true,
        "id": "RDH87kGADq3X"
      },
      "execution_count": null,
      "outputs": []
    },
    {
      "cell_type": "code",
      "source": [
        "train_ = train_df.values\n",
        "valid_ = validation_df.values\n",
        "test_ = test_df.values"
      ],
      "metadata": {
        "execution": {
          "iopub.status.busy": "2022-05-02T19:12:11.436833Z",
          "iopub.execute_input": "2022-05-02T19:12:11.437072Z",
          "iopub.status.idle": "2022-05-02T19:12:11.440953Z",
          "shell.execute_reply.started": "2022-05-02T19:12:11.437038Z",
          "shell.execute_reply": "2022-05-02T19:12:11.440177Z"
        },
        "trusted": true,
        "id": "mczbvp_9Dq3Y"
      },
      "execution_count": null,
      "outputs": []
    },
    {
      "cell_type": "code",
      "source": [
        "print(\"train shape {0}\".format(train_.shape))\n",
        "print(\"valid shape {0}\".format(valid_.shape))\n",
        "print(\"test shape {0}\".format(test_.shape))"
      ],
      "metadata": {
        "execution": {
          "iopub.status.busy": "2022-05-02T19:12:11.442452Z",
          "iopub.execute_input": "2022-05-02T19:12:11.442708Z",
          "iopub.status.idle": "2022-05-02T19:12:11.451855Z",
          "shell.execute_reply.started": "2022-05-02T19:12:11.442676Z",
          "shell.execute_reply": "2022-05-02T19:12:11.450837Z"
        },
        "trusted": true,
        "colab": {
          "base_uri": "https://localhost:8080/"
        },
        "id": "EDVOmmdIDq3Y",
        "outputId": "eef93c7f-c2e9-4975-b0fc-18c41d4dd289"
      },
      "execution_count": null,
      "outputs": [
        {
          "output_type": "stream",
          "name": "stdout",
          "text": [
            "train shape (41809, 5)\n",
            "valid shape (5226, 5)\n",
            "test shape (5226, 5)\n"
          ]
        }
      ]
    },
    {
      "cell_type": "code",
      "source": [
        "from sklearn.preprocessing import MinMaxScaler\n",
        "scaler = MinMaxScaler()\n",
        "scale_close = MinMaxScaler()"
      ],
      "metadata": {
        "execution": {
          "iopub.status.busy": "2022-05-02T19:12:11.453142Z",
          "iopub.execute_input": "2022-05-02T19:12:11.453516Z",
          "iopub.status.idle": "2022-05-02T19:12:11.575322Z",
          "shell.execute_reply.started": "2022-05-02T19:12:11.453423Z",
          "shell.execute_reply": "2022-05-02T19:12:11.574613Z"
        },
        "trusted": true,
        "id": "Dd1Mg7eYDq3a"
      },
      "execution_count": null,
      "outputs": []
    },
    {
      "cell_type": "code",
      "source": [
        "x = train_[:,3].copy()\n",
        "scale_close.fit(x.reshape(-1, 1))"
      ],
      "metadata": {
        "execution": {
          "iopub.status.busy": "2022-05-02T19:12:11.578249Z",
          "iopub.execute_input": "2022-05-02T19:12:11.578466Z",
          "iopub.status.idle": "2022-05-02T19:12:11.588412Z",
          "shell.execute_reply.started": "2022-05-02T19:12:11.578441Z",
          "shell.execute_reply": "2022-05-02T19:12:11.587610Z"
        },
        "trusted": true,
        "colab": {
          "base_uri": "https://localhost:8080/"
        },
        "id": "3yDTyLIPDq3a",
        "outputId": "b42191da-802d-48bf-f9dd-8dd8af39a9c6"
      },
      "execution_count": null,
      "outputs": [
        {
          "output_type": "execute_result",
          "data": {
            "text/plain": [
              "MinMaxScaler()"
            ]
          },
          "metadata": {},
          "execution_count": 14
        }
      ]
    },
    {
      "cell_type": "code",
      "source": [
        "scaler.fit(train_)\n",
        "\n",
        "train_ = scaler.transform(train_)\n",
        "\n",
        "valid_ = scaler.transform(valid_)\n",
        "test_ = scaler.transform(test_)"
      ],
      "metadata": {
        "execution": {
          "iopub.status.busy": "2022-05-02T19:12:11.589986Z",
          "iopub.execute_input": "2022-05-02T19:12:11.590232Z",
          "iopub.status.idle": "2022-05-02T19:12:11.598048Z",
          "shell.execute_reply.started": "2022-05-02T19:12:11.590199Z",
          "shell.execute_reply": "2022-05-02T19:12:11.597204Z"
        },
        "trusted": true,
        "id": "z5ovGbpvDq3b"
      },
      "execution_count": null,
      "outputs": []
    },
    {
      "cell_type": "code",
      "source": [
        "train_.shape[0]"
      ],
      "metadata": {
        "colab": {
          "base_uri": "https://localhost:8080/"
        },
        "id": "Q6pyE4loRG_A",
        "outputId": "fdabbb82-de30-47aa-9abc-458c3cc840b6"
      },
      "execution_count": null,
      "outputs": [
        {
          "output_type": "execute_result",
          "data": {
            "text/plain": [
              "41809"
            ]
          },
          "metadata": {},
          "execution_count": 16
        }
      ]
    },
    {
      "cell_type": "code",
      "source": [
        "# Now perform exponential moving average smoothing for smooth curve of data\n",
        "EMA = 0.0\n",
        "gamma = 0.165\n",
        "for ti in range(train_.shape[0]):\n",
        "    EMA = gamma*train_[ti] + (1-gamma)*EMA\n",
        "    train_[ti] = EMA\n",
        "\n",
        "# Used for visualization and test purposes\n",
        "all_mid_data = np.concatenate([train_,valid_, test_],axis=0)"
      ],
      "metadata": {
        "execution": {
          "iopub.status.busy": "2022-05-02T19:12:11.599465Z",
          "iopub.execute_input": "2022-05-02T19:12:11.599728Z",
          "iopub.status.idle": "2022-05-02T19:12:11.776702Z",
          "shell.execute_reply.started": "2022-05-02T19:12:11.599685Z",
          "shell.execute_reply": "2022-05-02T19:12:11.776045Z"
        },
        "trusted": true,
        "id": "VL7u1fF8Dq3c"
      },
      "execution_count": null,
      "outputs": []
    },
    {
      "cell_type": "markdown",
      "source": [
        "**Data Splitting**"
      ],
      "metadata": {
        "id": "F7vcb1iGpJ8c"
      }
    },
    {
      "cell_type": "code",
      "source": [
        "def split_data(data):\n",
        "    X = []\n",
        "    Y = []\n",
        "    for i in range(SEQ_LEN, len(data)-FUTURE_PERIOD+1):\n",
        "        X.append(data[i-SEQ_LEN:i])\n",
        "        Y.append(data[i+(FUTURE_PERIOD-1), 3])\n",
        "    return np.array(X), np.array(Y)"
      ],
      "metadata": {
        "execution": {
          "iopub.status.busy": "2022-05-02T19:12:11.778028Z",
          "iopub.execute_input": "2022-05-02T19:12:11.778275Z",
          "iopub.status.idle": "2022-05-02T19:12:11.783547Z",
          "shell.execute_reply.started": "2022-05-02T19:12:11.778240Z",
          "shell.execute_reply": "2022-05-02T19:12:11.782768Z"
        },
        "trusted": true,
        "id": "KdEJHuZIDq3c"
      },
      "execution_count": null,
      "outputs": []
    },
    {
      "cell_type": "code",
      "source": [
        "X_train, y_train = split_data(train_)\n",
        "X_test, y_test = split_data(test_)\n",
        "X_valid, y_valid = split_data(valid_)"
      ],
      "metadata": {
        "execution": {
          "iopub.status.busy": "2022-05-02T19:12:11.785079Z",
          "iopub.execute_input": "2022-05-02T19:12:11.785384Z",
          "iopub.status.idle": "2022-05-02T19:12:11.971992Z",
          "shell.execute_reply.started": "2022-05-02T19:12:11.785348Z",
          "shell.execute_reply": "2022-05-02T19:12:11.971282Z"
        },
        "trusted": true,
        "id": "Hz7N5X-mDq3c"
      },
      "execution_count": null,
      "outputs": []
    },
    {
      "cell_type": "code",
      "source": [
        "X_train = np.reshape(X_train, (X_train.shape[0], X_train.shape[1], 5))\n",
        "X_valid = np.reshape(X_valid, (X_valid.shape[0], X_valid.shape[1], 5))\n",
        "X_test = np.reshape(X_test, (X_test.shape[0], X_test.shape[1], 5))"
      ],
      "metadata": {
        "execution": {
          "iopub.status.busy": "2022-05-02T19:12:11.973453Z",
          "iopub.execute_input": "2022-05-02T19:12:11.973711Z",
          "iopub.status.idle": "2022-05-02T19:12:11.978811Z",
          "shell.execute_reply.started": "2022-05-02T19:12:11.973669Z",
          "shell.execute_reply": "2022-05-02T19:12:11.977862Z"
        },
        "trusted": true,
        "id": "FmgLWeLGDq3d"
      },
      "execution_count": null,
      "outputs": []
    },
    {
      "cell_type": "code",
      "source": [
        "y_train.shape"
      ],
      "metadata": {
        "execution": {
          "iopub.status.busy": "2022-05-02T19:12:11.979944Z",
          "iopub.execute_input": "2022-05-02T19:12:11.980737Z",
          "iopub.status.idle": "2022-05-02T19:12:11.990857Z",
          "shell.execute_reply.started": "2022-05-02T19:12:11.980701Z",
          "shell.execute_reply": "2022-05-02T19:12:11.990205Z"
        },
        "trusted": true,
        "colab": {
          "base_uri": "https://localhost:8080/"
        },
        "id": "rjv3K8L5Dq3d",
        "outputId": "6a8ca3e9-7614-42ed-ab96-859d72e028a0"
      },
      "execution_count": null,
      "outputs": [
        {
          "output_type": "execute_result",
          "data": {
            "text/plain": [
              "(41680,)"
            ]
          },
          "metadata": {},
          "execution_count": 21
        }
      ]
    },
    {
      "cell_type": "code",
      "source": [
        "print(\"train shape {0}\".format(X_train.shape))\n",
        "print(\"valid shape {0}\".format(X_valid.shape))\n",
        "print(\"test shape {0}\".format(X_test.shape))"
      ],
      "metadata": {
        "execution": {
          "iopub.status.busy": "2022-05-02T19:12:11.991918Z",
          "iopub.execute_input": "2022-05-02T19:12:11.992168Z",
          "iopub.status.idle": "2022-05-02T19:12:11.998635Z",
          "shell.execute_reply.started": "2022-05-02T19:12:11.992135Z",
          "shell.execute_reply": "2022-05-02T19:12:11.997933Z"
        },
        "trusted": true,
        "colab": {
          "base_uri": "https://localhost:8080/"
        },
        "id": "foYfiMNRDq3e",
        "outputId": "deb05fd8-4154-4004-e8d3-2e812d071528"
      },
      "execution_count": null,
      "outputs": [
        {
          "output_type": "stream",
          "name": "stdout",
          "text": [
            "train shape (41680, 120, 5)\n",
            "valid shape (5097, 120, 5)\n",
            "test shape (5097, 120, 5)\n"
          ]
        }
      ]
    },
    {
      "cell_type": "code",
      "source": [
        "X_train_2, y_train_2 = split_data(train_)\n",
        "X_train_2 = np.reshape(X_train_2, (X_train_2.shape[0], X_train_2.shape[1], 5))"
      ],
      "metadata": {
        "execution": {
          "iopub.status.busy": "2022-05-02T19:12:11.999782Z",
          "iopub.execute_input": "2022-05-02T19:12:12.000598Z",
          "iopub.status.idle": "2022-05-02T19:12:12.145213Z",
          "shell.execute_reply.started": "2022-05-02T19:12:12.000562Z",
          "shell.execute_reply": "2022-05-02T19:12:12.144454Z"
        },
        "trusted": true,
        "id": "81Igqo_ODq3e"
      },
      "execution_count": null,
      "outputs": []
    },
    {
      "cell_type": "code",
      "source": [
        "## show predictions\n",
        "plt.figure(figsize=(15, 5))\n",
        "\n",
        "plt.plot(np.arange(y_train_2.shape[0]), y_train_2, color='blue', label='train target')\n",
        "\n",
        "plt.plot(np.arange(y_train_2.shape[0], y_train_2.shape[0]+y_valid.shape[0]), y_valid,\n",
        "         color='gray', label='valid target')\n",
        "\n",
        "plt.plot(np.arange(y_train_2.shape[0]+y_valid.shape[0],\n",
        "                   y_train_2.shape[0]+y_valid.shape[0]+y_test.shape[0]),\n",
        "         y_test, color='black', label='test target')\n",
        "\n",
        "\n",
        "plt.title('Data split')\n",
        "plt.xlabel('time [hours]')\n",
        "plt.ylabel('normalized price')\n",
        "plt.legend(loc='best');"
      ],
      "metadata": {
        "execution": {
          "iopub.status.busy": "2022-05-02T19:12:12.147167Z",
          "iopub.execute_input": "2022-05-02T19:12:12.147628Z",
          "iopub.status.idle": "2022-05-02T19:12:12.434739Z",
          "shell.execute_reply.started": "2022-05-02T19:12:12.147590Z",
          "shell.execute_reply": "2022-05-02T19:12:12.434089Z"
        },
        "trusted": true,
        "colab": {
          "base_uri": "https://localhost:8080/",
          "height": 350
        },
        "id": "E0Cove2bDq3f",
        "outputId": "2ebd6621-16f0-4f8e-ae5e-97047a9a5779"
      },
      "execution_count": null,
      "outputs": [
        {
          "output_type": "display_data",
          "data": {
            "text/plain": [
              "<Figure size 1080x360 with 1 Axes>"
            ],
            "image/png": "[encoded data removed]"
          },
          "metadata": {
            "needs_background": "light"
          }
        }
      ]
    },
    {
      "cell_type": "markdown",
      "source": [
        "**LSTM Model**"
      ],
      "metadata": {
        "id": "7dboYjriBeJ3"
      }
    },
    {
      "cell_type": "code",
      "source": [
        "import tensorflow as tf\n",
        "from tensorflow.keras import layers\n",
        "from keras.models import Sequential\n",
        "from tensorflow.keras.optimizers import Adam\n",
        "from keras.layers import Dense, LSTM, LeakyReLU, Dropout, BatchNormalization\n",
        "\n",
        "# Initialize the RNN\n",
        "model_LSTM1 = Sequential()\n",
        "model_LSTM1.add(LSTM(units = 120, input_shape=(120, 5)))#activation = 'relu',\n",
        "model_LSTM1.add(LeakyReLU(alpha=0.5))\n",
        "model_LSTM1.add(Dropout(0.5))\n",
        "model_LSTM1.add(BatchNormalization())\n",
        "model_LSTM1.add(Dense(1))\n",
        "model_LSTM1.summary()"
      ],
      "metadata": {
        "execution": {
          "iopub.status.busy": "2022-04-29T14:52:56.506939Z",
          "iopub.execute_input": "2022-04-29T14:52:56.507504Z",
          "iopub.status.idle": "2022-04-29T14:52:56.901184Z",
          "shell.execute_reply.started": "2022-04-29T14:52:56.507464Z",
          "shell.execute_reply": "2022-04-29T14:52:56.900456Z"
        },
        "trusted": true,
        "colab": {
          "base_uri": "https://localhost:8080/"
        },
        "id": "L6Ddd6nFDq3g",
        "outputId": "baba18fc-3fe0-445b-d8c8-ef40897c2b34"
      },
      "execution_count": null,
      "outputs": [
        {
          "output_type": "stream",
          "name": "stdout",
          "text": [
            "Model: \"sequential_1\"\n",
            "_________________________________________________________________\n",
            " Layer (type)                Output Shape              Param #   \n",
            "=================================================================\n",
            " lstm_1 (LSTM)               (None, 120)               60480     \n",
            "                                                                 \n",
            " leaky_re_lu_1 (LeakyReLU)   (None, 120)               0         \n",
            "                                                                 \n",
            " dropout_1 (Dropout)         (None, 120)               0         \n",
            "                                                                 \n",
            " batch_normalization_1 (Batc  (None, 120)              480       \n",
            " hNormalization)                                                 \n",
            "                                                                 \n",
            " dense_1 (Dense)             (None, 1)                 121       \n",
            "                                                                 \n",
            "=================================================================\n",
            "Total params: 61,081\n",
            "Trainable params: 60,841\n",
            "Non-trainable params: 240\n",
            "_________________________________________________________________\n"
          ]
        }
      ]
    },
    {
      "cell_type": "code",
      "source": [
        "model_LSTM1.compile(optimizer='adam', loss='mean_squared_error', metrics = ('MAPE'))"
      ],
      "metadata": {
        "execution": {
          "iopub.status.busy": "2022-04-29T14:52:59.63301Z",
          "iopub.execute_input": "2022-04-29T14:52:59.633884Z",
          "iopub.status.idle": "2022-04-29T14:52:59.643543Z",
          "shell.execute_reply.started": "2022-04-29T14:52:59.633836Z",
          "shell.execute_reply": "2022-04-29T14:52:59.642927Z"
        },
        "trusted": true,
        "id": "4Iecn4-gDq3h"
      },
      "execution_count": null,
      "outputs": []
    },
    {
      "cell_type": "code",
      "source": [
        "history_LSTM1 = model_LSTM1.fit(X_train, y_train,validation_data=(X_valid, y_valid), epochs=10, batch_size=128)"
      ],
      "metadata": {
        "execution": {
          "iopub.status.busy": "2022-04-29T14:53:03.890751Z",
          "iopub.execute_input": "2022-04-29T14:53:03.891382Z",
          "iopub.status.idle": "2022-04-29T15:03:34.661182Z",
          "shell.execute_reply.started": "2022-04-29T14:53:03.891348Z",
          "shell.execute_reply": "2022-04-29T15:03:34.660489Z"
        },
        "trusted": true,
        "colab": {
          "base_uri": "https://localhost:8080/"
        },
        "id": "49u6DEXaDq3h",
        "outputId": "39825895-f498-4826-d04e-9722317a0ec8"
      },
      "execution_count": null,
      "outputs": [
        {
          "output_type": "stream",
          "name": "stdout",
          "text": [
            "Epoch 1/10\n",
            "326/326 [==============================] - 15s 32ms/step - loss: 0.0334 - MAPE: 558.0988 - val_loss: 1.1687 - val_MAPE: 75.4434\n",
            "Epoch 2/10\n",
            "326/326 [==============================] - 10s 30ms/step - loss: 9.9129e-04 - MAPE: 172.7109 - val_loss: 0.2793 - val_MAPE: 34.9994\n",
            "Epoch 3/10\n",
            "326/326 [==============================] - 10s 30ms/step - loss: 9.6849e-04 - MAPE: 169.1870 - val_loss: 0.0185 - val_MAPE: 6.6631\n",
            "Epoch 4/10\n",
            "326/326 [==============================] - 10s 30ms/step - loss: 8.9807e-04 - MAPE: 167.2556 - val_loss: 0.0072 - val_MAPE: 5.1694\n",
            "Epoch 5/10\n",
            "326/326 [==============================] - 10s 31ms/step - loss: 0.0010 - MAPE: 180.7648 - val_loss: 0.0094 - val_MAPE: 5.2200\n",
            "Epoch 6/10\n",
            "326/326 [==============================] - 10s 30ms/step - loss: 0.0010 - MAPE: 183.4235 - val_loss: 0.0089 - val_MAPE: 5.9106\n",
            "Epoch 7/10\n",
            "326/326 [==============================] - 10s 30ms/step - loss: 8.7376e-04 - MAPE: 170.0780 - val_loss: 0.0045 - val_MAPE: 3.4617\n",
            "Epoch 8/10\n",
            "326/326 [==============================] - 10s 30ms/step - loss: 8.4203e-04 - MAPE: 167.2321 - val_loss: 0.0161 - val_MAPE: 8.8276\n",
            "Epoch 9/10\n",
            "326/326 [==============================] - 10s 30ms/step - loss: 8.3596e-04 - MAPE: 167.4657 - val_loss: 0.0050 - val_MAPE: 4.0765\n",
            "Epoch 10/10\n",
            "326/326 [==============================] - 10s 30ms/step - loss: 7.3917e-04 - MAPE: 158.3033 - val_loss: 0.0033 - val_MAPE: 3.0942\n"
          ]
        }
      ]
    },
    {
      "cell_type": "code",
      "source": [
        "loss = history_LSTM1.history['loss']\n",
        "val_loss = history_LSTM1.history['val_loss']\n",
        "\n",
        "epochs = range(len(loss))\n",
        "\n",
        "plt.figure()\n",
        "\n",
        "plt.plot(epochs, loss, 'b', label='Training loss')\n",
        "plt.plot(epochs, val_loss, 'r', label='Validation loss')\n",
        "plt.title(\"Training and Validation Loss\")\n",
        "plt.legend()\n",
        "\n",
        "plt.show()"
      ],
      "metadata": {
        "execution": {
          "iopub.status.busy": "2022-04-29T15:03:38.216678Z",
          "iopub.execute_input": "2022-04-29T15:03:38.217142Z",
          "iopub.status.idle": "2022-04-29T15:03:38.420324Z",
          "shell.execute_reply.started": "2022-04-29T15:03:38.217101Z",
          "shell.execute_reply": "2022-04-29T15:03:38.419652Z"
        },
        "trusted": true,
        "colab": {
          "base_uri": "https://localhost:8080/",
          "height": 281
        },
        "id": "XFYGULCZDq3i",
        "outputId": "6a426cae-637f-43fb-9ce4-c88c0e406451"
      },
      "execution_count": null,
      "outputs": [
        {
          "output_type": "display_data",
          "data": {
            "text/plain": [
              "<Figure size 432x288 with 1 Axes>"
            ],
            "image/png": "[encoded data removed]"
          },
          "metadata": {
            "needs_background": "light"
          }
        }
      ]
    },
    {
      "cell_type": "code",
      "source": [
        "mape = history_LSTM1.history['MAPE']\n",
        "val_mape = history_LSTM1.history['val_MAPE']\n",
        "\n",
        "epochs = range(len(mape))\n",
        "\n",
        "plt.figure()\n",
        "\n",
        "plt.plot(epochs, mape, 'b', label='Training MAPE')\n",
        "plt.plot(epochs, val_mape, 'r', label='Validation MAPE')\n",
        "plt.title(\"Training and Validation MAPE\")\n",
        "plt.legend()\n",
        "\n",
        "plt.show()"
      ],
      "metadata": {
        "execution": {
          "iopub.status.busy": "2022-04-29T15:03:42.820473Z",
          "iopub.execute_input": "2022-04-29T15:03:42.821015Z",
          "iopub.status.idle": "2022-04-29T15:03:42.993528Z",
          "shell.execute_reply.started": "2022-04-29T15:03:42.820973Z",
          "shell.execute_reply": "2022-04-29T15:03:42.992849Z"
        },
        "trusted": true,
        "colab": {
          "base_uri": "https://localhost:8080/",
          "height": 281
        },
        "id": "lU0Nd27WDq3i",
        "outputId": "9f545a4c-a61a-4caa-d8ad-30d972b767db"
      },
      "execution_count": null,
      "outputs": [
        {
          "output_type": "display_data",
          "data": {
            "text/plain": [
              "<Figure size 432x288 with 1 Axes>"
            ],
            "image/png": "[encoded data removed]"
          },
          "metadata": {
            "needs_background": "light"
          }
        }
      ]
    },
    {
      "cell_type": "code",
      "source": [
        "pred_LSTM1 = model_LSTM1.predict(X_test)"
      ],
      "metadata": {
        "execution": {
          "iopub.status.busy": "2022-04-29T15:04:00.81154Z",
          "iopub.execute_input": "2022-04-29T15:04:00.811939Z",
          "iopub.status.idle": "2022-04-29T15:04:03.370953Z",
          "shell.execute_reply.started": "2022-04-29T15:04:00.811905Z",
          "shell.execute_reply": "2022-04-29T15:04:03.370189Z"
        },
        "trusted": true,
        "id": "RQ9i3NxZDq3j"
      },
      "execution_count": null,
      "outputs": []
    },
    {
      "cell_type": "code",
      "source": [
        "pred_LSTM1.shape"
      ],
      "metadata": {
        "execution": {
          "iopub.status.busy": "2022-04-29T15:04:05.833637Z",
          "iopub.execute_input": "2022-04-29T15:04:05.834391Z",
          "iopub.status.idle": "2022-04-29T15:04:05.841653Z",
          "shell.execute_reply.started": "2022-04-29T15:04:05.834333Z",
          "shell.execute_reply": "2022-04-29T15:04:05.840836Z"
        },
        "trusted": true,
        "colab": {
          "base_uri": "https://localhost:8080/"
        },
        "id": "5Iaq685kDq3j",
        "outputId": "b72c5d3e-aa6c-46cf-8ece-b5748a5bda98"
      },
      "execution_count": null,
      "outputs": [
        {
          "output_type": "execute_result",
          "data": {
            "text/plain": [
              "(5097, 1)"
            ]
          },
          "metadata": {},
          "execution_count": 71
        }
      ]
    },
    {
      "cell_type": "code",
      "source": [
        "y_valid.shape"
      ],
      "metadata": {
        "execution": {
          "iopub.status.busy": "2022-04-29T15:04:07.77326Z",
          "iopub.execute_input": "2022-04-29T15:04:07.775978Z",
          "iopub.status.idle": "2022-04-29T15:04:07.78077Z",
          "shell.execute_reply.started": "2022-04-29T15:04:07.775935Z",
          "shell.execute_reply": "2022-04-29T15:04:07.77985Z"
        },
        "trusted": true,
        "colab": {
          "base_uri": "https://localhost:8080/"
        },
        "id": "0opDnN_fDq3j",
        "outputId": "4217b398-101b-4c16-d19c-ced85aa69781"
      },
      "execution_count": null,
      "outputs": [
        {
          "output_type": "execute_result",
          "data": {
            "text/plain": [
              "(5097,)"
            ]
          },
          "metadata": {},
          "execution_count": 72
        }
      ]
    },
    {
      "cell_type": "code",
      "source": [
        "plt.plot(y_test, color = 'black', label = 'Real Price')\n",
        "plt.plot(pred_LSTM1, color = 'green', label = 'Predicted Price')\n",
        "plt.title('Close Price Prediction', fontsize=30)\n",
        "#plt.xticks(range(0,df.shape[0],50),df['Date'].loc[::50],rotation=45)\n",
        "plt.xlabel('DateTime')\n",
        "plt.ylabel('Close Price')\n",
        "plt.legend(fontsize=18)\n",
        "plt.show()"
      ],
      "metadata": {
        "execution": {
          "iopub.status.busy": "2022-04-29T15:04:48.341731Z",
          "iopub.execute_input": "2022-04-29T15:04:48.342326Z",
          "iopub.status.idle": "2022-04-29T15:04:48.593634Z",
          "shell.execute_reply.started": "2022-04-29T15:04:48.342285Z",
          "shell.execute_reply": "2022-04-29T15:04:48.592883Z"
        },
        "trusted": true,
        "colab": {
          "base_uri": "https://localhost:8080/",
          "height": 308
        },
        "id": "hM9RaPOmDq3k",
        "outputId": "4146a6d0-e2d9-4e9a-f5b9-b8b8ede4b329"
      },
      "execution_count": null,
      "outputs": [
        {
          "output_type": "display_data",
          "data": {
            "text/plain": [
              "<Figure size 432x288 with 1 Axes>"
            ],
            "image/png": "[encoded data removed]"
          },
          "metadata": {
            "needs_background": "light"
          }
        }
      ]
    },
    {
      "cell_type": "code",
      "source": [
        "import math\n",
        "\n",
        "LSTM1_loss = model_LSTM1.evaluate(X_test, y_test, verbose=1)\n",
        "\n",
        "\n",
        "#Err_LSTM1 = math.sqrt(LSTM1_loss)\n",
        "print('\\nThe error of the model with 1 layer LSTM is:', LSTM1_loss)"
      ],
      "metadata": {
        "execution": {
          "iopub.status.busy": "2022-04-29T15:05:38.36725Z",
          "iopub.execute_input": "2022-04-29T15:05:38.367503Z",
          "iopub.status.idle": "2022-04-29T15:05:41.152705Z",
          "shell.execute_reply.started": "2022-04-29T15:05:38.367476Z",
          "shell.execute_reply": "2022-04-29T15:05:41.15199Z"
        },
        "trusted": true,
        "colab": {
          "base_uri": "https://localhost:8080/"
        },
        "id": "fKAziKTuDq3k",
        "outputId": "1af62953-f4e4-41fa-bf7d-8cced2910aac"
      },
      "execution_count": null,
      "outputs": [
        {
          "output_type": "stream",
          "name": "stdout",
          "text": [
            "160/160 [==============================] - 2s 13ms/step - loss: 0.0031 - MAPE: 2.2396\n",
            "\n",
            "The error of the model with 1 layer LSTM is: [0.0031098558101803064, 2.2395918369293213]\n"
          ]
        }
      ]
    },
    {
      "cell_type": "markdown",
      "source": [
        "**CNN-LSTM model**"
      ],
      "metadata": {
        "id": "whfWddEvBkLl"
      }
    },
    {
      "cell_type": "code",
      "source": [
        "import keras\n",
        "import tensorflow as tf\n",
        "from tensorflow.keras import layers\n",
        "from keras.models import Sequential\n",
        "from tensorflow.keras.optimizers import Adam\n",
        "from keras.layers import Dense, LSTM, LeakyReLU, Dropout, BatchNormalization\n",
        "\n",
        "\n",
        "model_LSTM2  =  Sequential() \n",
        "model_LSTM2.add(tf.keras.layers.Conv1D(120, 3, activation=\"relu\",input_shape=(120, 5)))\n",
        "model_LSTM2.add(tf.keras.layers.AveragePooling1D(4))\n",
        "model_LSTM2.add(LSTM(units=120,  input_shape=(120, 5)))\n",
        "model_LSTM2.add(LeakyReLU(alpha=0.5)) \n",
        "model_LSTM2.add(BatchNormalization())\n",
        "model_LSTM2.add(Dropout(0.5))\n",
        "model_LSTM2.add(Dense(1,activation='linear'))\n",
        "model_LSTM2.summary()"
      ],
      "metadata": {
        "execution": {
          "iopub.status.busy": "2022-04-29T15:08:54.527651Z",
          "iopub.execute_input": "2022-04-29T15:08:54.528228Z",
          "iopub.status.idle": "2022-04-29T15:08:54.769033Z",
          "shell.execute_reply.started": "2022-04-29T15:08:54.528189Z",
          "shell.execute_reply": "2022-04-29T15:08:54.768351Z"
        },
        "trusted": true,
        "colab": {
          "base_uri": "https://localhost:8080/"
        },
        "id": "SlRacGhyDq3k",
        "outputId": "becbb67f-bb84-438f-9adb-697b40605c6b"
      },
      "execution_count": null,
      "outputs": [
        {
          "output_type": "stream",
          "name": "stdout",
          "text": [
            "Model: \"sequential\"\n",
            "_________________________________________________________________\n",
            " Layer (type)                Output Shape              Param #   \n",
            "=================================================================\n",
            " conv1d (Conv1D)             (None, 118, 120)          1920      \n",
            "                                                                 \n",
            " average_pooling1d (AverageP  (None, 29, 120)          0         \n",
            " ooling1D)                                                       \n",
            "                                                                 \n",
            " lstm (LSTM)                 (None, 120)               115680    \n",
            "                                                                 \n",
            " leaky_re_lu (LeakyReLU)     (None, 120)               0         \n",
            "                                                                 \n",
            " batch_normalization (BatchN  (None, 120)              480       \n",
            " ormalization)                                                   \n",
            "                                                                 \n",
            " dropout (Dropout)           (None, 120)               0         \n",
            "                                                                 \n",
            " dense (Dense)               (None, 1)                 121       \n",
            "                                                                 \n",
            "=================================================================\n",
            "Total params: 118,201\n",
            "Trainable params: 117,961\n",
            "Non-trainable params: 240\n",
            "_________________________________________________________________\n"
          ]
        }
      ]
    },
    {
      "cell_type": "code",
      "source": [
        "model_LSTM2.compile(optimizer='adam', loss='mean_squared_error', metrics = ('MAPE'))"
      ],
      "metadata": {
        "execution": {
          "iopub.status.busy": "2022-04-29T15:09:21.500747Z",
          "iopub.execute_input": "2022-04-29T15:09:21.501316Z",
          "iopub.status.idle": "2022-04-29T15:09:21.5129Z",
          "shell.execute_reply.started": "2022-04-29T15:09:21.501278Z",
          "shell.execute_reply": "2022-04-29T15:09:21.51212Z"
        },
        "trusted": true,
        "id": "S6hN5qNFDq3l"
      },
      "execution_count": null,
      "outputs": []
    },
    {
      "cell_type": "code",
      "source": [
        "history_LSTM2 = model_LSTM2.fit(X_train, y_train,validation_data=(X_valid, y_valid), epochs=10, batch_size=128)"
      ],
      "metadata": {
        "execution": {
          "iopub.status.busy": "2022-04-29T15:09:24.779458Z",
          "iopub.execute_input": "2022-04-29T15:09:24.780016Z",
          "iopub.status.idle": "2022-04-29T15:09:50.424571Z",
          "shell.execute_reply.started": "2022-04-29T15:09:24.779972Z",
          "shell.execute_reply": "2022-04-29T15:09:50.423801Z"
        },
        "trusted": true,
        "colab": {
          "base_uri": "https://localhost:8080/"
        },
        "id": "kHnBoS6mDq3l",
        "outputId": "e5ecf619-4f4b-4c84-9d29-1c56f935e374"
      },
      "execution_count": null,
      "outputs": [
        {
          "output_type": "stream",
          "name": "stdout",
          "text": [
            "Epoch 1/10\n",
            "326/326 [==============================] - 21s 10ms/step - loss: 0.0268 - MAPE: 582.0281 - val_loss: 1.1284 - val_MAPE: 74.6614\n",
            "Epoch 2/10\n",
            "326/326 [==============================] - 2s 7ms/step - loss: 0.0010 - MAPE: 147.8080 - val_loss: 0.3571 - val_MAPE: 42.0827\n",
            "Epoch 3/10\n",
            "326/326 [==============================] - 2s 7ms/step - loss: 9.4173e-04 - MAPE: 150.5141 - val_loss: 0.0110 - val_MAPE: 6.4704\n",
            "Epoch 4/10\n",
            "326/326 [==============================] - 2s 7ms/step - loss: 9.4306e-04 - MAPE: 154.8690 - val_loss: 0.0094 - val_MAPE: 5.9028\n",
            "Epoch 5/10\n",
            "326/326 [==============================] - 2s 7ms/step - loss: 7.6820e-04 - MAPE: 139.1358 - val_loss: 0.0140 - val_MAPE: 7.3563\n",
            "Epoch 6/10\n",
            "326/326 [==============================] - 2s 7ms/step - loss: 9.4075e-04 - MAPE: 161.1190 - val_loss: 0.0042 - val_MAPE: 3.4813\n",
            "Epoch 7/10\n",
            "326/326 [==============================] - 2s 7ms/step - loss: 8.8993e-04 - MAPE: 160.9137 - val_loss: 0.0107 - val_MAPE: 6.0762\n",
            "Epoch 8/10\n",
            "326/326 [==============================] - 2s 7ms/step - loss: 8.2346e-04 - MAPE: 156.9443 - val_loss: 0.0051 - val_MAPE: 4.0525\n",
            "Epoch 9/10\n",
            "326/326 [==============================] - 2s 7ms/step - loss: 6.9577e-04 - MAPE: 144.2243 - val_loss: 0.0134 - val_MAPE: 6.9944\n",
            "Epoch 10/10\n",
            "326/326 [==============================] - 2s 7ms/step - loss: 7.2033e-04 - MAPE: 147.2074 - val_loss: 0.0040 - val_MAPE: 3.5422\n"
          ]
        }
      ]
    },
    {
      "cell_type": "code",
      "source": [
        "loss_LSTM2 = history_LSTM2.history['loss']\n",
        "val_loss_LSTM2 = history_LSTM2.history['val_loss']\n",
        "\n",
        "epochs = range(len(loss_LSTM2))\n",
        "\n",
        "plt.figure()\n",
        "\n",
        "plt.plot(epochs, loss_LSTM2, 'b', label='Training loss')\n",
        "plt.plot(epochs, val_loss_LSTM2, 'r', label='Validation loss')\n",
        "plt.title(\"Training and Validation Loss\")\n",
        "plt.legend()\n",
        "\n",
        "plt.show()"
      ],
      "metadata": {
        "execution": {
          "iopub.status.busy": "2022-04-29T15:09:53.625326Z",
          "iopub.execute_input": "2022-04-29T15:09:53.62557Z",
          "iopub.status.idle": "2022-04-29T15:09:53.815409Z",
          "shell.execute_reply.started": "2022-04-29T15:09:53.625542Z",
          "shell.execute_reply": "2022-04-29T15:09:53.81475Z"
        },
        "trusted": true,
        "colab": {
          "base_uri": "https://localhost:8080/",
          "height": 281
        },
        "id": "9TW2rWXBDq3l",
        "outputId": "f31cca34-493b-44cc-9219-98ad8124c6b4"
      },
      "execution_count": null,
      "outputs": [
        {
          "output_type": "display_data",
          "data": {
            "text/plain": [
              "<Figure size 432x288 with 1 Axes>"
            ],
            "image/png": "[encoded data removed]"
          },
          "metadata": {
            "needs_background": "light"
          }
        }
      ]
    },
    {
      "cell_type": "code",
      "source": [
        "mape = history_LSTM2.history['MAPE']\n",
        "val_mape = history_LSTM2.history['val_MAPE']\n",
        "\n",
        "epochs = range(len(mape))\n",
        "\n",
        "plt.figure()\n",
        "\n",
        "plt.plot(epochs, mape, 'b', label='Training MAPE')\n",
        "plt.plot(epochs, val_mape, 'r', label='Validation MAPE')\n",
        "plt.title(\"Training and Validation MAPE\")\n",
        "plt.legend()\n",
        "\n",
        "plt.show()"
      ],
      "metadata": {
        "colab": {
          "base_uri": "https://localhost:8080/",
          "height": 281
        },
        "id": "SPTtbzjDS3yF",
        "outputId": "b97e8870-4037-40ac-c0e0-11a10b0d314b"
      },
      "execution_count": null,
      "outputs": [
        {
          "output_type": "display_data",
          "data": {
            "text/plain": [
              "<Figure size 432x288 with 1 Axes>"
            ],
            "image/png": "[encoded data removed]"
          },
          "metadata": {
            "needs_background": "light"
          }
        }
      ]
    },
    {
      "cell_type": "code",
      "source": [
        "X_test.shape"
      ],
      "metadata": {
        "execution": {
          "iopub.status.busy": "2022-04-26T12:06:11.033026Z",
          "iopub.execute_input": "2022-04-26T12:06:11.033826Z",
          "iopub.status.idle": "2022-04-26T12:06:11.042679Z",
          "shell.execute_reply.started": "2022-04-26T12:06:11.033769Z",
          "shell.execute_reply": "2022-04-26T12:06:11.041859Z"
        },
        "trusted": true,
        "colab": {
          "base_uri": "https://localhost:8080/"
        },
        "id": "OoUchaaTDq3l",
        "outputId": "86768227-0ca0-4f61-a728-e232e56033e5"
      },
      "execution_count": null,
      "outputs": [
        {
          "output_type": "execute_result",
          "data": {
            "text/plain": [
              "(5097, 120, 5)"
            ]
          },
          "metadata": {},
          "execution_count": 34
        }
      ]
    },
    {
      "cell_type": "code",
      "source": [
        "pred_LSTM2 = model_LSTM2.predict(X_test)"
      ],
      "metadata": {
        "execution": {
          "iopub.status.busy": "2022-04-29T15:09:58.607122Z",
          "iopub.execute_input": "2022-04-29T15:09:58.607696Z",
          "iopub.status.idle": "2022-04-29T15:09:59.451945Z",
          "shell.execute_reply.started": "2022-04-29T15:09:58.607655Z",
          "shell.execute_reply": "2022-04-29T15:09:59.451181Z"
        },
        "trusted": true,
        "id": "A94Sfm62Dq3m"
      },
      "execution_count": null,
      "outputs": []
    },
    {
      "cell_type": "code",
      "source": [
        "plt.plot(y_test, color = 'black', label = 'Real Price')\n",
        "plt.plot(pred_LSTM2, color = 'green', label = 'Predicted Price')\n",
        "plt.title('Close Price Prediction', fontsize=30)\n",
        "#plt.xticks(range(0,df.shape[0],50),df['Date'].loc[::50],rotation=45)\n",
        "plt.xlabel('DateTime')\n",
        "plt.ylabel('Close Price')\n",
        "plt.legend(fontsize=18)\n",
        "plt.show()"
      ],
      "metadata": {
        "execution": {
          "iopub.status.busy": "2022-04-29T15:10:02.303312Z",
          "iopub.execute_input": "2022-04-29T15:10:02.304132Z",
          "iopub.status.idle": "2022-04-29T15:10:02.540292Z",
          "shell.execute_reply.started": "2022-04-29T15:10:02.304082Z",
          "shell.execute_reply": "2022-04-29T15:10:02.539623Z"
        },
        "trusted": true,
        "colab": {
          "base_uri": "https://localhost:8080/",
          "height": 308
        },
        "id": "Zsj_g_Z4Dq3m",
        "outputId": "7e5cd52a-6e88-4370-c5f2-c5e2e9c913c0"
      },
      "execution_count": null,
      "outputs": [
        {
          "output_type": "display_data",
          "data": {
            "text/plain": [
              "<Figure size 432x288 with 1 Axes>"
            ],
            "image/png": "[encoded data removed]"
          },
          "metadata": {
            "needs_background": "light"
          }
        }
      ]
    },
    {
      "cell_type": "code",
      "source": [
        "import math\n",
        "\n",
        "LSTM2_loss = model_LSTM2.evaluate(X_test, y_test, verbose=1)\n",
        "\n",
        "#Err_LSTM2 = math.sqrt(LSTM2_loss)\n",
        "print('\\nThe error of the model with a Conv1D and an LSTM layer is:',LSTM2_loss)"
      ],
      "metadata": {
        "execution": {
          "iopub.status.busy": "2022-04-29T15:10:20.820655Z",
          "iopub.execute_input": "2022-04-29T15:10:20.82093Z",
          "iopub.status.idle": "2022-04-29T15:10:21.342548Z",
          "shell.execute_reply.started": "2022-04-29T15:10:20.820901Z",
          "shell.execute_reply": "2022-04-29T15:10:21.341854Z"
        },
        "trusted": true,
        "colab": {
          "base_uri": "https://localhost:8080/"
        },
        "id": "Gjix3tNMDq3m",
        "outputId": "1b21f193-f1f4-49ee-aea0-43ecce066dbf"
      },
      "execution_count": null,
      "outputs": [
        {
          "output_type": "stream",
          "name": "stdout",
          "text": [
            "160/160 [==============================] - 1s 4ms/step - loss: 0.0043 - MAPE: 2.6649\n",
            "\n",
            "The error of the model with a Conv1D and an LSTM layer is: [0.004287969321012497, 2.664910078048706]\n"
          ]
        }
      ]
    },
    {
      "cell_type": "markdown",
      "source": [
        "**GRU model**"
      ],
      "metadata": {
        "id": "DNTy04bwDq3n"
      }
    },
    {
      "cell_type": "code",
      "source": [
        "from keras.models import Sequential\n",
        "from keras.layers import Dense, Dropout, Activation, Flatten,Reshape\n",
        "from keras.layers import Conv1D, MaxPooling1D, LeakyReLU\n",
        "from keras.utils import np_utils\n",
        "from keras.layers import GRU,CuDNNGRU\n",
        "model_GRU = Sequential()\n",
        "\n",
        "model_GRU.add(GRU(units=50, input_shape=(120,5),return_sequences=False))\n",
        "model_GRU.add(Activation('tanh'))\n",
        "model_GRU.add(Dropout(0.3))\n",
        "model_GRU.add(Dense(1))\n",
        "model_GRU.add(Activation('relu'))\n",
        "model_GRU.compile(loss='mse', optimizer='adam', metrics = ('MAPE'))"
      ],
      "metadata": {
        "execution": {
          "iopub.status.busy": "2022-04-29T15:20:35.399818Z",
          "iopub.execute_input": "2022-04-29T15:20:35.400354Z",
          "iopub.status.idle": "2022-04-29T15:20:35.586776Z",
          "shell.execute_reply.started": "2022-04-29T15:20:35.400317Z",
          "shell.execute_reply": "2022-04-29T15:20:35.586042Z"
        },
        "trusted": true,
        "id": "jv18O_24Dq3o"
      },
      "execution_count": null,
      "outputs": []
    },
    {
      "cell_type": "code",
      "source": [
        "model_GRU.summary()"
      ],
      "metadata": {
        "execution": {
          "iopub.status.busy": "2022-04-29T15:20:41.026829Z",
          "iopub.execute_input": "2022-04-29T15:20:41.027471Z",
          "iopub.status.idle": "2022-04-29T15:20:41.036548Z",
          "shell.execute_reply.started": "2022-04-29T15:20:41.027424Z",
          "shell.execute_reply": "2022-04-29T15:20:41.035603Z"
        },
        "trusted": true,
        "colab": {
          "base_uri": "https://localhost:8080/"
        },
        "id": "gvq5qjMVDq3p",
        "outputId": "5c3c50f2-a0b5-46ae-c181-947dc3577e99"
      },
      "execution_count": null,
      "outputs": [
        {
          "output_type": "stream",
          "name": "stdout",
          "text": [
            "Model: \"sequential_3\"\n",
            "_________________________________________________________________\n",
            " Layer (type)                Output Shape              Param #   \n",
            "=================================================================\n",
            " gru (GRU)                   (None, 50)                8550      \n",
            "                                                                 \n",
            " activation (Activation)     (None, 50)                0         \n",
            "                                                                 \n",
            " dropout_3 (Dropout)         (None, 50)                0         \n",
            "                                                                 \n",
            " dense_3 (Dense)             (None, 1)                 51        \n",
            "                                                                 \n",
            " activation_1 (Activation)   (None, 1)                 0         \n",
            "                                                                 \n",
            "=================================================================\n",
            "Total params: 8,601\n",
            "Trainable params: 8,601\n",
            "Non-trainable params: 0\n",
            "_________________________________________________________________\n"
          ]
        }
      ]
    },
    {
      "cell_type": "code",
      "source": [
        "history_GRU = model_GRU.fit(X_train, y_train, validation_data=(X_valid, y_valid), batch_size = 128, epochs = 10)"
      ],
      "metadata": {
        "execution": {
          "iopub.status.busy": "2022-04-29T15:20:44.603588Z",
          "iopub.execute_input": "2022-04-29T15:20:44.603864Z",
          "iopub.status.idle": "2022-04-29T15:21:18.836821Z",
          "shell.execute_reply.started": "2022-04-29T15:20:44.603833Z",
          "shell.execute_reply": "2022-04-29T15:21:18.835869Z"
        },
        "trusted": true,
        "colab": {
          "base_uri": "https://localhost:8080/"
        },
        "id": "tuFGO1fkDq3p",
        "outputId": "d847e7d6-4a5a-481e-885e-68d80eb38d7b"
      },
      "execution_count": null,
      "outputs": [
        {
          "output_type": "stream",
          "name": "stdout",
          "text": [
            "Epoch 1/10\n",
            "326/326 [==============================] - 13s 32ms/step - loss: 0.0015 - MAPE: 66.5802 - val_loss: 0.0113 - val_MAPE: 5.4616\n",
            "Epoch 2/10\n",
            "326/326 [==============================] - 11s 33ms/step - loss: 3.9707e-04 - MAPE: 34.3259 - val_loss: 0.0098 - val_MAPE: 5.4631\n",
            "Epoch 3/10\n",
            "326/326 [==============================] - 12s 37ms/step - loss: 3.2098e-04 - MAPE: 32.3035 - val_loss: 0.0037 - val_MAPE: 3.1552\n",
            "Epoch 4/10\n",
            "326/326 [==============================] - 11s 32ms/step - loss: 2.7414e-04 - MAPE: 36.5616 - val_loss: 0.0031 - val_MAPE: 2.9305\n",
            "Epoch 5/10\n",
            "326/326 [==============================] - 10s 30ms/step - loss: 2.5498e-04 - MAPE: 39.8651 - val_loss: 0.0029 - val_MAPE: 2.9276\n",
            "Epoch 6/10\n",
            "326/326 [==============================] - 9s 29ms/step - loss: 2.3619e-04 - MAPE: 43.8792 - val_loss: 0.0029 - val_MAPE: 2.8793\n",
            "Epoch 7/10\n",
            "326/326 [==============================] - 9s 29ms/step - loss: 2.3378e-04 - MAPE: 46.4567 - val_loss: 0.0039 - val_MAPE: 3.5785\n",
            "Epoch 8/10\n",
            "326/326 [==============================] - 10s 29ms/step - loss: 2.2755e-04 - MAPE: 45.7750 - val_loss: 0.0033 - val_MAPE: 3.1081\n",
            "Epoch 9/10\n",
            "326/326 [==============================] - 10s 31ms/step - loss: 2.2138e-04 - MAPE: 48.3552 - val_loss: 0.0030 - val_MAPE: 2.9817\n",
            "Epoch 10/10\n",
            "326/326 [==============================] - 10s 31ms/step - loss: 2.2507e-04 - MAPE: 47.1801 - val_loss: 0.0029 - val_MAPE: 2.9076\n"
          ]
        }
      ]
    },
    {
      "cell_type": "code",
      "source": [
        "loss_GRU = history_GRU.history['loss']\n",
        "val_loss_GRU = history_GRU.history['val_loss']\n",
        "\n",
        "epochs = range(len(loss_GRU))\n",
        "\n",
        "plt.figure()\n",
        "\n",
        "plt.plot(epochs, loss_GRU, 'b', label='Training loss')\n",
        "plt.plot(epochs, val_loss_GRU, 'r', label='Validation loss')\n",
        "plt.title(\"Training and Validation Loss\")\n",
        "plt.legend()\n",
        "\n",
        "plt.show()"
      ],
      "metadata": {
        "execution": {
          "iopub.status.busy": "2022-04-29T15:21:21.953454Z",
          "iopub.execute_input": "2022-04-29T15:21:21.954305Z",
          "iopub.status.idle": "2022-04-29T15:21:22.138122Z",
          "shell.execute_reply.started": "2022-04-29T15:21:21.954245Z",
          "shell.execute_reply": "2022-04-29T15:21:22.137377Z"
        },
        "trusted": true,
        "colab": {
          "base_uri": "https://localhost:8080/",
          "height": 281
        },
        "id": "L21o5sT6Dq3q",
        "outputId": "0c9fdc5f-5afb-4ee0-e10b-c0a0ad6bc066"
      },
      "execution_count": null,
      "outputs": [
        {
          "output_type": "display_data",
          "data": {
            "text/plain": [
              "<Figure size 432x288 with 1 Axes>"
            ],
            "image/png": "[encoded data removed]"
          },
          "metadata": {
            "needs_background": "light"
          }
        }
      ]
    },
    {
      "cell_type": "code",
      "source": [
        "mape = history_GRU.history['MAPE']\n",
        "val_mape = history_GRU.history['val_MAPE']\n",
        "\n",
        "epochs = range(len(mape))\n",
        "\n",
        "plt.figure()\n",
        "\n",
        "plt.plot(epochs, mape, 'b', label='Training MAPE')\n",
        "plt.plot(epochs, val_mape, 'r', label='Validation MAPE')\n",
        "plt.title(\"Training and Validation MAPE\")\n",
        "plt.legend()\n",
        "\n",
        "plt.show()"
      ],
      "metadata": {
        "colab": {
          "base_uri": "https://localhost:8080/",
          "height": 281
        },
        "id": "RECVjaLjTUb6",
        "outputId": "138a6ae3-1eaf-45dd-c4cd-9b378cdaa370"
      },
      "execution_count": null,
      "outputs": [
        {
          "output_type": "display_data",
          "data": {
            "text/plain": [
              "<Figure size 432x288 with 1 Axes>"
            ],
            "image/png": "[encoded data removed]"
          },
          "metadata": {
            "needs_background": "light"
          }
        }
      ]
    },
    {
      "cell_type": "code",
      "source": [
        "pred_GRU = model_GRU.predict(X_test)"
      ],
      "metadata": {
        "execution": {
          "iopub.status.busy": "2022-04-29T15:21:25.906212Z",
          "iopub.execute_input": "2022-04-29T15:21:25.906508Z",
          "iopub.status.idle": "2022-04-29T15:21:26.654608Z",
          "shell.execute_reply.started": "2022-04-29T15:21:25.906471Z",
          "shell.execute_reply": "2022-04-29T15:21:26.65384Z"
        },
        "trusted": true,
        "id": "5-UCCK7SDq3r"
      },
      "execution_count": null,
      "outputs": []
    },
    {
      "cell_type": "code",
      "source": [
        "plt.plot(y_test, color = 'black', label = 'Real Price')\n",
        "plt.plot(pred_GRU, color = 'green', label = 'Predicted Price')\n",
        "plt.title('Close Price Prediction', fontsize=30)\n",
        "#plt.xticks(range(0,df.shape[0],50),df['Date'].loc[::50],rotation=45)\n",
        "plt.xlabel('DateTime')\n",
        "plt.ylabel('Close Price')\n",
        "plt.legend(fontsize=18)\n",
        "plt.show()"
      ],
      "metadata": {
        "execution": {
          "iopub.status.busy": "2022-04-29T15:21:28.940401Z",
          "iopub.execute_input": "2022-04-29T15:21:28.940685Z",
          "iopub.status.idle": "2022-04-29T15:21:29.192835Z",
          "shell.execute_reply.started": "2022-04-29T15:21:28.940655Z",
          "shell.execute_reply": "2022-04-29T15:21:29.192118Z"
        },
        "trusted": true,
        "colab": {
          "base_uri": "https://localhost:8080/",
          "height": 308
        },
        "id": "QMzS7KLWDq3s",
        "outputId": "c1b40976-5f01-444c-e417-feb524756eab"
      },
      "execution_count": null,
      "outputs": [
        {
          "output_type": "display_data",
          "data": {
            "text/plain": [
              "<Figure size 432x288 with 1 Axes>"
            ],
            "image/png": "[encoded data removed]"
          },
          "metadata": {
            "needs_background": "light"
          }
        }
      ]
    },
    {
      "cell_type": "code",
      "source": [
        "import math\n",
        "\n",
        "GRU_loss = model_GRU.evaluate(X_test, y_test, verbose=1)\n",
        "\n",
        "#Err_GRU = math.sqrt(GRU_loss)\n",
        "print('\\nThe error of the model with a GRU layer is:',GRU_loss)"
      ],
      "metadata": {
        "execution": {
          "iopub.status.busy": "2022-04-29T15:21:33.339778Z",
          "iopub.execute_input": "2022-04-29T15:21:33.3404Z",
          "iopub.status.idle": "2022-04-29T15:21:34.666718Z",
          "shell.execute_reply.started": "2022-04-29T15:21:33.34036Z",
          "shell.execute_reply": "2022-04-29T15:21:34.66595Z"
        },
        "trusted": true,
        "colab": {
          "base_uri": "https://localhost:8080/"
        },
        "id": "Xvy9wNjtDq3s",
        "outputId": "ef46b455-4fd7-4cab-8b63-0b9a8a0abda4"
      },
      "execution_count": null,
      "outputs": [
        {
          "output_type": "stream",
          "name": "stdout",
          "text": [
            "160/160 [==============================] - 2s 11ms/step - loss: 0.0036 - MAPE: 2.3906\n",
            "\n",
            "The error of the model with a GRU layer is: [0.0035725559573620558, 2.3906185626983643]\n"
          ]
        }
      ]
    },
    {
      "cell_type": "markdown",
      "source": [
        "**CNN-BiLSTM model**"
      ],
      "metadata": {
        "id": "CLwrOUC7BtGg"
      }
    },
    {
      "cell_type": "code",
      "source": [
        "import tensorflow as tf\n",
        "from tensorflow.keras import layers\n",
        "from keras.models import Sequential\n",
        "from tensorflow.keras.optimizers import Adam\n",
        "from keras.layers import Dense, LSTM, LeakyReLU, Dropout, BatchNormalization\n",
        "from keras.layers import Bidirectional\n",
        "\n",
        "num_units = 128\n",
        "activation_function = 'relu'\n",
        "optimizer = 'adam'\n",
        "loss_function = 'mean_squared_error'\n",
        "batch_size = 128\n",
        "num_epochs = 10\n",
        "\n",
        "# Initialize the RNN\n",
        "regressor2 = Sequential()\n",
        "\n",
        "# Adding the input layer and the LSTM layer\n",
        "regressor2.add(tf.keras.layers.Conv1D(120, 3, activation=\"relu\",input_shape=(120, 5)))\n",
        "regressor2.add(tf.keras.layers.AveragePooling1D(4))\n",
        "regressor2.add(Bidirectional(LSTM(units = num_units, input_shape=(120, 5))))#activation = activation_function,\n",
        "regressor2.add(LeakyReLU(alpha= 0.5))\n",
        "regressor2.add(BatchNormalization())\n",
        "regressor2.add(Dropout(0.5))\n",
        "# Adding the output layer\n",
        "regressor2.add(Dense(units = 1))\n"
      ],
      "metadata": {
        "execution": {
          "iopub.status.busy": "2022-05-02T19:44:25.507746Z",
          "iopub.execute_input": "2022-05-02T19:44:25.508098Z",
          "iopub.status.idle": "2022-05-02T19:44:35.631703Z",
          "shell.execute_reply.started": "2022-05-02T19:44:25.508051Z",
          "shell.execute_reply": "2022-05-02T19:44:35.630970Z"
        },
        "trusted": true,
        "id": "pIUwWNfFDq3t"
      },
      "execution_count": null,
      "outputs": []
    },
    {
      "cell_type": "code",
      "source": [
        "# Compiling the RNN\n",
        "regressor2.compile(optimizer = optimizer, loss = loss_function, metrics = ('MAPE'))\n",
        "regressor2.summary()\n",
        "# Using the training set to train the model\n",
        "history_BiLSTM2 = regressor2.fit(X_train, y_train, validation_data=(X_valid, y_valid), batch_size = batch_size, epochs = num_epochs)"
      ],
      "metadata": {
        "execution": {
          "iopub.status.busy": "2022-05-02T19:44:43.426308Z",
          "iopub.execute_input": "2022-05-02T19:44:43.427059Z",
          "iopub.status.idle": "2022-05-02T19:48:35.040832Z",
          "shell.execute_reply.started": "2022-05-02T19:44:43.427021Z",
          "shell.execute_reply": "2022-05-02T19:48:35.040149Z"
        },
        "trusted": true,
        "colab": {
          "base_uri": "https://localhost:8080/"
        },
        "id": "rt-LV1DEDq3u",
        "outputId": "7bafda8b-5348-4998-929d-1917e42bf8a5"
      },
      "execution_count": null,
      "outputs": [
        {
          "output_type": "stream",
          "name": "stdout",
          "text": [
            "Model: \"sequential_5\"\n",
            "_________________________________________________________________\n",
            " Layer (type)                Output Shape              Param #   \n",
            "=================================================================\n",
            " conv1d_2 (Conv1D)           (None, 118, 120)          1920      \n",
            "                                                                 \n",
            " average_pooling1d_2 (Averag  (None, 29, 120)          0         \n",
            " ePooling1D)                                                     \n",
            "                                                                 \n",
            " bidirectional_1 (Bidirectio  (None, 256)              254976    \n",
            " nal)                                                            \n",
            "                                                                 \n",
            " leaky_re_lu_4 (LeakyReLU)   (None, 256)               0         \n",
            "                                                                 \n",
            " batch_normalization_4 (Batc  (None, 256)              1024      \n",
            " hNormalization)                                                 \n",
            "                                                                 \n",
            " dropout_5 (Dropout)         (None, 256)               0         \n",
            "                                                                 \n",
            " dense_5 (Dense)             (None, 1)                 257       \n",
            "                                                                 \n",
            "=================================================================\n",
            "Total params: 258,177\n",
            "Trainable params: 257,665\n",
            "Non-trainable params: 512\n",
            "_________________________________________________________________\n",
            "Epoch 1/10\n",
            "326/326 [==============================] - 36s 32ms/step - loss: 0.0178 - MAPE: 507.1473 - val_loss: 1.0505 - val_MAPE: 71.9809\n",
            "Epoch 2/10\n",
            "326/326 [==============================] - 9s 26ms/step - loss: 8.3869e-04 - MAPE: 147.5458 - val_loss: 0.1823 - val_MAPE: 29.5083\n",
            "Epoch 3/10\n",
            "326/326 [==============================] - 8s 24ms/step - loss: 7.9039e-04 - MAPE: 139.7866 - val_loss: 0.0066 - val_MAPE: 4.6124\n",
            "Epoch 4/10\n",
            "326/326 [==============================] - 8s 24ms/step - loss: 7.6150e-04 - MAPE: 140.4053 - val_loss: 0.0117 - val_MAPE: 5.7313\n",
            "Epoch 5/10\n",
            "326/326 [==============================] - 7s 23ms/step - loss: 7.7711e-04 - MAPE: 148.5874 - val_loss: 0.0056 - val_MAPE: 4.0164\n",
            "Epoch 6/10\n",
            "326/326 [==============================] - 7s 23ms/step - loss: 6.2092e-04 - MAPE: 130.8411 - val_loss: 0.0064 - val_MAPE: 4.7586\n",
            "Epoch 7/10\n",
            "326/326 [==============================] - 8s 24ms/step - loss: 6.5490e-04 - MAPE: 130.0989 - val_loss: 0.0074 - val_MAPE: 4.2296\n",
            "Epoch 8/10\n",
            "326/326 [==============================] - 8s 24ms/step - loss: 6.3357e-04 - MAPE: 134.5985 - val_loss: 0.0056 - val_MAPE: 4.1504\n",
            "Epoch 9/10\n",
            "326/326 [==============================] - 8s 23ms/step - loss: 6.5880e-04 - MAPE: 138.4082 - val_loss: 0.0055 - val_MAPE: 3.8359\n",
            "Epoch 10/10\n",
            "326/326 [==============================] - 8s 24ms/step - loss: 5.8873e-04 - MAPE: 127.2589 - val_loss: 0.0057 - val_MAPE: 4.2376\n"
          ]
        }
      ]
    },
    {
      "cell_type": "code",
      "source": [
        "loss_BiLSTM2 = history_BiLSTM2.history['loss']\n",
        "val_loss_BiLSTM2 = history_BiLSTM2.history['val_loss']\n",
        "\n",
        "epochs = range(len(loss_BiLSTM2))\n",
        "\n",
        "plt.figure()\n",
        "\n",
        "plt.plot(epochs, loss_BiLSTM2, 'b', label='Training loss')\n",
        "plt.plot(epochs, val_loss_BiLSTM2, 'r', label='Validation loss')\n",
        "plt.title(\"Training and Validation Loss\")\n",
        "plt.legend()\n",
        "\n",
        "plt.show()"
      ],
      "metadata": {
        "execution": {
          "iopub.status.busy": "2022-05-02T20:01:04.489857Z",
          "iopub.execute_input": "2022-05-02T20:01:04.490661Z",
          "iopub.status.idle": "2022-05-02T20:01:04.679357Z",
          "shell.execute_reply.started": "2022-05-02T20:01:04.490614Z",
          "shell.execute_reply": "2022-05-02T20:01:04.678593Z"
        },
        "trusted": true,
        "colab": {
          "base_uri": "https://localhost:8080/",
          "height": 281
        },
        "id": "sJBOhM2HDq3u",
        "outputId": "1b37df03-f781-44a8-a74c-3317d8a9db47"
      },
      "execution_count": null,
      "outputs": [
        {
          "output_type": "display_data",
          "data": {
            "text/plain": [
              "<Figure size 432x288 with 1 Axes>"
            ],
            "image/png": "[encoded data removed]"
          },
          "metadata": {
            "needs_background": "light"
          }
        }
      ]
    },
    {
      "cell_type": "code",
      "source": [
        "mape = history_BiLSTM2.history['MAPE']\n",
        "val_mape = history_BiLSTM2.history['val_MAPE']\n",
        "\n",
        "epochs = range(len(mape))\n",
        "\n",
        "plt.figure()\n",
        "\n",
        "plt.plot(epochs, mape, 'b', label='Training MAPE')\n",
        "plt.plot(epochs, val_mape, 'r', label='Validation MAPE')\n",
        "plt.title(\"Training and Validation MAPE\")\n",
        "plt.legend()\n",
        "\n",
        "plt.show()"
      ],
      "metadata": {
        "colab": {
          "base_uri": "https://localhost:8080/",
          "height": 281
        },
        "id": "Xr5k96NDTu6b",
        "outputId": "157e1e7f-b406-426f-9989-35f2bdda8fb4"
      },
      "execution_count": null,
      "outputs": [
        {
          "output_type": "display_data",
          "data": {
            "text/plain": [
              "<Figure size 432x288 with 1 Axes>"
            ],
            "image/png": "[encoded data removed]"
          },
          "metadata": {
            "needs_background": "light"
          }
        }
      ]
    },
    {
      "cell_type": "code",
      "source": [
        "pred_BiLSTM2 = regressor2.predict(X_test)"
      ],
      "metadata": {
        "execution": {
          "iopub.status.busy": "2022-05-02T20:01:07.640338Z",
          "iopub.execute_input": "2022-05-02T20:01:07.641177Z",
          "iopub.status.idle": "2022-05-02T20:01:09.377256Z",
          "shell.execute_reply.started": "2022-05-02T20:01:07.641128Z",
          "shell.execute_reply": "2022-05-02T20:01:09.376509Z"
        },
        "trusted": true,
        "id": "9WPoLYS0Dq3v"
      },
      "execution_count": null,
      "outputs": []
    },
    {
      "cell_type": "code",
      "source": [
        "plt.plot(y_test, color = 'black', label = 'Real Price')\n",
        "plt.plot(pred_BiLSTM2, color = 'green', label = 'Predicted Price')\n",
        "plt.title('Close Price Prediction', fontsize=30)\n",
        "#plt.xticks(range(0,df.shape[0],50),df['Date'].loc[::50],rotation=45)\n",
        "plt.xlabel('DateTime')\n",
        "plt.ylabel('Close Price')\n",
        "plt.legend(fontsize=18)\n",
        "plt.show()"
      ],
      "metadata": {
        "execution": {
          "iopub.status.busy": "2022-05-02T20:01:11.058136Z",
          "iopub.execute_input": "2022-05-02T20:01:11.058723Z",
          "iopub.status.idle": "2022-05-02T20:01:11.310733Z",
          "shell.execute_reply.started": "2022-05-02T20:01:11.058673Z",
          "shell.execute_reply": "2022-05-02T20:01:11.310071Z"
        },
        "trusted": true,
        "colab": {
          "base_uri": "https://localhost:8080/",
          "height": 308
        },
        "id": "1Px8H4wGDq3v",
        "outputId": "5467541d-821a-408e-85e1-d2de00135790"
      },
      "execution_count": null,
      "outputs": [
        {
          "output_type": "display_data",
          "data": {
            "text/plain": [
              "<Figure size 432x288 with 1 Axes>"
            ],
            "image/png": "[encoded data removed]"
          },
          "metadata": {
            "needs_background": "light"
          }
        }
      ]
    },
    {
      "cell_type": "code",
      "source": [
        "import math\n",
        "\n",
        "BiLSTM2_loss = regressor2.evaluate(X_test, y_test, verbose=1)\n",
        "\n",
        "#Err_BiLSTM2 = math.sqrt(BiLSTM2_loss)\n",
        "print('\\nThe error of the model with 1 layer BiLSTM is:',BiLSTM2_loss)"
      ],
      "metadata": {
        "execution": {
          "iopub.status.busy": "2022-05-02T20:01:27.968079Z",
          "iopub.execute_input": "2022-05-02T20:01:27.968375Z",
          "iopub.status.idle": "2022-05-02T20:01:29.745636Z",
          "shell.execute_reply.started": "2022-05-02T20:01:27.968342Z",
          "shell.execute_reply": "2022-05-02T20:01:29.744950Z"
        },
        "trusted": true,
        "colab": {
          "base_uri": "https://localhost:8080/"
        },
        "id": "1C3zK9J9Dq3w",
        "outputId": "2979c6f2-884f-4bba-9dd4-ad69e65be81f"
      },
      "execution_count": null,
      "outputs": [
        {
          "output_type": "stream",
          "name": "stdout",
          "text": [
            "160/160 [==============================] - 2s 14ms/step - loss: 0.0045 - MAPE: 2.9573\n",
            "\n",
            "The error of the model with 1 layer BiLSTM is: [0.004533139057457447, 2.9573473930358887]\n"
          ]
        }
      ]
    },
    {
      "cell_type": "markdown",
      "source": [
        "**Bi-LSTM model**"
      ],
      "metadata": {
        "id": "Xs0NLIsMByuw"
      }
    },
    {
      "cell_type": "code",
      "source": [
        "import tensorflow as tf\n",
        "from tensorflow.keras import layers\n",
        "from keras.models import Sequential\n",
        "from tensorflow.keras.optimizers import Adam\n",
        "from keras.layers import Dense, LSTM, LeakyReLU, Dropout, BatchNormalization\n",
        "from keras.layers import Bidirectional\n",
        "\n",
        "num_units = 128\n",
        "activation_function = 'relu'\n",
        "optimizer = 'adam'\n",
        "loss_function = 'mean_squared_error'\n",
        "batch_size = 128\n",
        "num_epochs = 10\n",
        "\n",
        "# Initialize the RNN\n",
        "regressor2 = Sequential()\n",
        "\n",
        "# Adding the input layer and the LSTM layer\n",
        "regressor2.add(Bidirectional(LSTM(units = num_units, input_shape=(120, 5))))#activation = activation_function,\n",
        "regressor2.add(LeakyReLU(alpha= 0.5))\n",
        "regressor2.add(BatchNormalization())\n",
        "regressor2.add(Dropout(0.5))\n",
        "# Adding the output layer\n",
        "regressor2.add(Dense(units = 1))\n",
        "\n",
        "#regressor2.build(input_shape=(X_train.shape[0], 120, 5))\n"
      ],
      "metadata": {
        "id": "iADl2BQ17ruk"
      },
      "execution_count": null,
      "outputs": []
    },
    {
      "cell_type": "code",
      "source": [
        "# Compiling the RNN\n",
        "regressor2.compile(optimizer = optimizer, loss = loss_function, metrics = ('MAPE'))\n",
        "\n",
        "# Using the training set to train the model\n",
        "history_BiLSTM2 = regressor2.fit(X_train, y_train, validation_data=(X_valid, y_valid), batch_size = batch_size, epochs = num_epochs)"
      ],
      "metadata": {
        "colab": {
          "base_uri": "https://localhost:8080/"
        },
        "id": "PLntgmPL7wMf",
        "outputId": "7492ca7a-316d-4d53-807e-6bce85f15b77"
      },
      "execution_count": null,
      "outputs": [
        {
          "output_type": "stream",
          "name": "stdout",
          "text": [
            "Epoch 1/10\n",
            "326/326 [==============================] - 32s 65ms/step - loss: 0.0299 - MAPE: 809.0980 - val_loss: 1.1131 - val_MAPE: 74.1664\n",
            "Epoch 2/10\n",
            "326/326 [==============================] - 20s 62ms/step - loss: 0.0011 - MAPE: 187.3827 - val_loss: 0.2285 - val_MAPE: 33.7204\n",
            "Epoch 3/10\n",
            "326/326 [==============================] - 20s 62ms/step - loss: 8.1974e-04 - MAPE: 153.1121 - val_loss: 0.0093 - val_MAPE: 5.8668\n",
            "Epoch 4/10\n",
            "326/326 [==============================] - 20s 61ms/step - loss: 7.7337e-04 - MAPE: 148.7766 - val_loss: 0.0181 - val_MAPE: 7.0748\n",
            "Epoch 5/10\n",
            "326/326 [==============================] - 20s 62ms/step - loss: 7.8201e-04 - MAPE: 152.0167 - val_loss: 0.0068 - val_MAPE: 5.1853\n",
            "Epoch 6/10\n",
            "326/326 [==============================] - 20s 61ms/step - loss: 8.5756e-04 - MAPE: 156.0536 - val_loss: 0.0481 - val_MAPE: 14.3481\n",
            "Epoch 7/10\n",
            "326/326 [==============================] - 20s 62ms/step - loss: 7.6148e-04 - MAPE: 150.0493 - val_loss: 0.0094 - val_MAPE: 5.1226\n",
            "Epoch 8/10\n",
            "326/326 [==============================] - 20s 62ms/step - loss: 7.4823e-04 - MAPE: 152.8019 - val_loss: 0.0047 - val_MAPE: 3.9887\n",
            "Epoch 9/10\n",
            "326/326 [==============================] - 20s 62ms/step - loss: 6.6811e-04 - MAPE: 145.8585 - val_loss: 0.0040 - val_MAPE: 3.5777\n",
            "Epoch 10/10\n",
            "326/326 [==============================] - 20s 61ms/step - loss: 7.4434e-04 - MAPE: 156.6491 - val_loss: 0.0038 - val_MAPE: 3.4958\n"
          ]
        }
      ]
    },
    {
      "cell_type": "code",
      "source": [
        "regressor2.summary()"
      ],
      "metadata": {
        "colab": {
          "base_uri": "https://localhost:8080/"
        },
        "id": "rBYwEz7_BU87",
        "outputId": "539f5c86-70aa-4611-e35c-0ef9d7a5a564"
      },
      "execution_count": null,
      "outputs": [
        {
          "output_type": "stream",
          "name": "stdout",
          "text": [
            "Model: \"sequential\"\n",
            "_________________________________________________________________\n",
            " Layer (type)                Output Shape              Param #   \n",
            "=================================================================\n",
            " bidirectional (Bidirectiona  (None, 256)              137216    \n",
            " l)                                                              \n",
            "                                                                 \n",
            " leaky_re_lu (LeakyReLU)     (None, 256)               0         \n",
            "                                                                 \n",
            " batch_normalization (BatchN  (None, 256)              1024      \n",
            " ormalization)                                                   \n",
            "                                                                 \n",
            " dropout (Dropout)           (None, 256)               0         \n",
            "                                                                 \n",
            " dense (Dense)               (None, 1)                 257       \n",
            "                                                                 \n",
            "=================================================================\n",
            "Total params: 138,497\n",
            "Trainable params: 137,985\n",
            "Non-trainable params: 512\n",
            "_________________________________________________________________\n"
          ]
        }
      ]
    },
    {
      "cell_type": "code",
      "source": [
        "loss_BiLSTM2 = history_BiLSTM2.history['loss']\n",
        "val_loss_BiLSTM2 = history_BiLSTM2.history['val_loss']\n",
        "\n",
        "epochs = range(len(loss_BiLSTM2))\n",
        "\n",
        "plt.figure()\n",
        "\n",
        "plt.plot(epochs, loss_BiLSTM2, 'b', label='Training loss')\n",
        "plt.plot(epochs, val_loss_BiLSTM2, 'r', label='Validation loss')\n",
        "plt.title(\"Training and Validation Loss\")\n",
        "plt.legend()\n",
        "\n",
        "plt.show()"
      ],
      "metadata": {
        "colab": {
          "base_uri": "https://localhost:8080/",
          "height": 281
        },
        "id": "duG7pZ11766z",
        "outputId": "2ac653bd-8876-4957-e7f6-ceca0714ef2d"
      },
      "execution_count": null,
      "outputs": [
        {
          "output_type": "display_data",
          "data": {
            "text/plain": [
              "<Figure size 432x288 with 1 Axes>"
            ],
            "image/png": "[encoded data removed]"
          },
          "metadata": {
            "needs_background": "light"
          }
        }
      ]
    },
    {
      "cell_type": "code",
      "source": [
        "mape = history_BiLSTM2.history['MAPE']\n",
        "val_mape = history_BiLSTM2.history['val_MAPE']\n",
        "\n",
        "epochs = range(len(mape))\n",
        "\n",
        "plt.figure()\n",
        "\n",
        "plt.plot(epochs, mape, 'b', label='Training MAPE')\n",
        "plt.plot(epochs, val_mape, 'r', label='Validation MAPE')\n",
        "plt.title(\"Training and Validation MAPE\")\n",
        "plt.legend()\n",
        "\n",
        "plt.show()"
      ],
      "metadata": {
        "colab": {
          "base_uri": "https://localhost:8080/",
          "height": 281
        },
        "id": "7Vtk9zxP8b77",
        "outputId": "a1d29001-e917-45ac-ae4f-3b45d1d195d9"
      },
      "execution_count": null,
      "outputs": [
        {
          "output_type": "display_data",
          "data": {
            "text/plain": [
              "<Figure size 432x288 with 1 Axes>"
            ],
            "image/png": "[encoded data removed]"
          },
          "metadata": {
            "needs_background": "light"
          }
        }
      ]
    },
    {
      "cell_type": "code",
      "source": [
        "pred_BiLSTM2 = regressor2.predict(X_test)"
      ],
      "metadata": {
        "id": "l-BKyhZP8eYL"
      },
      "execution_count": null,
      "outputs": []
    },
    {
      "cell_type": "code",
      "source": [
        "plt.plot(y_test, color = 'black', label = 'Real Price')\n",
        "plt.plot(pred_BiLSTM2, color = 'green', label = 'Predicted Price')\n",
        "plt.title('Close Price Prediction', fontsize=30)\n",
        "#plt.xticks(range(0,df.shape[0],50),df['Date'].loc[::50],rotation=45)\n",
        "plt.xlabel('DateTime')\n",
        "plt.ylabel('Close Price')\n",
        "plt.legend(fontsize=18)\n",
        "plt.show()"
      ],
      "metadata": {
        "colab": {
          "base_uri": "https://localhost:8080/",
          "height": 308
        },
        "id": "Js7FlJUz8gty",
        "outputId": "e8d1d5f2-d87c-4a8d-96e0-bc27c9e80091"
      },
      "execution_count": null,
      "outputs": [
        {
          "output_type": "display_data",
          "data": {
            "text/plain": [
              "<Figure size 432x288 with 1 Axes>"
            ],
            "image/png": "[encoded data removed]"
          },
          "metadata": {
            "needs_background": "light"
          }
        }
      ]
    },
    {
      "cell_type": "code",
      "source": [
        "import math\n",
        "\n",
        "BiLSTM2_loss = regressor2.evaluate(X_test, y_test, verbose=1)\n",
        "\n",
        "#Err_BiLSTM2 = math.sqrt(BiLSTM2_loss)\n",
        "print('\\nThe error of the model with 1 layer BiLSTM is:',BiLSTM2_loss)"
      ],
      "metadata": {
        "colab": {
          "base_uri": "https://localhost:8080/"
        },
        "id": "1dmuO_Qq8jCw",
        "outputId": "a805d0c7-eeea-41f1-91d4-038d2ba9089e"
      },
      "execution_count": null,
      "outputs": [
        {
          "output_type": "stream",
          "name": "stdout",
          "text": [
            "160/160 [==============================] - 4s 23ms/step - loss: 0.0029 - MAPE: 2.2672\n",
            "\n",
            "The error of the model with 1 layer BiLSTM is: [0.0029100393876433372, 2.2671947479248047]\n"
          ]
        }
      ]
    }
  ]
}