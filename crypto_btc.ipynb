{
  "metadata": {
    "kernelspec": {
      "language": "python",
      "display_name": "Python 3",
      "name": "python3"
    },
    "language_info": {
      "name": "python",
      "version": "3.7.12",
      "mimetype": "text/x-python",
      "codemirror_mode": {
        "name": "ipython",
        "version": 3
      },
      "pygments_lexer": "ipython3",
      "nbconvert_exporter": "python",
      "file_extension": ".py"
    },
    "colab": {
      "name": "crypto-btc.ipynb",
      "provenance": []
    },
    "accelerator": "GPU"
  },
  "nbformat_minor": 0,
  "nbformat": 4,
  "cells": [
    {
      "cell_type": "markdown",
      "source": [
        "**Imports**"
      ],
      "metadata": {
        "id": "Xdce7VV1DvhF"
      }
    },
    {
      "cell_type": "code",
      "source": [
        "import numpy as np\n",
        "import pandas as pd\n",
        "import matplotlib.pyplot as plt\n",
        "import seaborn as sns"
      ],
      "metadata": {
        "execution": {
          "iopub.status.busy": "2022-05-11T14:31:58.102672Z",
          "iopub.execute_input": "2022-05-11T14:31:58.102926Z",
          "iopub.status.idle": "2022-05-11T14:31:59.032314Z",
          "shell.execute_reply.started": "2022-05-11T14:31:58.102851Z",
          "shell.execute_reply": "2022-05-11T14:31:59.031536Z"
        },
        "trusted": true,
        "id": "c2syZ3wdDvhO"
      },
      "execution_count": null,
      "outputs": []
    },
    {
      "cell_type": "markdown",
      "source": [
        "**Loading Dataset**"
      ],
      "metadata": {
        "id": "0UATP2rbDvhR"
      }
    },
    {
      "cell_type": "code",
      "source": [
        "url = 'https://www.cryptodatadownload.com/cdd/Gemini_BTCUSD_1h.csv'\n",
        "dataset = pd.read_csv(url, index_col=\"date\", skiprows=1)\n",
        "#dataset = pd.read_csv('Gemini_BTCUSD_1h.csv', index_col=\"date\", skiprows=1)\n",
        "dataset.head()"
      ],
      "metadata": {
        "execution": {
          "iopub.status.busy": "2022-05-11T14:32:12.968143Z",
          "iopub.execute_input": "2022-05-11T14:32:12.968401Z",
          "iopub.status.idle": "2022-05-11T14:32:14.272824Z",
          "shell.execute_reply.started": "2022-05-11T14:32:12.968374Z",
          "shell.execute_reply": "2022-05-11T14:32:14.272034Z"
        },
        "trusted": true,
        "colab": {
          "base_uri": "https://localhost:8080/",
          "height": 237
        },
        "id": "Z0HwWWCsDvhS",
        "outputId": "cfe2d4bf-c38c-4d88-b6cc-ec4a6c1eca92"
      },
      "execution_count": null,
      "outputs": [
        {
          "output_type": "execute_result",
          "data": {
            "text/plain": [
              "                              unix   symbol      open      high       low  \\\n",
              "date                                                                        \n",
              "2022-04-26 00:00:00  1650931200000  BTC/USD  40443.37  40583.67  40406.77   \n",
              "2022-04-25 23:00:00  1650927600000  BTC/USD  40358.20  40580.00  40255.48   \n",
              "2022-04-25 22:00:00  1650924000000  BTC/USD  40221.10  40600.00  40144.63   \n",
              "2022-04-25 21:00:00  1650920400000  BTC/USD  40185.40  40259.09  40068.47   \n",
              "2022-04-25 20:00:00  1650916800000  BTC/USD  40237.17  40337.82  40076.64   \n",
              "\n",
              "                        close  Volume BTC    Volume USD  \n",
              "date                                                     \n",
              "2022-04-26 00:00:00  40482.56   10.324451  4.179602e+05  \n",
              "2022-04-25 23:00:00  40443.37   43.346135  1.753064e+06  \n",
              "2022-04-25 22:00:00  40358.20   46.846300  1.890632e+06  \n",
              "2022-04-25 21:00:00  40221.10   25.917976  1.042449e+06  \n",
              "2022-04-25 20:00:00  40185.40   79.486482  3.194196e+06  "
            ],
            "text/html": [
              "\n",
              "  <div id=\"df-c3c6199f-7372-4ea5-9bfb-04e7a33b85a0\">\n",
              "    <div class=\"colab-df-container\">\n",
              "      <div>\n",
              "<style scoped>\n",
              "    .dataframe tbody tr th:only-of-type {\n",
              "        vertical-align: middle;\n",
              "    }\n",
              "\n",
              "    .dataframe tbody tr th {\n",
              "        vertical-align: top;\n",
              "    }\n",
              "\n",
              "    .dataframe thead th {\n",
              "        text-align: right;\n",
              "    }\n",
              "</style>\n",
              "<table border=\"1\" class=\"dataframe\">\n",
              "  <thead>\n",
              "    <tr style=\"text-align: right;\">\n",
              "      <th></th>\n",
              "      <th>unix</th>\n",
              "      <th>symbol</th>\n",
              "      <th>open</th>\n",
              "      <th>high</th>\n",
              "      <th>low</th>\n",
              "      <th>close</th>\n",
              "      <th>Volume BTC</th>\n",
              "      <th>Volume USD</th>\n",
              "    </tr>\n",
              "    <tr>\n",
              "      <th>date</th>\n",
              "      <th></th>\n",
              "      <th></th>\n",
              "      <th></th>\n",
              "      <th></th>\n",
              "      <th></th>\n",
              "      <th></th>\n",
              "      <th></th>\n",
              "      <th></th>\n",
              "    </tr>\n",
              "  </thead>\n",
              "  <tbody>\n",
              "    <tr>\n",
              "      <th>2022-04-26 00:00:00</th>\n",
              "      <td>1650931200000</td>\n",
              "      <td>BTC/USD</td>\n",
              "      <td>40443.37</td>\n",
              "      <td>40583.67</td>\n",
              "      <td>40406.77</td>\n",
              "      <td>40482.56</td>\n",
              "      <td>10.324451</td>\n",
              "      <td>4.179602e+05</td>\n",
              "    </tr>\n",
              "    <tr>\n",
              "      <th>2022-04-25 23:00:00</th>\n",
              "      <td>1650927600000</td>\n",
              "      <td>BTC/USD</td>\n",
              "      <td>40358.20</td>\n",
              "      <td>40580.00</td>\n",
              "      <td>40255.48</td>\n",
              "      <td>40443.37</td>\n",
              "      <td>43.346135</td>\n",
              "      <td>1.753064e+06</td>\n",
              "    </tr>\n",
              "    <tr>\n",
              "      <th>2022-04-25 22:00:00</th>\n",
              "      <td>1650924000000</td>\n",
              "      <td>BTC/USD</td>\n",
              "      <td>40221.10</td>\n",
              "      <td>40600.00</td>\n",
              "      <td>40144.63</td>\n",
              "      <td>40358.20</td>\n",
              "      <td>46.846300</td>\n",
              "      <td>1.890632e+06</td>\n",
              "    </tr>\n",
              "    <tr>\n",
              "      <th>2022-04-25 21:00:00</th>\n",
              "      <td>1650920400000</td>\n",
              "      <td>BTC/USD</td>\n",
              "      <td>40185.40</td>\n",
              "      <td>40259.09</td>\n",
              "      <td>40068.47</td>\n",
              "      <td>40221.10</td>\n",
              "      <td>25.917976</td>\n",
              "      <td>1.042449e+06</td>\n",
              "    </tr>\n",
              "    <tr>\n",
              "      <th>2022-04-25 20:00:00</th>\n",
              "      <td>1650916800000</td>\n",
              "      <td>BTC/USD</td>\n",
              "      <td>40237.17</td>\n",
              "      <td>40337.82</td>\n",
              "      <td>40076.64</td>\n",
              "      <td>40185.40</td>\n",
              "      <td>79.486482</td>\n",
              "      <td>3.194196e+06</td>\n",
              "    </tr>\n",
              "  </tbody>\n",
              "</table>\n",
              "</div>\n",
              "      <button class=\"colab-df-convert\" onclick=\"convertToInteractive('df-c3c6199f-7372-4ea5-9bfb-04e7a33b85a0')\"\n",
              "              title=\"Convert this dataframe to an interactive table.\"\n",
              "              style=\"display:none;\">\n",
              "        \n",
              "  <svg xmlns=\"http://www.w3.org/2000/svg\" height=\"24px\"viewBox=\"0 0 24 24\"\n",
              "       width=\"24px\">\n",
              "    <path d=\"M0 0h24v24H0V0z\" fill=\"none\"/>\n",
              "    <path d=\"M18.56 5.44l.94 2.06.94-2.06 2.06-.94-2.06-.94-.94-2.06-.94 2.06-2.06.94zm-11 1L8.5 8.5l.94-2.06 2.06-.94-2.06-.94L8.5 2.5l-.94 2.06-2.06.94zm10 10l.94 2.06.94-2.06 2.06-.94-2.06-.94-.94-2.06-.94 2.06-2.06.94z\"/><path d=\"M17.41 7.96l-1.37-1.37c-.4-.4-.92-.59-1.43-.59-.52 0-1.04.2-1.43.59L10.3 9.45l-7.72 7.72c-.78.78-.78 2.05 0 2.83L4 21.41c.39.39.9.59 1.41.59.51 0 1.02-.2 1.41-.59l7.78-7.78 2.81-2.81c.8-.78.8-2.07 0-2.86zM5.41 20L4 18.59l7.72-7.72 1.47 1.35L5.41 20z\"/>\n",
              "  </svg>\n",
              "      </button>\n",
              "      \n",
              "  <style>\n",
              "    .colab-df-container {\n",
              "      display:flex;\n",
              "      flex-wrap:wrap;\n",
              "      gap: 12px;\n",
              "    }\n",
              "\n",
              "    .colab-df-convert {\n",
              "      background-color: #E8F0FE;\n",
              "      border: none;\n",
              "      border-radius: 50%;\n",
              "      cursor: pointer;\n",
              "      display: none;\n",
              "      fill: #1967D2;\n",
              "      height: 32px;\n",
              "      padding: 0 0 0 0;\n",
              "      width: 32px;\n",
              "    }\n",
              "\n",
              "    .colab-df-convert:hover {\n",
              "      background-color: #E2EBFA;\n",
              "      box-shadow: 0px 1px 2px rgba(60, 64, 67, 0.3), 0px 1px 3px 1px rgba(60, 64, 67, 0.15);\n",
              "      fill: #174EA6;\n",
              "    }\n",
              "\n",
              "    [theme=dark] .colab-df-convert {\n",
              "      background-color: #3B4455;\n",
              "      fill: #D2E3FC;\n",
              "    }\n",
              "\n",
              "    [theme=dark] .colab-df-convert:hover {\n",
              "      background-color: #434B5C;\n",
              "      box-shadow: 0px 1px 3px 1px rgba(0, 0, 0, 0.15);\n",
              "      filter: drop-shadow(0px 1px 2px rgba(0, 0, 0, 0.3));\n",
              "      fill: #FFFFFF;\n",
              "    }\n",
              "  </style>\n",
              "\n",
              "      <script>\n",
              "        const buttonEl =\n",
              "          document.querySelector('#df-c3c6199f-7372-4ea5-9bfb-04e7a33b85a0 button.colab-df-convert');\n",
              "        buttonEl.style.display =\n",
              "          google.colab.kernel.accessAllowed ? 'block' : 'none';\n",
              "\n",
              "        async function convertToInteractive(key) {\n",
              "          const element = document.querySelector('#df-c3c6199f-7372-4ea5-9bfb-04e7a33b85a0');\n",
              "          const dataTable =\n",
              "            await google.colab.kernel.invokeFunction('convertToInteractive',\n",
              "                                                     [key], {});\n",
              "          if (!dataTable) return;\n",
              "\n",
              "          const docLinkHtml = 'Like what you see? Visit the ' +\n",
              "            '<a target=\"_blank\" href=https://colab.research.google.com/notebooks/data_table.ipynb>data table notebook</a>'\n",
              "            + ' to learn more about interactive tables.';\n",
              "          element.innerHTML = '';\n",
              "          dataTable['output_type'] = 'display_data';\n",
              "          await google.colab.output.renderOutput(dataTable, element);\n",
              "          const docLink = document.createElement('div');\n",
              "          docLink.innerHTML = docLinkHtml;\n",
              "          element.appendChild(docLink);\n",
              "        }\n",
              "      </script>\n",
              "    </div>\n",
              "  </div>\n",
              "  "
            ]
          },
          "metadata": {},
          "execution_count": 4
        }
      ]
    },
    {
      "cell_type": "markdown",
      "source": [
        "**Data pre-processing**"
      ],
      "metadata": {
        "id": "6J2pjsRgDvhX"
      }
    },
    {
      "cell_type": "code",
      "source": [
        "dataset = dataset.iloc[::-1]\n",
        "dataset.head()"
      ],
      "metadata": {
        "execution": {
          "iopub.status.busy": "2022-05-11T14:32:16.806461Z",
          "iopub.execute_input": "2022-05-11T14:32:16.806709Z",
          "iopub.status.idle": "2022-05-11T14:32:16.820152Z",
          "shell.execute_reply.started": "2022-05-11T14:32:16.806682Z",
          "shell.execute_reply": "2022-05-11T14:32:16.819456Z"
        },
        "trusted": true,
        "colab": {
          "base_uri": "https://localhost:8080/",
          "height": 237
        },
        "id": "MhOhCcLhDvhZ",
        "outputId": "c449d83d-408c-4dc9-ff99-ccf799d84e83"
      },
      "execution_count": null,
      "outputs": [
        {
          "output_type": "execute_result",
          "data": {
            "text/plain": [
              "                           unix   symbol    open    high     low   close  \\\n",
              "date                                                                       \n",
              "2015-10-08 13:00:00  1444309200  BTC/USD    0.00  245.00    0.00  245.00   \n",
              "2015-10-08 14:00:00  1444312800  BTC/USD  245.00  245.00  244.50  245.00   \n",
              "2015-10-08 15:00:00  1444316400  BTC/USD  245.00  245.00  244.92  244.92   \n",
              "2015-10-08 16:00:00  1444320000  BTC/USD  244.92  244.92  244.25  244.25   \n",
              "2015-10-08 17:00:00  1444323600  BTC/USD  244.25  244.99  244.02  244.99   \n",
              "\n",
              "                     Volume BTC   Volume USD  \n",
              "date                                          \n",
              "2015-10-08 13:00:00    0.606654   148.630323  \n",
              "2015-10-08 14:00:00    4.453649  1091.143988  \n",
              "2015-10-08 15:00:00    3.016926   738.905474  \n",
              "2015-10-08 16:00:00    3.895252   951.415413  \n",
              "2015-10-08 17:00:00    3.920632   960.515634  "
            ],
            "text/html": [
              "\n",
              "  <div id=\"df-57704fc1-408c-442a-821a-95b6406496f1\">\n",
              "    <div class=\"colab-df-container\">\n",
              "      <div>\n",
              "<style scoped>\n",
              "    .dataframe tbody tr th:only-of-type {\n",
              "        vertical-align: middle;\n",
              "    }\n",
              "\n",
              "    .dataframe tbody tr th {\n",
              "        vertical-align: top;\n",
              "    }\n",
              "\n",
              "    .dataframe thead th {\n",
              "        text-align: right;\n",
              "    }\n",
              "</style>\n",
              "<table border=\"1\" class=\"dataframe\">\n",
              "  <thead>\n",
              "    <tr style=\"text-align: right;\">\n",
              "      <th></th>\n",
              "      <th>unix</th>\n",
              "      <th>symbol</th>\n",
              "      <th>open</th>\n",
              "      <th>high</th>\n",
              "      <th>low</th>\n",
              "      <th>close</th>\n",
              "      <th>Volume BTC</th>\n",
              "      <th>Volume USD</th>\n",
              "    </tr>\n",
              "    <tr>\n",
              "      <th>date</th>\n",
              "      <th></th>\n",
              "      <th></th>\n",
              "      <th></th>\n",
              "      <th></th>\n",
              "      <th></th>\n",
              "      <th></th>\n",
              "      <th></th>\n",
              "      <th></th>\n",
              "    </tr>\n",
              "  </thead>\n",
              "  <tbody>\n",
              "    <tr>\n",
              "      <th>2015-10-08 13:00:00</th>\n",
              "      <td>1444309200</td>\n",
              "      <td>BTC/USD</td>\n",
              "      <td>0.00</td>\n",
              "      <td>245.00</td>\n",
              "      <td>0.00</td>\n",
              "      <td>245.00</td>\n",
              "      <td>0.606654</td>\n",
              "      <td>148.630323</td>\n",
              "    </tr>\n",
              "    <tr>\n",
              "      <th>2015-10-08 14:00:00</th>\n",
              "      <td>1444312800</td>\n",
              "      <td>BTC/USD</td>\n",
              "      <td>245.00</td>\n",
              "      <td>245.00</td>\n",
              "      <td>244.50</td>\n",
              "      <td>245.00</td>\n",
              "      <td>4.453649</td>\n",
              "      <td>1091.143988</td>\n",
              "    </tr>\n",
              "    <tr>\n",
              "      <th>2015-10-08 15:00:00</th>\n",
              "      <td>1444316400</td>\n",
              "      <td>BTC/USD</td>\n",
              "      <td>245.00</td>\n",
              "      <td>245.00</td>\n",
              "      <td>244.92</td>\n",
              "      <td>244.92</td>\n",
              "      <td>3.016926</td>\n",
              "      <td>738.905474</td>\n",
              "    </tr>\n",
              "    <tr>\n",
              "      <th>2015-10-08 16:00:00</th>\n",
              "      <td>1444320000</td>\n",
              "      <td>BTC/USD</td>\n",
              "      <td>244.92</td>\n",
              "      <td>244.92</td>\n",
              "      <td>244.25</td>\n",
              "      <td>244.25</td>\n",
              "      <td>3.895252</td>\n",
              "      <td>951.415413</td>\n",
              "    </tr>\n",
              "    <tr>\n",
              "      <th>2015-10-08 17:00:00</th>\n",
              "      <td>1444323600</td>\n",
              "      <td>BTC/USD</td>\n",
              "      <td>244.25</td>\n",
              "      <td>244.99</td>\n",
              "      <td>244.02</td>\n",
              "      <td>244.99</td>\n",
              "      <td>3.920632</td>\n",
              "      <td>960.515634</td>\n",
              "    </tr>\n",
              "  </tbody>\n",
              "</table>\n",
              "</div>\n",
              "      <button class=\"colab-df-convert\" onclick=\"convertToInteractive('df-57704fc1-408c-442a-821a-95b6406496f1')\"\n",
              "              title=\"Convert this dataframe to an interactive table.\"\n",
              "              style=\"display:none;\">\n",
              "        \n",
              "  <svg xmlns=\"http://www.w3.org/2000/svg\" height=\"24px\"viewBox=\"0 0 24 24\"\n",
              "       width=\"24px\">\n",
              "    <path d=\"M0 0h24v24H0V0z\" fill=\"none\"/>\n",
              "    <path d=\"M18.56 5.44l.94 2.06.94-2.06 2.06-.94-2.06-.94-.94-2.06-.94 2.06-2.06.94zm-11 1L8.5 8.5l.94-2.06 2.06-.94-2.06-.94L8.5 2.5l-.94 2.06-2.06.94zm10 10l.94 2.06.94-2.06 2.06-.94-2.06-.94-.94-2.06-.94 2.06-2.06.94z\"/><path d=\"M17.41 7.96l-1.37-1.37c-.4-.4-.92-.59-1.43-.59-.52 0-1.04.2-1.43.59L10.3 9.45l-7.72 7.72c-.78.78-.78 2.05 0 2.83L4 21.41c.39.39.9.59 1.41.59.51 0 1.02-.2 1.41-.59l7.78-7.78 2.81-2.81c.8-.78.8-2.07 0-2.86zM5.41 20L4 18.59l7.72-7.72 1.47 1.35L5.41 20z\"/>\n",
              "  </svg>\n",
              "      </button>\n",
              "      \n",
              "  <style>\n",
              "    .colab-df-container {\n",
              "      display:flex;\n",
              "      flex-wrap:wrap;\n",
              "      gap: 12px;\n",
              "    }\n",
              "\n",
              "    .colab-df-convert {\n",
              "      background-color: #E8F0FE;\n",
              "      border: none;\n",
              "      border-radius: 50%;\n",
              "      cursor: pointer;\n",
              "      display: none;\n",
              "      fill: #1967D2;\n",
              "      height: 32px;\n",
              "      padding: 0 0 0 0;\n",
              "      width: 32px;\n",
              "    }\n",
              "\n",
              "    .colab-df-convert:hover {\n",
              "      background-color: #E2EBFA;\n",
              "      box-shadow: 0px 1px 2px rgba(60, 64, 67, 0.3), 0px 1px 3px 1px rgba(60, 64, 67, 0.15);\n",
              "      fill: #174EA6;\n",
              "    }\n",
              "\n",
              "    [theme=dark] .colab-df-convert {\n",
              "      background-color: #3B4455;\n",
              "      fill: #D2E3FC;\n",
              "    }\n",
              "\n",
              "    [theme=dark] .colab-df-convert:hover {\n",
              "      background-color: #434B5C;\n",
              "      box-shadow: 0px 1px 3px 1px rgba(0, 0, 0, 0.15);\n",
              "      filter: drop-shadow(0px 1px 2px rgba(0, 0, 0, 0.3));\n",
              "      fill: #FFFFFF;\n",
              "    }\n",
              "  </style>\n",
              "\n",
              "      <script>\n",
              "        const buttonEl =\n",
              "          document.querySelector('#df-57704fc1-408c-442a-821a-95b6406496f1 button.colab-df-convert');\n",
              "        buttonEl.style.display =\n",
              "          google.colab.kernel.accessAllowed ? 'block' : 'none';\n",
              "\n",
              "        async function convertToInteractive(key) {\n",
              "          const element = document.querySelector('#df-57704fc1-408c-442a-821a-95b6406496f1');\n",
              "          const dataTable =\n",
              "            await google.colab.kernel.invokeFunction('convertToInteractive',\n",
              "                                                     [key], {});\n",
              "          if (!dataTable) return;\n",
              "\n",
              "          const docLinkHtml = 'Like what you see? Visit the ' +\n",
              "            '<a target=\"_blank\" href=https://colab.research.google.com/notebooks/data_table.ipynb>data table notebook</a>'\n",
              "            + ' to learn more about interactive tables.';\n",
              "          element.innerHTML = '';\n",
              "          dataTable['output_type'] = 'display_data';\n",
              "          await google.colab.output.renderOutput(dataTable, element);\n",
              "          const docLink = document.createElement('div');\n",
              "          docLink.innerHTML = docLinkHtml;\n",
              "          element.appendChild(docLink);\n",
              "        }\n",
              "      </script>\n",
              "    </div>\n",
              "  </div>\n",
              "  "
            ]
          },
          "metadata": {},
          "execution_count": 5
        }
      ]
    },
    {
      "cell_type": "code",
      "source": [
        "df = dataset.reset_index()\n",
        "df"
      ],
      "metadata": {
        "execution": {
          "iopub.status.busy": "2022-05-11T14:32:19.241657Z",
          "iopub.execute_input": "2022-05-11T14:32:19.242093Z",
          "iopub.status.idle": "2022-05-11T14:32:19.264879Z",
          "shell.execute_reply.started": "2022-05-11T14:32:19.242056Z",
          "shell.execute_reply": "2022-05-11T14:32:19.264215Z"
        },
        "trusted": true,
        "colab": {
          "base_uri": "https://localhost:8080/",
          "height": 423
        },
        "id": "qdpHV6beDvha",
        "outputId": "e0fba594-afa9-458c-c03c-91a81ad9756a"
      },
      "execution_count": null,
      "outputs": [
        {
          "output_type": "execute_result",
          "data": {
            "text/plain": [
              "                      date           unix   symbol      open      high  \\\n",
              "0      2015-10-08 13:00:00     1444309200  BTC/USD      0.00    245.00   \n",
              "1      2015-10-08 14:00:00     1444312800  BTC/USD    245.00    245.00   \n",
              "2      2015-10-08 15:00:00     1444316400  BTC/USD    245.00    245.00   \n",
              "3      2015-10-08 16:00:00     1444320000  BTC/USD    244.92    244.92   \n",
              "4      2015-10-08 17:00:00     1444323600  BTC/USD    244.25    244.99   \n",
              "...                    ...            ...      ...       ...       ...   \n",
              "57388  2022-04-25 20:00:00  1650916800000  BTC/USD  40237.17  40337.82   \n",
              "57389  2022-04-25 21:00:00  1650920400000  BTC/USD  40185.40  40259.09   \n",
              "57390  2022-04-25 22:00:00  1650924000000  BTC/USD  40221.10  40600.00   \n",
              "57391  2022-04-25 23:00:00  1650927600000  BTC/USD  40358.20  40580.00   \n",
              "57392  2022-04-26 00:00:00  1650931200000  BTC/USD  40443.37  40583.67   \n",
              "\n",
              "            low     close  Volume BTC    Volume USD  \n",
              "0          0.00    245.00    0.606654  1.486303e+02  \n",
              "1        244.50    245.00    4.453649  1.091144e+03  \n",
              "2        244.92    244.92    3.016926  7.389055e+02  \n",
              "3        244.25    244.25    3.895252  9.514154e+02  \n",
              "4        244.02    244.99    3.920632  9.605156e+02  \n",
              "...         ...       ...         ...           ...  \n",
              "57388  40076.64  40185.40   79.486482  3.194196e+06  \n",
              "57389  40068.47  40221.10   25.917976  1.042449e+06  \n",
              "57390  40144.63  40358.20   46.846300  1.890632e+06  \n",
              "57391  40255.48  40443.37   43.346135  1.753064e+06  \n",
              "57392  40406.77  40482.56   10.324451  4.179602e+05  \n",
              "\n",
              "[57393 rows x 9 columns]"
            ],
            "text/html": [
              "\n",
              "  <div id=\"df-f2ef4a0a-e37d-4ae8-bf84-1e663d6fb662\">\n",
              "    <div class=\"colab-df-container\">\n",
              "      <div>\n",
              "<style scoped>\n",
              "    .dataframe tbody tr th:only-of-type {\n",
              "        vertical-align: middle;\n",
              "    }\n",
              "\n",
              "    .dataframe tbody tr th {\n",
              "        vertical-align: top;\n",
              "    }\n",
              "\n",
              "    .dataframe thead th {\n",
              "        text-align: right;\n",
              "    }\n",
              "</style>\n",
              "<table border=\"1\" class=\"dataframe\">\n",
              "  <thead>\n",
              "    <tr style=\"text-align: right;\">\n",
              "      <th></th>\n",
              "      <th>date</th>\n",
              "      <th>unix</th>\n",
              "      <th>symbol</th>\n",
              "      <th>open</th>\n",
              "      <th>high</th>\n",
              "      <th>low</th>\n",
              "      <th>close</th>\n",
              "      <th>Volume BTC</th>\n",
              "      <th>Volume USD</th>\n",
              "    </tr>\n",
              "  </thead>\n",
              "  <tbody>\n",
              "    <tr>\n",
              "      <th>0</th>\n",
              "      <td>2015-10-08 13:00:00</td>\n",
              "      <td>1444309200</td>\n",
              "      <td>BTC/USD</td>\n",
              "      <td>0.00</td>\n",
              "      <td>245.00</td>\n",
              "      <td>0.00</td>\n",
              "      <td>245.00</td>\n",
              "      <td>0.606654</td>\n",
              "      <td>1.486303e+02</td>\n",
              "    </tr>\n",
              "    <tr>\n",
              "      <th>1</th>\n",
              "      <td>2015-10-08 14:00:00</td>\n",
              "      <td>1444312800</td>\n",
              "      <td>BTC/USD</td>\n",
              "      <td>245.00</td>\n",
              "      <td>245.00</td>\n",
              "      <td>244.50</td>\n",
              "      <td>245.00</td>\n",
              "      <td>4.453649</td>\n",
              "      <td>1.091144e+03</td>\n",
              "    </tr>\n",
              "    <tr>\n",
              "      <th>2</th>\n",
              "      <td>2015-10-08 15:00:00</td>\n",
              "      <td>1444316400</td>\n",
              "      <td>BTC/USD</td>\n",
              "      <td>245.00</td>\n",
              "      <td>245.00</td>\n",
              "      <td>244.92</td>\n",
              "      <td>244.92</td>\n",
              "      <td>3.016926</td>\n",
              "      <td>7.389055e+02</td>\n",
              "    </tr>\n",
              "    <tr>\n",
              "      <th>3</th>\n",
              "      <td>2015-10-08 16:00:00</td>\n",
              "      <td>1444320000</td>\n",
              "      <td>BTC/USD</td>\n",
              "      <td>244.92</td>\n",
              "      <td>244.92</td>\n",
              "      <td>244.25</td>\n",
              "      <td>244.25</td>\n",
              "      <td>3.895252</td>\n",
              "      <td>9.514154e+02</td>\n",
              "    </tr>\n",
              "    <tr>\n",
              "      <th>4</th>\n",
              "      <td>2015-10-08 17:00:00</td>\n",
              "      <td>1444323600</td>\n",
              "      <td>BTC/USD</td>\n",
              "      <td>244.25</td>\n",
              "      <td>244.99</td>\n",
              "      <td>244.02</td>\n",
              "      <td>244.99</td>\n",
              "      <td>3.920632</td>\n",
              "      <td>9.605156e+02</td>\n",
              "    </tr>\n",
              "    <tr>\n",
              "      <th>...</th>\n",
              "      <td>...</td>\n",
              "      <td>...</td>\n",
              "      <td>...</td>\n",
              "      <td>...</td>\n",
              "      <td>...</td>\n",
              "      <td>...</td>\n",
              "      <td>...</td>\n",
              "      <td>...</td>\n",
              "      <td>...</td>\n",
              "    </tr>\n",
              "    <tr>\n",
              "      <th>57388</th>\n",
              "      <td>2022-04-25 20:00:00</td>\n",
              "      <td>1650916800000</td>\n",
              "      <td>BTC/USD</td>\n",
              "      <td>40237.17</td>\n",
              "      <td>40337.82</td>\n",
              "      <td>40076.64</td>\n",
              "      <td>40185.40</td>\n",
              "      <td>79.486482</td>\n",
              "      <td>3.194196e+06</td>\n",
              "    </tr>\n",
              "    <tr>\n",
              "      <th>57389</th>\n",
              "      <td>2022-04-25 21:00:00</td>\n",
              "      <td>1650920400000</td>\n",
              "      <td>BTC/USD</td>\n",
              "      <td>40185.40</td>\n",
              "      <td>40259.09</td>\n",
              "      <td>40068.47</td>\n",
              "      <td>40221.10</td>\n",
              "      <td>25.917976</td>\n",
              "      <td>1.042449e+06</td>\n",
              "    </tr>\n",
              "    <tr>\n",
              "      <th>57390</th>\n",
              "      <td>2022-04-25 22:00:00</td>\n",
              "      <td>1650924000000</td>\n",
              "      <td>BTC/USD</td>\n",
              "      <td>40221.10</td>\n",
              "      <td>40600.00</td>\n",
              "      <td>40144.63</td>\n",
              "      <td>40358.20</td>\n",
              "      <td>46.846300</td>\n",
              "      <td>1.890632e+06</td>\n",
              "    </tr>\n",
              "    <tr>\n",
              "      <th>57391</th>\n",
              "      <td>2022-04-25 23:00:00</td>\n",
              "      <td>1650927600000</td>\n",
              "      <td>BTC/USD</td>\n",
              "      <td>40358.20</td>\n",
              "      <td>40580.00</td>\n",
              "      <td>40255.48</td>\n",
              "      <td>40443.37</td>\n",
              "      <td>43.346135</td>\n",
              "      <td>1.753064e+06</td>\n",
              "    </tr>\n",
              "    <tr>\n",
              "      <th>57392</th>\n",
              "      <td>2022-04-26 00:00:00</td>\n",
              "      <td>1650931200000</td>\n",
              "      <td>BTC/USD</td>\n",
              "      <td>40443.37</td>\n",
              "      <td>40583.67</td>\n",
              "      <td>40406.77</td>\n",
              "      <td>40482.56</td>\n",
              "      <td>10.324451</td>\n",
              "      <td>4.179602e+05</td>\n",
              "    </tr>\n",
              "  </tbody>\n",
              "</table>\n",
              "<p>57393 rows × 9 columns</p>\n",
              "</div>\n",
              "      <button class=\"colab-df-convert\" onclick=\"convertToInteractive('df-f2ef4a0a-e37d-4ae8-bf84-1e663d6fb662')\"\n",
              "              title=\"Convert this dataframe to an interactive table.\"\n",
              "              style=\"display:none;\">\n",
              "        \n",
              "  <svg xmlns=\"http://www.w3.org/2000/svg\" height=\"24px\"viewBox=\"0 0 24 24\"\n",
              "       width=\"24px\">\n",
              "    <path d=\"M0 0h24v24H0V0z\" fill=\"none\"/>\n",
              "    <path d=\"M18.56 5.44l.94 2.06.94-2.06 2.06-.94-2.06-.94-.94-2.06-.94 2.06-2.06.94zm-11 1L8.5 8.5l.94-2.06 2.06-.94-2.06-.94L8.5 2.5l-.94 2.06-2.06.94zm10 10l.94 2.06.94-2.06 2.06-.94-2.06-.94-.94-2.06-.94 2.06-2.06.94z\"/><path d=\"M17.41 7.96l-1.37-1.37c-.4-.4-.92-.59-1.43-.59-.52 0-1.04.2-1.43.59L10.3 9.45l-7.72 7.72c-.78.78-.78 2.05 0 2.83L4 21.41c.39.39.9.59 1.41.59.51 0 1.02-.2 1.41-.59l7.78-7.78 2.81-2.81c.8-.78.8-2.07 0-2.86zM5.41 20L4 18.59l7.72-7.72 1.47 1.35L5.41 20z\"/>\n",
              "  </svg>\n",
              "      </button>\n",
              "      \n",
              "  <style>\n",
              "    .colab-df-container {\n",
              "      display:flex;\n",
              "      flex-wrap:wrap;\n",
              "      gap: 12px;\n",
              "    }\n",
              "\n",
              "    .colab-df-convert {\n",
              "      background-color: #E8F0FE;\n",
              "      border: none;\n",
              "      border-radius: 50%;\n",
              "      cursor: pointer;\n",
              "      display: none;\n",
              "      fill: #1967D2;\n",
              "      height: 32px;\n",
              "      padding: 0 0 0 0;\n",
              "      width: 32px;\n",
              "    }\n",
              "\n",
              "    .colab-df-convert:hover {\n",
              "      background-color: #E2EBFA;\n",
              "      box-shadow: 0px 1px 2px rgba(60, 64, 67, 0.3), 0px 1px 3px 1px rgba(60, 64, 67, 0.15);\n",
              "      fill: #174EA6;\n",
              "    }\n",
              "\n",
              "    [theme=dark] .colab-df-convert {\n",
              "      background-color: #3B4455;\n",
              "      fill: #D2E3FC;\n",
              "    }\n",
              "\n",
              "    [theme=dark] .colab-df-convert:hover {\n",
              "      background-color: #434B5C;\n",
              "      box-shadow: 0px 1px 3px 1px rgba(0, 0, 0, 0.15);\n",
              "      filter: drop-shadow(0px 1px 2px rgba(0, 0, 0, 0.3));\n",
              "      fill: #FFFFFF;\n",
              "    }\n",
              "  </style>\n",
              "\n",
              "      <script>\n",
              "        const buttonEl =\n",
              "          document.querySelector('#df-f2ef4a0a-e37d-4ae8-bf84-1e663d6fb662 button.colab-df-convert');\n",
              "        buttonEl.style.display =\n",
              "          google.colab.kernel.accessAllowed ? 'block' : 'none';\n",
              "\n",
              "        async function convertToInteractive(key) {\n",
              "          const element = document.querySelector('#df-f2ef4a0a-e37d-4ae8-bf84-1e663d6fb662');\n",
              "          const dataTable =\n",
              "            await google.colab.kernel.invokeFunction('convertToInteractive',\n",
              "                                                     [key], {});\n",
              "          if (!dataTable) return;\n",
              "\n",
              "          const docLinkHtml = 'Like what you see? Visit the ' +\n",
              "            '<a target=\"_blank\" href=https://colab.research.google.com/notebooks/data_table.ipynb>data table notebook</a>'\n",
              "            + ' to learn more about interactive tables.';\n",
              "          element.innerHTML = '';\n",
              "          dataTable['output_type'] = 'display_data';\n",
              "          await google.colab.output.renderOutput(dataTable, element);\n",
              "          const docLink = document.createElement('div');\n",
              "          docLink.innerHTML = docLinkHtml;\n",
              "          element.appendChild(docLink);\n",
              "        }\n",
              "      </script>\n",
              "    </div>\n",
              "  </div>\n",
              "  "
            ]
          },
          "metadata": {},
          "execution_count": 6
        }
      ]
    },
    {
      "cell_type": "code",
      "source": [
        "df = df[[\"open\", \"high\", \"low\", \"close\",\"Volume BTC\", \"Volume USD\"]]\n",
        "#df = df[['Close']]\n",
        "df.head()"
      ],
      "metadata": {
        "execution": {
          "iopub.status.busy": "2022-05-11T14:32:22.128693Z",
          "iopub.execute_input": "2022-05-11T14:32:22.128945Z",
          "iopub.status.idle": "2022-05-11T14:32:22.149806Z",
          "shell.execute_reply.started": "2022-05-11T14:32:22.128917Z",
          "shell.execute_reply": "2022-05-11T14:32:22.149097Z"
        },
        "trusted": true,
        "colab": {
          "base_uri": "https://localhost:8080/",
          "height": 206
        },
        "id": "VojNgO3-Dvhb",
        "outputId": "c932e455-b0ad-4964-cb86-97836ee8b7fc"
      },
      "execution_count": null,
      "outputs": [
        {
          "output_type": "execute_result",
          "data": {
            "text/plain": [
              "     open    high     low   close  Volume BTC   Volume USD\n",
              "0    0.00  245.00    0.00  245.00    0.606654   148.630323\n",
              "1  245.00  245.00  244.50  245.00    4.453649  1091.143988\n",
              "2  245.00  245.00  244.92  244.92    3.016926   738.905474\n",
              "3  244.92  244.92  244.25  244.25    3.895252   951.415413\n",
              "4  244.25  244.99  244.02  244.99    3.920632   960.515634"
            ],
            "text/html": [
              "\n",
              "  <div id=\"df-f12f658f-662c-4c7a-8bff-5e93bae2ed9e\">\n",
              "    <div class=\"colab-df-container\">\n",
              "      <div>\n",
              "<style scoped>\n",
              "    .dataframe tbody tr th:only-of-type {\n",
              "        vertical-align: middle;\n",
              "    }\n",
              "\n",
              "    .dataframe tbody tr th {\n",
              "        vertical-align: top;\n",
              "    }\n",
              "\n",
              "    .dataframe thead th {\n",
              "        text-align: right;\n",
              "    }\n",
              "</style>\n",
              "<table border=\"1\" class=\"dataframe\">\n",
              "  <thead>\n",
              "    <tr style=\"text-align: right;\">\n",
              "      <th></th>\n",
              "      <th>open</th>\n",
              "      <th>high</th>\n",
              "      <th>low</th>\n",
              "      <th>close</th>\n",
              "      <th>Volume BTC</th>\n",
              "      <th>Volume USD</th>\n",
              "    </tr>\n",
              "  </thead>\n",
              "  <tbody>\n",
              "    <tr>\n",
              "      <th>0</th>\n",
              "      <td>0.00</td>\n",
              "      <td>245.00</td>\n",
              "      <td>0.00</td>\n",
              "      <td>245.00</td>\n",
              "      <td>0.606654</td>\n",
              "      <td>148.630323</td>\n",
              "    </tr>\n",
              "    <tr>\n",
              "      <th>1</th>\n",
              "      <td>245.00</td>\n",
              "      <td>245.00</td>\n",
              "      <td>244.50</td>\n",
              "      <td>245.00</td>\n",
              "      <td>4.453649</td>\n",
              "      <td>1091.143988</td>\n",
              "    </tr>\n",
              "    <tr>\n",
              "      <th>2</th>\n",
              "      <td>245.00</td>\n",
              "      <td>245.00</td>\n",
              "      <td>244.92</td>\n",
              "      <td>244.92</td>\n",
              "      <td>3.016926</td>\n",
              "      <td>738.905474</td>\n",
              "    </tr>\n",
              "    <tr>\n",
              "      <th>3</th>\n",
              "      <td>244.92</td>\n",
              "      <td>244.92</td>\n",
              "      <td>244.25</td>\n",
              "      <td>244.25</td>\n",
              "      <td>3.895252</td>\n",
              "      <td>951.415413</td>\n",
              "    </tr>\n",
              "    <tr>\n",
              "      <th>4</th>\n",
              "      <td>244.25</td>\n",
              "      <td>244.99</td>\n",
              "      <td>244.02</td>\n",
              "      <td>244.99</td>\n",
              "      <td>3.920632</td>\n",
              "      <td>960.515634</td>\n",
              "    </tr>\n",
              "  </tbody>\n",
              "</table>\n",
              "</div>\n",
              "      <button class=\"colab-df-convert\" onclick=\"convertToInteractive('df-f12f658f-662c-4c7a-8bff-5e93bae2ed9e')\"\n",
              "              title=\"Convert this dataframe to an interactive table.\"\n",
              "              style=\"display:none;\">\n",
              "        \n",
              "  <svg xmlns=\"http://www.w3.org/2000/svg\" height=\"24px\"viewBox=\"0 0 24 24\"\n",
              "       width=\"24px\">\n",
              "    <path d=\"M0 0h24v24H0V0z\" fill=\"none\"/>\n",
              "    <path d=\"M18.56 5.44l.94 2.06.94-2.06 2.06-.94-2.06-.94-.94-2.06-.94 2.06-2.06.94zm-11 1L8.5 8.5l.94-2.06 2.06-.94-2.06-.94L8.5 2.5l-.94 2.06-2.06.94zm10 10l.94 2.06.94-2.06 2.06-.94-2.06-.94-.94-2.06-.94 2.06-2.06.94z\"/><path d=\"M17.41 7.96l-1.37-1.37c-.4-.4-.92-.59-1.43-.59-.52 0-1.04.2-1.43.59L10.3 9.45l-7.72 7.72c-.78.78-.78 2.05 0 2.83L4 21.41c.39.39.9.59 1.41.59.51 0 1.02-.2 1.41-.59l7.78-7.78 2.81-2.81c.8-.78.8-2.07 0-2.86zM5.41 20L4 18.59l7.72-7.72 1.47 1.35L5.41 20z\"/>\n",
              "  </svg>\n",
              "      </button>\n",
              "      \n",
              "  <style>\n",
              "    .colab-df-container {\n",
              "      display:flex;\n",
              "      flex-wrap:wrap;\n",
              "      gap: 12px;\n",
              "    }\n",
              "\n",
              "    .colab-df-convert {\n",
              "      background-color: #E8F0FE;\n",
              "      border: none;\n",
              "      border-radius: 50%;\n",
              "      cursor: pointer;\n",
              "      display: none;\n",
              "      fill: #1967D2;\n",
              "      height: 32px;\n",
              "      padding: 0 0 0 0;\n",
              "      width: 32px;\n",
              "    }\n",
              "\n",
              "    .colab-df-convert:hover {\n",
              "      background-color: #E2EBFA;\n",
              "      box-shadow: 0px 1px 2px rgba(60, 64, 67, 0.3), 0px 1px 3px 1px rgba(60, 64, 67, 0.15);\n",
              "      fill: #174EA6;\n",
              "    }\n",
              "\n",
              "    [theme=dark] .colab-df-convert {\n",
              "      background-color: #3B4455;\n",
              "      fill: #D2E3FC;\n",
              "    }\n",
              "\n",
              "    [theme=dark] .colab-df-convert:hover {\n",
              "      background-color: #434B5C;\n",
              "      box-shadow: 0px 1px 3px 1px rgba(0, 0, 0, 0.15);\n",
              "      filter: drop-shadow(0px 1px 2px rgba(0, 0, 0, 0.3));\n",
              "      fill: #FFFFFF;\n",
              "    }\n",
              "  </style>\n",
              "\n",
              "      <script>\n",
              "        const buttonEl =\n",
              "          document.querySelector('#df-f12f658f-662c-4c7a-8bff-5e93bae2ed9e button.colab-df-convert');\n",
              "        buttonEl.style.display =\n",
              "          google.colab.kernel.accessAllowed ? 'block' : 'none';\n",
              "\n",
              "        async function convertToInteractive(key) {\n",
              "          const element = document.querySelector('#df-f12f658f-662c-4c7a-8bff-5e93bae2ed9e');\n",
              "          const dataTable =\n",
              "            await google.colab.kernel.invokeFunction('convertToInteractive',\n",
              "                                                     [key], {});\n",
              "          if (!dataTable) return;\n",
              "\n",
              "          const docLinkHtml = 'Like what you see? Visit the ' +\n",
              "            '<a target=\"_blank\" href=https://colab.research.google.com/notebooks/data_table.ipynb>data table notebook</a>'\n",
              "            + ' to learn more about interactive tables.';\n",
              "          element.innerHTML = '';\n",
              "          dataTable['output_type'] = 'display_data';\n",
              "          await google.colab.output.renderOutput(dataTable, element);\n",
              "          const docLink = document.createElement('div');\n",
              "          docLink.innerHTML = docLinkHtml;\n",
              "          element.appendChild(docLink);\n",
              "        }\n",
              "      </script>\n",
              "    </div>\n",
              "  </div>\n",
              "  "
            ]
          },
          "metadata": {},
          "execution_count": 7
        }
      ]
    },
    {
      "cell_type": "code",
      "source": [
        "plt.figure(figsize=(12,6))\n",
        "sns.lineplot(x=df.index, y='close', data=df).set_title(\"Price of Bitcoin\")"
      ],
      "metadata": {
        "execution": {
          "iopub.status.busy": "2022-05-11T14:32:24.636604Z",
          "iopub.execute_input": "2022-05-11T14:32:24.637155Z",
          "iopub.status.idle": "2022-05-11T14:32:26.686327Z",
          "shell.execute_reply.started": "2022-05-11T14:32:24.637116Z",
          "shell.execute_reply": "2022-05-11T14:32:26.685639Z"
        },
        "trusted": true,
        "colab": {
          "base_uri": "https://localhost:8080/",
          "height": 407
        },
        "id": "Z3-4zeKvDvhc",
        "outputId": "e1d76193-3ff1-4967-ce48-4469ff9d5298"
      },
      "execution_count": null,
      "outputs": [
        {
          "output_type": "execute_result",
          "data": {
            "text/plain": [
              "Text(0.5, 1.0, 'Price of Bitcoin')"
            ]
          },
          "metadata": {},
          "execution_count": 8
        },
        {
          "output_type": "display_data",
          "data": {
            "text/plain": [
              "<Figure size 864x432 with 1 Axes>"
            ],
            "image/png": "[encoded data removed]"
          },
          "metadata": {
            "needs_background": "light"
          }
        }
      ]
    },
    {
      "cell_type": "code",
      "source": [
        "SEQ_LEN = 120\n",
        "FUTURE_PERIOD = 10\n",
        "\n",
        "RATIO_TO_PREDICT = \"close\""
      ],
      "metadata": {
        "execution": {
          "iopub.status.busy": "2022-05-11T14:32:32.049134Z",
          "iopub.execute_input": "2022-05-11T14:32:32.049823Z",
          "iopub.status.idle": "2022-05-11T14:32:32.054361Z",
          "shell.execute_reply.started": "2022-05-11T14:32:32.049787Z",
          "shell.execute_reply": "2022-05-11T14:32:32.053239Z"
        },
        "trusted": true,
        "id": "HjbPPBpjDvhd"
      },
      "execution_count": null,
      "outputs": []
    },
    {
      "cell_type": "code",
      "source": [
        "times = sorted(df.index.values)  # get the times\n",
        "last_10 = sorted(df.index.values)[-int(0.1*len(times))] \n",
        "last_20 = sorted(df.index.values)[-int(0.2*len(times))]\n",
        "\n",
        "test_df = df[(df.index >= last_10)]\n",
        "validation_df = df[(df.index >= last_20) & (df.index < last_10)]  \n",
        "train_df = df[(df.index < last_20)] "
      ],
      "metadata": {
        "execution": {
          "iopub.status.busy": "2022-05-11T14:32:34.940280Z",
          "iopub.execute_input": "2022-05-11T14:32:34.940561Z",
          "iopub.status.idle": "2022-05-11T14:32:34.973940Z",
          "shell.execute_reply.started": "2022-05-11T14:32:34.940534Z",
          "shell.execute_reply": "2022-05-11T14:32:34.973049Z"
        },
        "trusted": true,
        "id": "jqHpxMJRDvhe"
      },
      "execution_count": null,
      "outputs": []
    },
    {
      "cell_type": "code",
      "source": [
        "train_ = train_df.values\n",
        "valid_ = validation_df.values\n",
        "test_ = test_df.values"
      ],
      "metadata": {
        "execution": {
          "iopub.status.busy": "2022-05-11T14:32:39.947942Z",
          "iopub.execute_input": "2022-05-11T14:32:39.948653Z",
          "iopub.status.idle": "2022-05-11T14:32:39.953882Z",
          "shell.execute_reply.started": "2022-05-11T14:32:39.948618Z",
          "shell.execute_reply": "2022-05-11T14:32:39.952032Z"
        },
        "trusted": true,
        "id": "TVN_wQBiDvhf"
      },
      "execution_count": null,
      "outputs": []
    },
    {
      "cell_type": "code",
      "source": [
        "print(\"train shape {0}\".format(train_.shape))\n",
        "print(\"valid shape {0}\".format(valid_.shape))\n",
        "print(\"test shape {0}\".format(test_.shape))"
      ],
      "metadata": {
        "execution": {
          "iopub.status.busy": "2022-05-11T14:32:41.802555Z",
          "iopub.execute_input": "2022-05-11T14:32:41.802817Z",
          "iopub.status.idle": "2022-05-11T14:32:41.808789Z",
          "shell.execute_reply.started": "2022-05-11T14:32:41.802789Z",
          "shell.execute_reply": "2022-05-11T14:32:41.808052Z"
        },
        "trusted": true,
        "colab": {
          "base_uri": "https://localhost:8080/"
        },
        "id": "xzVzhK-NDvhf",
        "outputId": "a6ec8ed9-ce0d-4a28-d93a-f4479536749f"
      },
      "execution_count": null,
      "outputs": [
        {
          "output_type": "stream",
          "name": "stdout",
          "text": [
            "train shape (45915, 6)\n",
            "valid shape (5739, 6)\n",
            "test shape (5739, 6)\n"
          ]
        }
      ]
    },
    {
      "cell_type": "code",
      "source": [
        "from sklearn.preprocessing import MinMaxScaler\n",
        "scaler = MinMaxScaler()\n",
        "scale_close = MinMaxScaler()"
      ],
      "metadata": {
        "execution": {
          "iopub.status.busy": "2022-05-11T14:32:44.373667Z",
          "iopub.execute_input": "2022-05-11T14:32:44.373930Z",
          "iopub.status.idle": "2022-05-11T14:32:44.488926Z",
          "shell.execute_reply.started": "2022-05-11T14:32:44.373904Z",
          "shell.execute_reply": "2022-05-11T14:32:44.488096Z"
        },
        "trusted": true,
        "id": "fYp2sIb9Dvhg"
      },
      "execution_count": null,
      "outputs": []
    },
    {
      "cell_type": "code",
      "source": [
        "x = train_[:,3].copy()\n",
        "scale_close.fit(x.reshape(-1, 1))"
      ],
      "metadata": {
        "execution": {
          "iopub.status.busy": "2022-05-11T14:32:46.635789Z",
          "iopub.execute_input": "2022-05-11T14:32:46.636067Z",
          "iopub.status.idle": "2022-05-11T14:32:46.644711Z",
          "shell.execute_reply.started": "2022-05-11T14:32:46.636037Z",
          "shell.execute_reply": "2022-05-11T14:32:46.643843Z"
        },
        "trusted": true,
        "colab": {
          "base_uri": "https://localhost:8080/"
        },
        "id": "QDVwZYWuDvhg",
        "outputId": "6a27c056-e6eb-440f-f55c-67e14e5c2986"
      },
      "execution_count": null,
      "outputs": [
        {
          "output_type": "execute_result",
          "data": {
            "text/plain": [
              "MinMaxScaler()"
            ]
          },
          "metadata": {},
          "execution_count": 14
        }
      ]
    },
    {
      "cell_type": "code",
      "source": [
        "scaler.fit(train_)\n",
        "\n",
        "train_ = scaler.transform(train_)\n",
        "\n",
        "valid_ = scaler.transform(valid_)\n",
        "test_ = scaler.transform(test_)"
      ],
      "metadata": {
        "execution": {
          "iopub.status.busy": "2022-05-11T14:32:48.874612Z",
          "iopub.execute_input": "2022-05-11T14:32:48.874930Z",
          "iopub.status.idle": "2022-05-11T14:32:48.885529Z",
          "shell.execute_reply.started": "2022-05-11T14:32:48.874894Z",
          "shell.execute_reply": "2022-05-11T14:32:48.884571Z"
        },
        "trusted": true,
        "id": "e3j0L3TQDvhh"
      },
      "execution_count": null,
      "outputs": []
    },
    {
      "cell_type": "code",
      "source": [
        "# Now perform exponential moving average smoothing for smooth curve of data\n",
        "EMA = 0.0\n",
        "gamma = 0.165\n",
        "for ti in range(train_.shape[0]):\n",
        "    EMA = gamma*train_[ti] + (1-gamma)*EMA\n",
        "    train_[ti] = EMA\n",
        "\n",
        "# Used for visualization and test purposes\n",
        "all_mid_data = np.concatenate([train_,valid_, test_],axis=0)"
      ],
      "metadata": {
        "execution": {
          "iopub.status.busy": "2022-05-11T14:32:51.726703Z",
          "iopub.execute_input": "2022-05-11T14:32:51.726987Z",
          "iopub.status.idle": "2022-05-11T14:32:51.926507Z",
          "shell.execute_reply.started": "2022-05-11T14:32:51.726941Z",
          "shell.execute_reply": "2022-05-11T14:32:51.925821Z"
        },
        "trusted": true,
        "id": "8WabAGoyDvhi"
      },
      "execution_count": null,
      "outputs": []
    },
    {
      "cell_type": "markdown",
      "source": [
        "**Data Splitting**"
      ],
      "metadata": {
        "id": "M4sbTWgLDvhi"
      }
    },
    {
      "cell_type": "code",
      "source": [
        "def split_data(data):\n",
        "    X = []\n",
        "    Y = []\n",
        "    for i in range(SEQ_LEN, len(data)-FUTURE_PERIOD+1):\n",
        "        X.append(data[i-SEQ_LEN:i])\n",
        "        Y.append(data[i+(FUTURE_PERIOD-1), 3])\n",
        "    return np.array(X), np.array(Y)"
      ],
      "metadata": {
        "execution": {
          "iopub.status.busy": "2022-05-11T14:32:54.279700Z",
          "iopub.execute_input": "2022-05-11T14:32:54.280481Z",
          "iopub.status.idle": "2022-05-11T14:32:54.285816Z",
          "shell.execute_reply.started": "2022-05-11T14:32:54.280443Z",
          "shell.execute_reply": "2022-05-11T14:32:54.284671Z"
        },
        "trusted": true,
        "id": "wjSccfNIDvhj"
      },
      "execution_count": null,
      "outputs": []
    },
    {
      "cell_type": "code",
      "source": [
        "X_train, y_train = split_data(train_)\n",
        "X_test, y_test = split_data(test_)\n",
        "X_valid, y_valid = split_data(valid_)"
      ],
      "metadata": {
        "execution": {
          "iopub.status.busy": "2022-05-11T14:32:56.715344Z",
          "iopub.execute_input": "2022-05-11T14:32:56.715588Z",
          "iopub.status.idle": "2022-05-11T14:32:56.931225Z",
          "shell.execute_reply.started": "2022-05-11T14:32:56.715560Z",
          "shell.execute_reply": "2022-05-11T14:32:56.930456Z"
        },
        "trusted": true,
        "id": "ID6SYl7hDvhl"
      },
      "execution_count": null,
      "outputs": []
    },
    {
      "cell_type": "code",
      "source": [
        "X_train = np.reshape(X_train, (X_train.shape[0], X_train.shape[1], 6))\n",
        "X_valid = np.reshape(X_valid, (X_valid.shape[0], X_valid.shape[1], 6))\n",
        "X_test = np.reshape(X_test, (X_test.shape[0], X_test.shape[1], 6))"
      ],
      "metadata": {
        "execution": {
          "iopub.status.busy": "2022-05-11T14:32:58.985197Z",
          "iopub.execute_input": "2022-05-11T14:32:58.985735Z",
          "iopub.status.idle": "2022-05-11T14:32:58.990923Z",
          "shell.execute_reply.started": "2022-05-11T14:32:58.985695Z",
          "shell.execute_reply": "2022-05-11T14:32:58.990117Z"
        },
        "trusted": true,
        "id": "oRR2OBZrDvhm"
      },
      "execution_count": null,
      "outputs": []
    },
    {
      "cell_type": "code",
      "source": [
        "y_train.shape"
      ],
      "metadata": {
        "execution": {
          "iopub.status.busy": "2022-05-11T14:33:01.389776Z",
          "iopub.execute_input": "2022-05-11T14:33:01.390642Z",
          "iopub.status.idle": "2022-05-11T14:33:01.396521Z",
          "shell.execute_reply.started": "2022-05-11T14:33:01.390591Z",
          "shell.execute_reply": "2022-05-11T14:33:01.395859Z"
        },
        "trusted": true,
        "colab": {
          "base_uri": "https://localhost:8080/"
        },
        "id": "YDdplZKtDvhn",
        "outputId": "0b8387f1-0b71-4f38-d256-734f7a249982"
      },
      "execution_count": null,
      "outputs": [
        {
          "output_type": "execute_result",
          "data": {
            "text/plain": [
              "(45786,)"
            ]
          },
          "metadata": {},
          "execution_count": 20
        }
      ]
    },
    {
      "cell_type": "code",
      "source": [
        "print(\"train shape {0}\".format(X_train.shape))\n",
        "print(\"valid shape {0}\".format(X_valid.shape))\n",
        "print(\"test shape {0}\".format(X_test.shape))"
      ],
      "metadata": {
        "execution": {
          "iopub.status.busy": "2022-05-11T14:33:03.638724Z",
          "iopub.execute_input": "2022-05-11T14:33:03.639496Z",
          "iopub.status.idle": "2022-05-11T14:33:03.645747Z",
          "shell.execute_reply.started": "2022-05-11T14:33:03.639446Z",
          "shell.execute_reply": "2022-05-11T14:33:03.644917Z"
        },
        "trusted": true,
        "colab": {
          "base_uri": "https://localhost:8080/"
        },
        "id": "BGAE7icqDvho",
        "outputId": "27a8811f-7538-4e67-9282-0c10317c9ae2"
      },
      "execution_count": null,
      "outputs": [
        {
          "output_type": "stream",
          "name": "stdout",
          "text": [
            "train shape (45786, 120, 6)\n",
            "valid shape (5610, 120, 6)\n",
            "test shape (5610, 120, 6)\n"
          ]
        }
      ]
    },
    {
      "cell_type": "code",
      "source": [
        "X_train_2, y_train_2 = split_data(train_)\n",
        "X_train_2 = np.reshape(X_train_2, (X_train_2.shape[0], X_train_2.shape[1], 6))"
      ],
      "metadata": {
        "execution": {
          "iopub.status.busy": "2022-05-11T14:33:05.776254Z",
          "iopub.execute_input": "2022-05-11T14:33:05.776943Z",
          "iopub.status.idle": "2022-05-11T14:33:05.952269Z",
          "shell.execute_reply.started": "2022-05-11T14:33:05.776907Z",
          "shell.execute_reply": "2022-05-11T14:33:05.951526Z"
        },
        "trusted": true,
        "id": "n8M77gWTDvhs"
      },
      "execution_count": null,
      "outputs": []
    },
    {
      "cell_type": "code",
      "source": [
        "## show predictions\n",
        "plt.figure(figsize=(15, 5))\n",
        "\n",
        "plt.plot(np.arange(y_train_2.shape[0]), y_train_2, color='blue', label='train target')\n",
        "\n",
        "plt.plot(np.arange(y_train_2.shape[0], y_train_2.shape[0]+y_valid.shape[0]), y_valid,\n",
        "         color='gray', label='valid target')\n",
        "\n",
        "plt.plot(np.arange(y_train_2.shape[0]+y_valid.shape[0],\n",
        "                   y_train_2.shape[0]+y_valid.shape[0]+y_test.shape[0]),\n",
        "         y_test, color='black', label='test target')\n",
        "\n",
        "\n",
        "plt.title('Data split')\n",
        "plt.xlabel('time [hours]')\n",
        "plt.ylabel('normalized price')\n",
        "plt.legend(loc='best');"
      ],
      "metadata": {
        "execution": {
          "iopub.status.busy": "2022-05-11T14:33:08.215701Z",
          "iopub.execute_input": "2022-05-11T14:33:08.215959Z",
          "iopub.status.idle": "2022-05-11T14:33:08.517442Z",
          "shell.execute_reply.started": "2022-05-11T14:33:08.215931Z",
          "shell.execute_reply": "2022-05-11T14:33:08.516799Z"
        },
        "trusted": true,
        "colab": {
          "base_uri": "https://localhost:8080/",
          "height": 350
        },
        "id": "L4P3uOfQDvhs",
        "outputId": "448fd40f-dd2b-4878-e4ff-3707816ca405"
      },
      "execution_count": null,
      "outputs": [
        {
          "output_type": "display_data",
          "data": {
            "text/plain": [
              "<Figure size 1080x360 with 1 Axes>"
            ],
            "image/png": "[encoded data removed]"
          },
          "metadata": {
            "needs_background": "light"
          }
        }
      ]
    },
    {
      "cell_type": "markdown",
      "source": [
        "**LSTM Model**"
      ],
      "metadata": {
        "id": "dLnvBTiRDvht"
      }
    },
    {
      "cell_type": "code",
      "source": [
        "import tensorflow as tf\n",
        "from tensorflow.keras import layers\n",
        "from keras.models import Sequential\n",
        "from tensorflow.keras.optimizers import Adam\n",
        "from keras.layers import Dense, LSTM, LeakyReLU, Dropout, BatchNormalization\n",
        "\n",
        "# Initialize the RNN\n",
        "model_LSTM1 = Sequential()\n",
        "model_LSTM1.add(LSTM(units = 120, input_shape=(120, 6)))\n",
        "model_LSTM1.add(LeakyReLU(alpha=0.5))\n",
        "model_LSTM1.add(Dropout(0.5))\n",
        "model_LSTM1.add(BatchNormalization())\n",
        "model_LSTM1.add(Dense(1))\n",
        "model_LSTM1.summary()"
      ],
      "metadata": {
        "execution": {
          "iopub.status.busy": "2022-04-29T15:46:35.206415Z",
          "iopub.execute_input": "2022-04-29T15:46:35.206712Z",
          "iopub.status.idle": "2022-04-29T15:46:42.423991Z",
          "shell.execute_reply.started": "2022-04-29T15:46:35.206671Z",
          "shell.execute_reply": "2022-04-29T15:46:42.423294Z"
        },
        "trusted": true,
        "colab": {
          "base_uri": "https://localhost:8080/"
        },
        "id": "H2FycRgpDvht",
        "outputId": "d69792cc-fb2c-4449-c310-0a529fead0ca"
      },
      "execution_count": null,
      "outputs": [
        {
          "output_type": "stream",
          "name": "stdout",
          "text": [
            "Model: \"sequential\"\n",
            "_________________________________________________________________\n",
            " Layer (type)                Output Shape              Param #   \n",
            "=================================================================\n",
            " lstm (LSTM)                 (None, 120)               60960     \n",
            "                                                                 \n",
            " leaky_re_lu (LeakyReLU)     (None, 120)               0         \n",
            "                                                                 \n",
            " dropout (Dropout)           (None, 120)               0         \n",
            "                                                                 \n",
            " batch_normalization (BatchN  (None, 120)              480       \n",
            " ormalization)                                                   \n",
            "                                                                 \n",
            " dense (Dense)               (None, 1)                 121       \n",
            "                                                                 \n",
            "=================================================================\n",
            "Total params: 61,561\n",
            "Trainable params: 61,321\n",
            "Non-trainable params: 240\n",
            "_________________________________________________________________\n"
          ]
        }
      ]
    },
    {
      "cell_type": "code",
      "source": [
        "model_LSTM1.compile(optimizer='adam', loss='mean_squared_error', metrics = ('MAPE'))"
      ],
      "metadata": {
        "execution": {
          "iopub.status.busy": "2022-04-29T15:47:11.676089Z",
          "iopub.execute_input": "2022-04-29T15:47:11.676564Z",
          "iopub.status.idle": "2022-04-29T15:47:11.691715Z",
          "shell.execute_reply.started": "2022-04-29T15:47:11.676527Z",
          "shell.execute_reply": "2022-04-29T15:47:11.691134Z"
        },
        "trusted": true,
        "id": "RPMKB3TRDvhu"
      },
      "execution_count": null,
      "outputs": []
    },
    {
      "cell_type": "code",
      "source": [
        "history_LSTM1 = model_LSTM1.fit(X_train, y_train,validation_data=(X_valid, y_valid), epochs=10, batch_size=128)"
      ],
      "metadata": {
        "execution": {
          "iopub.status.busy": "2022-04-29T15:47:16.230035Z",
          "iopub.execute_input": "2022-04-29T15:47:16.230546Z",
          "iopub.status.idle": "2022-04-29T15:59:18.112112Z",
          "shell.execute_reply.started": "2022-04-29T15:47:16.230507Z",
          "shell.execute_reply": "2022-04-29T15:59:18.111387Z"
        },
        "trusted": true,
        "colab": {
          "base_uri": "https://localhost:8080/"
        },
        "id": "2CcX74E1Dvhv",
        "outputId": "1cff5e84-2424-478e-a6f2-247b6ffc58fb"
      },
      "execution_count": null,
      "outputs": [
        {
          "output_type": "stream",
          "name": "stdout",
          "text": [
            "Epoch 1/10\n",
            "358/358 [==============================] - 22s 43ms/step - loss: 0.0199 - MAPE: 277.8822 - val_loss: 0.8877 - val_MAPE: 67.1022\n",
            "Epoch 2/10\n",
            "358/358 [==============================] - 15s 41ms/step - loss: 0.0010 - MAPE: 108.6758 - val_loss: 0.0533 - val_MAPE: 16.5346\n",
            "Epoch 3/10\n",
            "358/358 [==============================] - 15s 41ms/step - loss: 7.7303e-04 - MAPE: 98.2912 - val_loss: 0.0027 - val_MAPE: 3.1139\n",
            "Epoch 4/10\n",
            "358/358 [==============================] - 15s 41ms/step - loss: 7.1098e-04 - MAPE: 96.5274 - val_loss: 0.0077 - val_MAPE: 5.0052\n",
            "Epoch 5/10\n",
            "358/358 [==============================] - 15s 41ms/step - loss: 6.7676e-04 - MAPE: 94.4505 - val_loss: 0.0031 - val_MAPE: 3.2563\n",
            "Epoch 6/10\n",
            "358/358 [==============================] - 15s 42ms/step - loss: 6.8099e-04 - MAPE: 98.8815 - val_loss: 0.0117 - val_MAPE: 7.0096\n",
            "Epoch 7/10\n",
            "358/358 [==============================] - 15s 41ms/step - loss: 6.3993e-04 - MAPE: 95.6691 - val_loss: 0.0026 - val_MAPE: 2.8542\n",
            "Epoch 8/10\n",
            "358/358 [==============================] - 14s 40ms/step - loss: 6.4947e-04 - MAPE: 99.7885 - val_loss: 0.0049 - val_MAPE: 4.1269\n",
            "Epoch 9/10\n",
            "358/358 [==============================] - 15s 41ms/step - loss: 6.2132e-04 - MAPE: 95.1353 - val_loss: 0.0021 - val_MAPE: 2.6014\n",
            "Epoch 10/10\n",
            "358/358 [==============================] - 15s 41ms/step - loss: 5.4691e-04 - MAPE: 91.4502 - val_loss: 0.0020 - val_MAPE: 2.5190\n"
          ]
        }
      ]
    },
    {
      "cell_type": "code",
      "source": [
        "loss = history_LSTM1.history['loss']\n",
        "val_loss = history_LSTM1.history['val_loss']\n",
        "\n",
        "epochs = range(len(loss))\n",
        "\n",
        "plt.figure()\n",
        "\n",
        "plt.plot(epochs, loss, 'b', label='Training loss')\n",
        "plt.plot(epochs, val_loss, 'r', label='Validation loss')\n",
        "plt.title(\"Training and Validation Loss\")\n",
        "plt.legend()\n",
        "\n",
        "plt.show()"
      ],
      "metadata": {
        "execution": {
          "iopub.status.busy": "2022-04-29T15:59:30.480732Z",
          "iopub.execute_input": "2022-04-29T15:59:30.481004Z",
          "iopub.status.idle": "2022-04-29T15:59:30.668692Z",
          "shell.execute_reply.started": "2022-04-29T15:59:30.480975Z",
          "shell.execute_reply": "2022-04-29T15:59:30.668043Z"
        },
        "trusted": true,
        "colab": {
          "base_uri": "https://localhost:8080/",
          "height": 281
        },
        "id": "6fYXctvLDvhw",
        "outputId": "e9a07cdb-2d46-4ed8-96aa-1a34127299f5"
      },
      "execution_count": null,
      "outputs": [
        {
          "output_type": "display_data",
          "data": {
            "text/plain": [
              "<Figure size 432x288 with 1 Axes>"
            ],
            "image/png": "[encoded data removed]"
          },
          "metadata": {
            "needs_background": "light"
          }
        }
      ]
    },
    {
      "cell_type": "code",
      "source": [
        "mape = history_LSTM1.history['MAPE']\n",
        "val_mape = history_LSTM1.history['val_MAPE']\n",
        "\n",
        "epochs = range(len(mape))\n",
        "\n",
        "plt.figure()\n",
        "\n",
        "plt.plot(epochs, mape, 'b', label='Training MAPE')\n",
        "plt.plot(epochs, val_mape, 'r', label='Validation MAPE')\n",
        "plt.title(\"Training and Validation MAPE\")\n",
        "plt.legend()\n",
        "\n",
        "plt.show()"
      ],
      "metadata": {
        "colab": {
          "base_uri": "https://localhost:8080/",
          "height": 281
        },
        "id": "NeWyrrhGVFHH",
        "outputId": "c347d81f-af78-44ce-9140-974f42929f90"
      },
      "execution_count": null,
      "outputs": [
        {
          "output_type": "display_data",
          "data": {
            "text/plain": [
              "<Figure size 432x288 with 1 Axes>"
            ],
            "image/png": "[encoded data removed]"
          },
          "metadata": {
            "needs_background": "light"
          }
        }
      ]
    },
    {
      "cell_type": "code",
      "source": [
        "pred_LSTM1 = model_LSTM1.predict(X_test)"
      ],
      "metadata": {
        "execution": {
          "iopub.status.busy": "2022-04-29T15:59:30.855257Z",
          "iopub.execute_input": "2022-04-29T15:59:30.855651Z",
          "iopub.status.idle": "2022-04-29T15:59:33.933364Z",
          "shell.execute_reply.started": "2022-04-29T15:59:30.855613Z",
          "shell.execute_reply": "2022-04-29T15:59:33.932601Z"
        },
        "trusted": true,
        "id": "UlH4bdRTDvhx"
      },
      "execution_count": null,
      "outputs": []
    },
    {
      "cell_type": "code",
      "source": [
        "pred_LSTM1.shape"
      ],
      "metadata": {
        "execution": {
          "iopub.status.busy": "2022-04-29T15:59:33.937008Z",
          "iopub.execute_input": "2022-04-29T15:59:33.937208Z",
          "iopub.status.idle": "2022-04-29T15:59:33.944705Z",
          "shell.execute_reply.started": "2022-04-29T15:59:33.937184Z",
          "shell.execute_reply": "2022-04-29T15:59:33.94395Z"
        },
        "trusted": true,
        "colab": {
          "base_uri": "https://localhost:8080/"
        },
        "id": "yBMYtQtJDvhx",
        "outputId": "9149b1fc-00ca-449e-974d-81ef04c0cb7b"
      },
      "execution_count": null,
      "outputs": [
        {
          "output_type": "execute_result",
          "data": {
            "text/plain": [
              "(5610, 1)"
            ]
          },
          "metadata": {},
          "execution_count": 49
        }
      ]
    },
    {
      "cell_type": "code",
      "source": [
        "y_valid.shape"
      ],
      "metadata": {
        "execution": {
          "iopub.status.busy": "2022-04-29T15:59:33.945909Z",
          "iopub.execute_input": "2022-04-29T15:59:33.946194Z",
          "iopub.status.idle": "2022-04-29T15:59:33.955097Z",
          "shell.execute_reply.started": "2022-04-29T15:59:33.946153Z",
          "shell.execute_reply": "2022-04-29T15:59:33.95424Z"
        },
        "trusted": true,
        "colab": {
          "base_uri": "https://localhost:8080/"
        },
        "id": "x4seqCyODvhx",
        "outputId": "e719b439-2b47-4f98-8178-05631e462c8b"
      },
      "execution_count": null,
      "outputs": [
        {
          "output_type": "execute_result",
          "data": {
            "text/plain": [
              "(5610,)"
            ]
          },
          "metadata": {},
          "execution_count": 50
        }
      ]
    },
    {
      "cell_type": "code",
      "source": [
        "plt.plot(y_test, color = 'black', label = 'Real Price')\n",
        "plt.plot(pred_LSTM1, color = 'green', label = 'Predicted Price')\n",
        "plt.title('Close Price Prediction', fontsize=30)\n",
        "#plt.xticks(range(0,df.shape[0],50),df['Date'].loc[::50],rotation=45)\n",
        "plt.xlabel('DateTime')\n",
        "plt.ylabel('Close Price')\n",
        "plt.legend(fontsize=18)\n",
        "plt.show()"
      ],
      "metadata": {
        "execution": {
          "iopub.status.busy": "2022-04-29T15:59:33.95648Z",
          "iopub.execute_input": "2022-04-29T15:59:33.956857Z",
          "iopub.status.idle": "2022-04-29T15:59:34.209535Z",
          "shell.execute_reply.started": "2022-04-29T15:59:33.956821Z",
          "shell.execute_reply": "2022-04-29T15:59:34.20876Z"
        },
        "trusted": true,
        "colab": {
          "base_uri": "https://localhost:8080/",
          "height": 308
        },
        "id": "_26rDyS4Dvhy",
        "outputId": "e8f58090-c7c7-49f8-f7cd-408d46fcfea9"
      },
      "execution_count": null,
      "outputs": [
        {
          "output_type": "display_data",
          "data": {
            "text/plain": [
              "<Figure size 432x288 with 1 Axes>"
            ],
            "image/png": "[encoded data removed]"
          },
          "metadata": {
            "needs_background": "light"
          }
        }
      ]
    },
    {
      "cell_type": "code",
      "source": [
        "import math\n",
        "\n",
        "LSTM1_loss = model_LSTM1.evaluate(X_test, y_test, verbose=1)\n",
        "\n",
        "#Err_LSTM1 = LSTM1_loss[0]\n",
        "#Err_LSTM1 = math.sqrt(LSTM1_loss)\n",
        "print('\\nThe error of the model with 1 layer LSTM is:',LSTM1_loss)"
      ],
      "metadata": {
        "execution": {
          "iopub.status.busy": "2022-04-29T16:01:43.08337Z",
          "iopub.execute_input": "2022-04-29T16:01:43.083791Z",
          "iopub.status.idle": "2022-04-29T16:01:46.227321Z",
          "shell.execute_reply.started": "2022-04-29T16:01:43.083754Z",
          "shell.execute_reply": "2022-04-29T16:01:46.226601Z"
        },
        "trusted": true,
        "colab": {
          "base_uri": "https://localhost:8080/"
        },
        "id": "cy-BViSPDvhy",
        "outputId": "a13e616f-7d97-4731-b20f-9d4bed625765"
      },
      "execution_count": null,
      "outputs": [
        {
          "output_type": "stream",
          "name": "stdout",
          "text": [
            "176/176 [==============================] - 2s 12ms/step - loss: 0.0014 - MAPE: 1.8482\n",
            "\n",
            "The error of the model with 1 layer LSTM is: [0.0014003176474943757, 1.8482402563095093]\n"
          ]
        }
      ]
    },
    {
      "cell_type": "markdown",
      "source": [
        "**GRU Model**"
      ],
      "metadata": {
        "id": "EeZKgTsGDvhz"
      }
    },
    {
      "cell_type": "code",
      "source": [
        "from keras.models import Sequential\n",
        "from keras.layers import Dense, Dropout, Activation, Flatten,Reshape\n",
        "from keras.layers import Conv1D, MaxPooling1D, LeakyReLU\n",
        "from keras.utils import np_utils\n",
        "from keras.layers import GRU,CuDNNGRU\n",
        "model_GRU = Sequential()\n",
        "\n",
        "model_GRU.add(GRU(units=50, input_shape=(120,6),return_sequences=False))\n",
        "model_GRU.add(Activation('tanh'))\n",
        "model_GRU.add(Dropout(0.3))\n",
        "model_GRU.add(Dense(1))\n",
        "model_GRU.add(Activation('relu'))\n",
        "model_GRU.compile(loss='mse', optimizer='adam', metrics = ('MAPE'))\n",
        "model_GRU.summary()"
      ],
      "metadata": {
        "execution": {
          "iopub.status.busy": "2022-04-29T15:59:37.460947Z",
          "iopub.execute_input": "2022-04-29T15:59:37.461266Z",
          "iopub.status.idle": "2022-04-29T15:59:37.66243Z",
          "shell.execute_reply.started": "2022-04-29T15:59:37.461228Z",
          "shell.execute_reply": "2022-04-29T15:59:37.661305Z"
        },
        "trusted": true,
        "colab": {
          "base_uri": "https://localhost:8080/"
        },
        "id": "Fida2Io3Dvh0",
        "outputId": "3083f49d-e1c5-4f9f-b274-99b235e536a9"
      },
      "execution_count": null,
      "outputs": [
        {
          "output_type": "stream",
          "name": "stdout",
          "text": [
            "Model: \"sequential_1\"\n",
            "_________________________________________________________________\n",
            " Layer (type)                Output Shape              Param #   \n",
            "=================================================================\n",
            " gru (GRU)                   (None, 50)                8700      \n",
            "                                                                 \n",
            " activation (Activation)     (None, 50)                0         \n",
            "                                                                 \n",
            " dropout_1 (Dropout)         (None, 50)                0         \n",
            "                                                                 \n",
            " dense_1 (Dense)             (None, 1)                 51        \n",
            "                                                                 \n",
            " activation_1 (Activation)   (None, 1)                 0         \n",
            "                                                                 \n",
            "=================================================================\n",
            "Total params: 8,751\n",
            "Trainable params: 8,751\n",
            "Non-trainable params: 0\n",
            "_________________________________________________________________\n"
          ]
        }
      ]
    },
    {
      "cell_type": "code",
      "source": [
        "history_GRU = model_GRU.fit(X_train, y_train, validation_data=(X_valid, y_valid), batch_size = 128, epochs = 10)"
      ],
      "metadata": {
        "execution": {
          "iopub.status.busy": "2022-04-29T15:59:37.66535Z",
          "iopub.execute_input": "2022-04-29T15:59:37.665595Z",
          "iopub.status.idle": "2022-04-29T16:00:13.659257Z",
          "shell.execute_reply.started": "2022-04-29T15:59:37.665564Z",
          "shell.execute_reply": "2022-04-29T16:00:13.658531Z"
        },
        "trusted": true,
        "colab": {
          "base_uri": "https://localhost:8080/"
        },
        "id": "3dLwsvDWDvh0",
        "outputId": "672c4b98-1e14-49f7-fbf7-f1fb53043ee5"
      },
      "execution_count": null,
      "outputs": [
        {
          "output_type": "stream",
          "name": "stdout",
          "text": [
            "Epoch 1/10\n",
            "358/358 [==============================] - 13s 29ms/step - loss: 0.0014 - MAPE: 48.5664 - val_loss: 0.0059 - val_MAPE: 4.2762\n",
            "Epoch 2/10\n",
            "358/358 [==============================] - 11s 30ms/step - loss: 3.9277e-04 - MAPE: 27.1454 - val_loss: 0.0067 - val_MAPE: 4.7763\n",
            "Epoch 3/10\n",
            "358/358 [==============================] - 10s 28ms/step - loss: 2.9673e-04 - MAPE: 27.2905 - val_loss: 0.0022 - val_MAPE: 2.6319\n",
            "Epoch 4/10\n",
            "358/358 [==============================] - 10s 28ms/step - loss: 2.4156e-04 - MAPE: 31.6698 - val_loss: 0.0078 - val_MAPE: 5.3024\n",
            "Epoch 5/10\n",
            "358/358 [==============================] - 10s 28ms/step - loss: 2.2131e-04 - MAPE: 34.8103 - val_loss: 0.0032 - val_MAPE: 3.2095\n",
            "Epoch 6/10\n",
            "358/358 [==============================] - 10s 28ms/step - loss: 1.9740e-04 - MAPE: 35.8987 - val_loss: 0.0028 - val_MAPE: 3.0289\n",
            "Epoch 7/10\n",
            "358/358 [==============================] - 10s 27ms/step - loss: 1.9882e-04 - MAPE: 37.5932 - val_loss: 0.0018 - val_MAPE: 2.4009\n",
            "Epoch 8/10\n",
            "358/358 [==============================] - 10s 28ms/step - loss: 1.9262e-04 - MAPE: 37.5568 - val_loss: 0.0031 - val_MAPE: 3.3402\n",
            "Epoch 9/10\n",
            "358/358 [==============================] - 10s 28ms/step - loss: 1.8769e-04 - MAPE: 38.4260 - val_loss: 0.0017 - val_MAPE: 2.3142\n",
            "Epoch 10/10\n",
            "358/358 [==============================] - 10s 28ms/step - loss: 1.8449e-04 - MAPE: 38.1578 - val_loss: 0.0018 - val_MAPE: 2.4901\n"
          ]
        }
      ]
    },
    {
      "cell_type": "code",
      "source": [
        "loss_GRU = history_GRU.history['loss']\n",
        "val_loss_GRU = history_GRU.history['val_loss']\n",
        "\n",
        "epochs = range(len(loss_GRU))\n",
        "\n",
        "plt.figure()\n",
        "\n",
        "plt.plot(epochs, loss_GRU, 'b', label='Training loss')\n",
        "plt.plot(epochs, val_loss_GRU, 'r', label='Validation loss')\n",
        "plt.title(\"Training and Validation Loss\")\n",
        "plt.legend()\n",
        "\n",
        "plt.show()"
      ],
      "metadata": {
        "execution": {
          "iopub.status.busy": "2022-04-29T16:00:13.660801Z",
          "iopub.execute_input": "2022-04-29T16:00:13.661076Z",
          "iopub.status.idle": "2022-04-29T16:00:13.841003Z",
          "shell.execute_reply.started": "2022-04-29T16:00:13.661042Z",
          "shell.execute_reply": "2022-04-29T16:00:13.840273Z"
        },
        "trusted": true,
        "colab": {
          "base_uri": "https://localhost:8080/",
          "height": 281
        },
        "id": "MuPtwEwdDvh0",
        "outputId": "c43c3acf-7910-4a6e-dbde-bc3eb4ed301a"
      },
      "execution_count": null,
      "outputs": [
        {
          "output_type": "display_data",
          "data": {
            "text/plain": [
              "<Figure size 432x288 with 1 Axes>"
            ],
            "image/png": "[encoded data removed]"
          },
          "metadata": {
            "needs_background": "light"
          }
        }
      ]
    },
    {
      "cell_type": "code",
      "source": [
        "mape = history_GRU.history['MAPE']\n",
        "val_mape = history_GRU.history['val_MAPE']\n",
        "\n",
        "epochs = range(len(mape))\n",
        "\n",
        "plt.figure()\n",
        "\n",
        "plt.plot(epochs, mape, 'b', label='Training MAPE')\n",
        "plt.plot(epochs, val_mape, 'r', label='Validation MAPE')\n",
        "plt.title(\"Training and Validation MAPE\")\n",
        "plt.legend()\n",
        "\n",
        "plt.show()"
      ],
      "metadata": {
        "colab": {
          "base_uri": "https://localhost:8080/",
          "height": 281
        },
        "id": "A4u89zYDVOZi",
        "outputId": "5e964189-df9a-4c69-b615-0808282ca728"
      },
      "execution_count": null,
      "outputs": [
        {
          "output_type": "display_data",
          "data": {
            "text/plain": [
              "<Figure size 432x288 with 1 Axes>"
            ],
            "image/png": "[encoded data removed]"
          },
          "metadata": {
            "needs_background": "light"
          }
        }
      ]
    },
    {
      "cell_type": "code",
      "source": [
        "pred_GRU = model_GRU.predict(X_test)"
      ],
      "metadata": {
        "execution": {
          "iopub.status.busy": "2022-04-29T16:00:13.842076Z",
          "iopub.execute_input": "2022-04-29T16:00:13.842842Z",
          "iopub.status.idle": "2022-04-29T16:00:14.55217Z",
          "shell.execute_reply.started": "2022-04-29T16:00:13.842804Z",
          "shell.execute_reply": "2022-04-29T16:00:14.551423Z"
        },
        "trusted": true,
        "id": "cXYPcPX3Dvh1"
      },
      "execution_count": null,
      "outputs": []
    },
    {
      "cell_type": "code",
      "source": [
        "plt.plot(y_test, color = 'black', label = 'Real Price')\n",
        "plt.plot(pred_GRU, color = 'green', label = 'Predicted Price')\n",
        "plt.title('Close Price Prediction', fontsize=30)\n",
        "#plt.xticks(range(0,df.shape[0],50),df['Date'].loc[::50],rotation=45)\n",
        "plt.xlabel('DateTime')\n",
        "plt.ylabel('Close Price')\n",
        "plt.legend(fontsize=18)\n",
        "plt.show()"
      ],
      "metadata": {
        "execution": {
          "iopub.status.busy": "2022-04-29T16:00:14.553537Z",
          "iopub.execute_input": "2022-04-29T16:00:14.553782Z",
          "iopub.status.idle": "2022-04-29T16:00:14.778464Z",
          "shell.execute_reply.started": "2022-04-29T16:00:14.55375Z",
          "shell.execute_reply": "2022-04-29T16:00:14.777781Z"
        },
        "trusted": true,
        "colab": {
          "base_uri": "https://localhost:8080/",
          "height": 308
        },
        "id": "SKpSqr44Dvh1",
        "outputId": "0029306b-45c1-428f-9028-4097e299d36a"
      },
      "execution_count": null,
      "outputs": [
        {
          "output_type": "display_data",
          "data": {
            "text/plain": [
              "<Figure size 432x288 with 1 Axes>"
            ],
            "image/png": "[encoded data removed]"
          },
          "metadata": {
            "needs_background": "light"
          }
        }
      ]
    },
    {
      "cell_type": "code",
      "source": [
        "import math\n",
        "\n",
        "GRU_loss = model_GRU.evaluate(X_test, y_test, verbose=1)\n",
        "\n",
        "#Err_GRU = math.sqrt(GRU_loss)\n",
        "print('\\nThe error of the model with a GRU layer is:',GRU_loss)"
      ],
      "metadata": {
        "execution": {
          "iopub.status.busy": "2022-04-29T16:00:14.7797Z",
          "iopub.execute_input": "2022-04-29T16:00:14.780113Z",
          "iopub.status.idle": "2022-04-29T16:00:15.447648Z",
          "shell.execute_reply.started": "2022-04-29T16:00:14.780076Z",
          "shell.execute_reply": "2022-04-29T16:00:15.446943Z"
        },
        "trusted": true,
        "colab": {
          "base_uri": "https://localhost:8080/"
        },
        "id": "dhFNxyYPDvh2",
        "outputId": "e54e10c3-9800-45a5-8343-5dc414f3e8f8"
      },
      "execution_count": null,
      "outputs": [
        {
          "output_type": "stream",
          "name": "stdout",
          "text": [
            "176/176 [==============================] - 2s 11ms/step - loss: 0.0014 - MAPE: 2.0236\n",
            "\n",
            "The error of the model with a GRU layer is: [0.0013630205066874623, 2.0235655307769775]\n"
          ]
        }
      ]
    },
    {
      "cell_type": "markdown",
      "source": [
        "**CNN-LSTM Model**"
      ],
      "metadata": {
        "id": "-vp75xjKDvh2"
      }
    },
    {
      "cell_type": "code",
      "source": [
        "import keras\n",
        "import tensorflow as tf\n",
        "from tensorflow.keras import layers\n",
        "from keras.models import Sequential\n",
        "from tensorflow.keras.optimizers import Adam\n",
        "from keras.layers import Dense, LSTM, LeakyReLU, Dropout, BatchNormalization\n",
        "\n",
        "\n",
        "model_LSTM2  =  Sequential() \n",
        "model_LSTM2.add(tf.keras.layers.Conv1D(120, 3, activation=\"relu\",input_shape=(120, 6)))\n",
        "model_LSTM2.add(tf.keras.layers.AveragePooling1D(4))\n",
        "model_LSTM2.add(LSTM(units=120,  input_shape=(120, 6)))\n",
        "model_LSTM2.add(LeakyReLU(alpha=0.5)) \n",
        "model_LSTM2.add(BatchNormalization())\n",
        "model_LSTM2.add(Dropout(0.5))\n",
        "#model_LSTM2.add(Dense(64, activation='relu'))\n",
        "#model_LSTM2.add(BatchNormalization())\n",
        "#model_LSTM2.add(Dropout(0.1))\n",
        "model_LSTM2.add(Dense(1,activation='linear'))\n",
        "model_LSTM2.summary()"
      ],
      "metadata": {
        "execution": {
          "iopub.status.busy": "2022-04-29T16:00:15.448883Z",
          "iopub.execute_input": "2022-04-29T16:00:15.449345Z",
          "iopub.status.idle": "2022-04-29T16:00:15.696422Z",
          "shell.execute_reply.started": "2022-04-29T16:00:15.449306Z",
          "shell.execute_reply": "2022-04-29T16:00:15.69574Z"
        },
        "trusted": true,
        "colab": {
          "base_uri": "https://localhost:8080/"
        },
        "id": "jqE28VXZDvh2",
        "outputId": "c1e5fbe7-be67-47eb-af08-989e4d2b4eec"
      },
      "execution_count": null,
      "outputs": [
        {
          "output_type": "stream",
          "name": "stdout",
          "text": [
            "Model: \"sequential_2\"\n",
            "_________________________________________________________________\n",
            " Layer (type)                Output Shape              Param #   \n",
            "=================================================================\n",
            " conv1d (Conv1D)             (None, 118, 120)          2280      \n",
            "                                                                 \n",
            " average_pooling1d (AverageP  (None, 29, 120)          0         \n",
            " ooling1D)                                                       \n",
            "                                                                 \n",
            " lstm_1 (LSTM)               (None, 120)               115680    \n",
            "                                                                 \n",
            " leaky_re_lu_1 (LeakyReLU)   (None, 120)               0         \n",
            "                                                                 \n",
            " batch_normalization_1 (Batc  (None, 120)              480       \n",
            " hNormalization)                                                 \n",
            "                                                                 \n",
            " dropout_2 (Dropout)         (None, 120)               0         \n",
            "                                                                 \n",
            " dense_2 (Dense)             (None, 1)                 121       \n",
            "                                                                 \n",
            "=================================================================\n",
            "Total params: 118,561\n",
            "Trainable params: 118,321\n",
            "Non-trainable params: 240\n",
            "_________________________________________________________________\n"
          ]
        }
      ]
    },
    {
      "cell_type": "code",
      "source": [
        "model_LSTM2.compile(optimizer='adam', loss='mean_squared_error', metrics = ('MAPE'))"
      ],
      "metadata": {
        "execution": {
          "iopub.status.busy": "2022-04-29T16:00:15.697646Z",
          "iopub.execute_input": "2022-04-29T16:00:15.697874Z",
          "iopub.status.idle": "2022-04-29T16:00:15.70674Z",
          "shell.execute_reply.started": "2022-04-29T16:00:15.697842Z",
          "shell.execute_reply": "2022-04-29T16:00:15.706031Z"
        },
        "trusted": true,
        "id": "1EwZmNo1Dvh3"
      },
      "execution_count": null,
      "outputs": []
    },
    {
      "cell_type": "code",
      "source": [
        "history_LSTM2 = model_LSTM2.fit(X_train, y_train,validation_data=(X_valid, y_valid), epochs=10, batch_size=128)"
      ],
      "metadata": {
        "execution": {
          "iopub.status.busy": "2022-04-29T16:00:15.708353Z",
          "iopub.execute_input": "2022-04-29T16:00:15.708624Z",
          "iopub.status.idle": "2022-04-29T16:00:45.670075Z",
          "shell.execute_reply.started": "2022-04-29T16:00:15.70859Z",
          "shell.execute_reply": "2022-04-29T16:00:45.669362Z"
        },
        "trusted": true,
        "colab": {
          "base_uri": "https://localhost:8080/"
        },
        "id": "Q3GHLVN8Dvh3",
        "outputId": "fca716ea-12ab-4b2a-87f8-df325a80aee8"
      },
      "execution_count": null,
      "outputs": [
        {
          "output_type": "stream",
          "name": "stdout",
          "text": [
            "Epoch 1/10\n",
            "358/358 [==============================] - 17s 20ms/step - loss: 0.0162 - MAPE: 273.1315 - val_loss: 0.9883 - val_MAPE: 70.5841\n",
            "Epoch 2/10\n",
            "358/358 [==============================] - 6s 17ms/step - loss: 9.0324e-04 - MAPE: 93.2036 - val_loss: 0.0997 - val_MAPE: 21.8318\n",
            "Epoch 3/10\n",
            "358/358 [==============================] - 6s 17ms/step - loss: 7.5938e-04 - MAPE: 87.5853 - val_loss: 0.0032 - val_MAPE: 3.2318\n",
            "Epoch 4/10\n",
            "358/358 [==============================] - 6s 17ms/step - loss: 7.3422e-04 - MAPE: 91.5117 - val_loss: 0.0068 - val_MAPE: 4.9931\n",
            "Epoch 5/10\n",
            "358/358 [==============================] - 6s 17ms/step - loss: 6.7893e-04 - MAPE: 92.2495 - val_loss: 0.0037 - val_MAPE: 3.5490\n",
            "Epoch 6/10\n",
            "358/358 [==============================] - 6s 17ms/step - loss: 6.7267e-04 - MAPE: 93.9025 - val_loss: 0.0034 - val_MAPE: 3.4128\n",
            "Epoch 7/10\n",
            "358/358 [==============================] - 6s 17ms/step - loss: 6.4573e-04 - MAPE: 90.5461 - val_loss: 0.0026 - val_MAPE: 2.8758\n",
            "Epoch 8/10\n",
            "358/358 [==============================] - 6s 17ms/step - loss: 6.1943e-04 - MAPE: 87.8492 - val_loss: 0.0024 - val_MAPE: 2.7446\n",
            "Epoch 9/10\n",
            "358/358 [==============================] - 6s 17ms/step - loss: 5.8620e-04 - MAPE: 90.0887 - val_loss: 0.0024 - val_MAPE: 2.6810\n",
            "Epoch 10/10\n",
            "358/358 [==============================] - 6s 17ms/step - loss: 5.4788e-04 - MAPE: 86.9641 - val_loss: 0.0024 - val_MAPE: 2.8032\n"
          ]
        }
      ]
    },
    {
      "cell_type": "code",
      "source": [
        "loss_LSTM2 = history_LSTM2.history['loss']\n",
        "val_loss_LSTM2 = history_LSTM2.history['val_loss']\n",
        "\n",
        "epochs = range(len(loss_LSTM2))\n",
        "\n",
        "plt.figure()\n",
        "\n",
        "plt.plot(epochs, loss_LSTM2, 'b', label='Training loss')\n",
        "plt.plot(epochs, val_loss_LSTM2, 'r', label='Validation loss')\n",
        "plt.title(\"Training and Validation Loss\")\n",
        "plt.legend()\n",
        "\n",
        "plt.show()"
      ],
      "metadata": {
        "execution": {
          "iopub.status.busy": "2022-04-29T16:00:45.671626Z",
          "iopub.execute_input": "2022-04-29T16:00:45.671873Z",
          "iopub.status.idle": "2022-04-29T16:00:45.851628Z",
          "shell.execute_reply.started": "2022-04-29T16:00:45.671839Z",
          "shell.execute_reply": "2022-04-29T16:00:45.850934Z"
        },
        "trusted": true,
        "colab": {
          "base_uri": "https://localhost:8080/",
          "height": 281
        },
        "id": "cNqNejzXDvh4",
        "outputId": "9344539e-12e4-4918-cef0-e9c206f1c1e9"
      },
      "execution_count": null,
      "outputs": [
        {
          "output_type": "display_data",
          "data": {
            "text/plain": [
              "<Figure size 432x288 with 1 Axes>"
            ],
            "image/png": "[encoded data removed]"
          },
          "metadata": {
            "needs_background": "light"
          }
        }
      ]
    },
    {
      "cell_type": "code",
      "source": [
        "mape = history_LSTM2.history['MAPE']\n",
        "val_mape = history_LSTM2.history['val_MAPE']\n",
        "\n",
        "epochs = range(len(mape))\n",
        "\n",
        "plt.figure()\n",
        "\n",
        "plt.plot(epochs, mape, 'b', label='Training MAPE')\n",
        "plt.plot(epochs, val_mape, 'r', label='Validation MAPE')\n",
        "plt.title(\"Training and Validation MAPE\")\n",
        "plt.legend()\n",
        "\n",
        "plt.show()"
      ],
      "metadata": {
        "colab": {
          "base_uri": "https://localhost:8080/",
          "height": 281
        },
        "id": "KtHaBlRLVhb7",
        "outputId": "e5573496-c466-439c-f497-1ffd7884a00c"
      },
      "execution_count": null,
      "outputs": [
        {
          "output_type": "display_data",
          "data": {
            "text/plain": [
              "<Figure size 432x288 with 1 Axes>"
            ],
            "image/png": "[encoded data removed]"
          },
          "metadata": {
            "needs_background": "light"
          }
        }
      ]
    },
    {
      "cell_type": "code",
      "source": [
        "X_test.shape"
      ],
      "metadata": {
        "execution": {
          "iopub.status.busy": "2022-04-29T16:00:45.852991Z",
          "iopub.execute_input": "2022-04-29T16:00:45.853231Z",
          "iopub.status.idle": "2022-04-29T16:00:45.85846Z",
          "shell.execute_reply.started": "2022-04-29T16:00:45.853196Z",
          "shell.execute_reply": "2022-04-29T16:00:45.857699Z"
        },
        "trusted": true,
        "colab": {
          "base_uri": "https://localhost:8080/"
        },
        "id": "gfaA1R1YDvh5",
        "outputId": "6a696012-895b-4dca-e62a-04cf1186c6c4"
      },
      "execution_count": null,
      "outputs": [
        {
          "output_type": "execute_result",
          "data": {
            "text/plain": [
              "(5610, 120, 6)"
            ]
          },
          "metadata": {},
          "execution_count": 65
        }
      ]
    },
    {
      "cell_type": "code",
      "source": [
        "pred_LSTM2 = model_LSTM2.predict(X_test)"
      ],
      "metadata": {
        "execution": {
          "iopub.status.busy": "2022-04-29T16:00:45.859883Z",
          "iopub.execute_input": "2022-04-29T16:00:45.860454Z",
          "iopub.status.idle": "2022-04-29T16:00:46.564866Z",
          "shell.execute_reply.started": "2022-04-29T16:00:45.860417Z",
          "shell.execute_reply": "2022-04-29T16:00:46.564112Z"
        },
        "trusted": true,
        "id": "16i1u9JhDvh6"
      },
      "execution_count": null,
      "outputs": []
    },
    {
      "cell_type": "code",
      "source": [
        "plt.plot(y_test, color = 'black', label = 'Real Price')\n",
        "plt.plot(pred_LSTM2, color = 'green', label = 'Predicted Price')\n",
        "plt.title('Close Price Prediction', fontsize=30)\n",
        "#plt.xticks(range(0,df.shape[0],50),df['Date'].loc[::50],rotation=45)\n",
        "plt.xlabel('DateTime')\n",
        "plt.ylabel('Close Price')\n",
        "plt.legend(fontsize=18)\n",
        "plt.show()"
      ],
      "metadata": {
        "execution": {
          "iopub.status.busy": "2022-04-29T16:00:46.566481Z",
          "iopub.execute_input": "2022-04-29T16:00:46.566718Z",
          "iopub.status.idle": "2022-04-29T16:00:47.035978Z",
          "shell.execute_reply.started": "2022-04-29T16:00:46.566683Z",
          "shell.execute_reply": "2022-04-29T16:00:47.03529Z"
        },
        "trusted": true,
        "colab": {
          "base_uri": "https://localhost:8080/",
          "height": 308
        },
        "id": "nUK9ZXL2Dvh6",
        "outputId": "38bd1524-b94b-45e8-cc72-6616bc31616d"
      },
      "execution_count": null,
      "outputs": [
        {
          "output_type": "display_data",
          "data": {
            "text/plain": [
              "<Figure size 432x288 with 1 Axes>"
            ],
            "image/png": "[encoded data removed]"
          },
          "metadata": {
            "needs_background": "light"
          }
        }
      ]
    },
    {
      "cell_type": "code",
      "source": [
        "import math\n",
        "\n",
        "LSTM2_loss = model_LSTM2.evaluate(X_test, y_test, verbose=1)\n",
        "\n",
        "#Err_LSTM2 = math.sqrt(LSTM2_loss)\n",
        "print('\\nThe error of the model with a Conv1D and an LSTM layer is:',LSTM2_loss)"
      ],
      "metadata": {
        "execution": {
          "iopub.status.busy": "2022-04-29T16:01:16.362709Z",
          "iopub.execute_input": "2022-04-29T16:01:16.363246Z",
          "iopub.status.idle": "2022-04-29T16:01:16.936311Z",
          "shell.execute_reply.started": "2022-04-29T16:01:16.363207Z",
          "shell.execute_reply": "2022-04-29T16:01:16.935568Z"
        },
        "trusted": true,
        "colab": {
          "base_uri": "https://localhost:8080/"
        },
        "id": "eFZQOzEbDvh7",
        "outputId": "16e09516-1183-47c0-99cd-31f7e057c4d4"
      },
      "execution_count": null,
      "outputs": [
        {
          "output_type": "stream",
          "name": "stdout",
          "text": [
            "176/176 [==============================] - 1s 6ms/step - loss: 0.0016 - MAPE: 2.0033\n",
            "\n",
            "The error of the model with a Conv1D and an LSTM layer is: [0.0015742587856948376, 2.0033280849456787]\n"
          ]
        }
      ]
    },
    {
      "cell_type": "markdown",
      "source": [
        "**CNN-BiLSTM Model**"
      ],
      "metadata": {
        "id": "9989a6V5Dvh7"
      }
    },
    {
      "cell_type": "code",
      "source": [
        "import tensorflow as tf\n",
        "from tensorflow.keras import layers\n",
        "from keras.models import Sequential\n",
        "from tensorflow.keras.optimizers import Adam\n",
        "from keras.layers import Dense, LSTM, LeakyReLU, Dropout, BatchNormalization\n",
        "from keras.layers import Bidirectional\n",
        "\n",
        "num_units = 128\n",
        "activation_function = 'relu'\n",
        "optimizer = 'adam'\n",
        "loss_function = 'mean_squared_error'\n",
        "batch_size = 128\n",
        "num_epochs = 10\n",
        "\n",
        "# Initialize the RNN\n",
        "regressor2 = Sequential()\n",
        "\n",
        "# Adding the input layer and the LSTM layer\n",
        "regressor2.add(tf.keras.layers.Conv1D(120, 3, activation=\"relu\",input_shape=(120, 6)))\n",
        "regressor2.add(tf.keras.layers.AveragePooling1D(4))\n",
        "regressor2.add(Bidirectional(LSTM(units = num_units, input_shape=(120, 6))))\n",
        "regressor2.add(LeakyReLU(alpha= 0.5))\n",
        "regressor2.add(BatchNormalization())\n",
        "regressor2.add(Dropout(0.5))\n",
        "# Adding the output layer\n",
        "regressor2.add(Dense(units = 1))\n"
      ],
      "metadata": {
        "execution": {
          "iopub.status.busy": "2022-05-11T14:33:56.076018Z",
          "iopub.execute_input": "2022-05-11T14:33:56.076499Z",
          "iopub.status.idle": "2022-05-11T14:34:03.279419Z",
          "shell.execute_reply.started": "2022-05-11T14:33:56.076455Z",
          "shell.execute_reply": "2022-05-11T14:34:03.278720Z"
        },
        "trusted": true,
        "id": "8b1wgbqkDvh8"
      },
      "execution_count": null,
      "outputs": []
    },
    {
      "cell_type": "code",
      "source": [
        "# Compiling the RNN\n",
        "regressor2.compile(optimizer = optimizer, loss = loss_function, metrics = ('MAPE'))\n",
        "regressor2.summary()\n",
        "\n",
        "# Using the training set to train the model\n",
        "history_BiLSTM2 = regressor2.fit(X_train, y_train, validation_data=(X_valid, y_valid), batch_size = batch_size, epochs = num_epochs)"
      ],
      "metadata": {
        "execution": {
          "iopub.status.busy": "2022-05-11T14:34:11.814730Z",
          "iopub.execute_input": "2022-05-11T14:34:11.815015Z",
          "iopub.status.idle": "2022-05-11T14:38:36.281604Z",
          "shell.execute_reply.started": "2022-05-11T14:34:11.814962Z",
          "shell.execute_reply": "2022-05-11T14:38:36.280810Z"
        },
        "trusted": true,
        "colab": {
          "base_uri": "https://localhost:8080/"
        },
        "id": "TQnT8i-6Dvh8",
        "outputId": "5d259b50-538a-4e22-b2b6-de1a7db6f122"
      },
      "execution_count": null,
      "outputs": [
        {
          "output_type": "stream",
          "name": "stdout",
          "text": [
            "Model: \"sequential_3\"\n",
            "_________________________________________________________________\n",
            " Layer (type)                Output Shape              Param #   \n",
            "=================================================================\n",
            " conv1d_1 (Conv1D)           (None, 118, 120)          2280      \n",
            "                                                                 \n",
            " average_pooling1d_1 (Averag  (None, 29, 120)          0         \n",
            " ePooling1D)                                                     \n",
            "                                                                 \n",
            " bidirectional (Bidirectiona  (None, 256)              254976    \n",
            " l)                                                              \n",
            "                                                                 \n",
            " leaky_re_lu_2 (LeakyReLU)   (None, 256)               0         \n",
            "                                                                 \n",
            " batch_normalization_2 (Batc  (None, 256)              1024      \n",
            " hNormalization)                                                 \n",
            "                                                                 \n",
            " dropout_3 (Dropout)         (None, 256)               0         \n",
            "                                                                 \n",
            " dense_3 (Dense)             (None, 1)                 257       \n",
            "                                                                 \n",
            "=================================================================\n",
            "Total params: 258,537\n",
            "Trainable params: 258,025\n",
            "Non-trainable params: 512\n",
            "_________________________________________________________________\n",
            "Epoch 1/10\n",
            "358/358 [==============================] - 16s 32ms/step - loss: 0.0271 - MAPE: 420.0575 - val_loss: 0.9359 - val_MAPE: 68.6600\n",
            "Epoch 2/10\n",
            "358/358 [==============================] - 10s 29ms/step - loss: 0.0011 - MAPE: 113.5019 - val_loss: 0.0716 - val_MAPE: 18.5528\n",
            "Epoch 3/10\n",
            "358/358 [==============================] - 10s 28ms/step - loss: 8.2776e-04 - MAPE: 94.3082 - val_loss: 0.0079 - val_MAPE: 5.3540\n",
            "Epoch 4/10\n",
            "358/358 [==============================] - 10s 29ms/step - loss: 7.5295e-04 - MAPE: 93.2077 - val_loss: 0.0402 - val_MAPE: 14.0860\n",
            "Epoch 5/10\n",
            "358/358 [==============================] - 10s 29ms/step - loss: 7.2199e-04 - MAPE: 94.4384 - val_loss: 0.0032 - val_MAPE: 3.1691\n",
            "Epoch 6/10\n",
            "358/358 [==============================] - 10s 29ms/step - loss: 6.2844e-04 - MAPE: 89.1150 - val_loss: 0.0035 - val_MAPE: 3.5567\n",
            "Epoch 7/10\n",
            "358/358 [==============================] - 10s 28ms/step - loss: 6.5817e-04 - MAPE: 90.8835 - val_loss: 0.0121 - val_MAPE: 6.6051\n",
            "Epoch 8/10\n",
            "358/358 [==============================] - 10s 28ms/step - loss: 5.9808e-04 - MAPE: 88.4466 - val_loss: 0.0089 - val_MAPE: 5.3469\n",
            "Epoch 9/10\n",
            "358/358 [==============================] - 10s 29ms/step - loss: 6.9697e-04 - MAPE: 99.9911 - val_loss: 0.0031 - val_MAPE: 3.1908\n",
            "Epoch 10/10\n",
            "358/358 [==============================] - 10s 28ms/step - loss: 5.6018e-04 - MAPE: 84.0488 - val_loss: 0.0085 - val_MAPE: 5.3011\n"
          ]
        }
      ]
    },
    {
      "cell_type": "code",
      "source": [
        "loss_BiLSTM2 = history_BiLSTM2.history['loss']\n",
        "val_loss_BiLSTM2 = history_BiLSTM2.history['val_loss']\n",
        "\n",
        "epochs = range(len(loss_BiLSTM2))\n",
        "\n",
        "plt.figure()\n",
        "\n",
        "plt.plot(epochs, loss_BiLSTM2, 'b', label='Training loss')\n",
        "plt.plot(epochs, val_loss_BiLSTM2, 'r', label='Validation loss')\n",
        "plt.title(\"Training and Validation Loss\")\n",
        "plt.legend()\n",
        "\n",
        "plt.show()"
      ],
      "metadata": {
        "execution": {
          "iopub.status.busy": "2022-05-11T14:38:36.283527Z",
          "iopub.execute_input": "2022-05-11T14:38:36.284055Z",
          "iopub.status.idle": "2022-05-11T14:38:36.466450Z",
          "shell.execute_reply.started": "2022-05-11T14:38:36.284018Z",
          "shell.execute_reply": "2022-05-11T14:38:36.465798Z"
        },
        "trusted": true,
        "colab": {
          "base_uri": "https://localhost:8080/",
          "height": 281
        },
        "id": "-Alszk21Dvh9",
        "outputId": "a53439be-92a1-4ce1-8283-337b3a1147ca"
      },
      "execution_count": null,
      "outputs": [
        {
          "output_type": "display_data",
          "data": {
            "text/plain": [
              "<Figure size 432x288 with 1 Axes>"
            ],
            "image/png": "[encoded data removed]"
          },
          "metadata": {
            "needs_background": "light"
          }
        }
      ]
    },
    {
      "cell_type": "code",
      "source": [
        "mape = history_BiLSTM2.history['MAPE']\n",
        "val_mape = history_BiLSTM2.history['val_MAPE']\n",
        "\n",
        "epochs = range(len(mape))\n",
        "\n",
        "plt.figure()\n",
        "\n",
        "plt.plot(epochs, mape, 'b', label='Training MAPE')\n",
        "plt.plot(epochs, val_mape, 'r', label='Validation MAPE')\n",
        "plt.title(\"Training and Validation MAPE\")\n",
        "plt.legend()\n",
        "\n",
        "plt.show()"
      ],
      "metadata": {
        "colab": {
          "base_uri": "https://localhost:8080/",
          "height": 281
        },
        "id": "RhgMq45eVyqN",
        "outputId": "4a00dee6-232d-484b-8f97-6c6bcff281d9"
      },
      "execution_count": null,
      "outputs": [
        {
          "output_type": "display_data",
          "data": {
            "text/plain": [
              "<Figure size 432x288 with 1 Axes>"
            ],
            "image/png": "[encoded data removed]"
          },
          "metadata": {
            "needs_background": "light"
          }
        }
      ]
    },
    {
      "cell_type": "code",
      "source": [
        "pred_BiLSTM2 = regressor2.predict(X_test)"
      ],
      "metadata": {
        "execution": {
          "iopub.status.busy": "2022-05-11T14:38:42.823760Z",
          "iopub.execute_input": "2022-05-11T14:38:42.824033Z",
          "iopub.status.idle": "2022-05-11T14:38:44.425205Z",
          "shell.execute_reply.started": "2022-05-11T14:38:42.824002Z",
          "shell.execute_reply": "2022-05-11T14:38:44.424416Z"
        },
        "trusted": true,
        "id": "stSWMhKfDvh-"
      },
      "execution_count": null,
      "outputs": []
    },
    {
      "cell_type": "code",
      "source": [
        "plt.plot(y_test, color = 'black', label = 'Real Price')\n",
        "plt.plot(pred_BiLSTM2, color = 'green', label = 'Predicted Price')\n",
        "plt.title('Close Price Prediction', fontsize=30)\n",
        "#plt.xticks(range(0,df.shape[0],50),df['Date'].loc[::50],rotation=45)\n",
        "plt.xlabel('DateTime')\n",
        "plt.ylabel('Close Price')\n",
        "plt.legend(fontsize=18)\n",
        "plt.show()"
      ],
      "metadata": {
        "execution": {
          "iopub.status.busy": "2022-05-11T14:38:47.173070Z",
          "iopub.execute_input": "2022-05-11T14:38:47.175643Z",
          "iopub.status.idle": "2022-05-11T14:38:47.410325Z",
          "shell.execute_reply.started": "2022-05-11T14:38:47.175597Z",
          "shell.execute_reply": "2022-05-11T14:38:47.409681Z"
        },
        "trusted": true,
        "colab": {
          "base_uri": "https://localhost:8080/",
          "height": 308
        },
        "id": "yd-n-6RADvh-",
        "outputId": "57d5e9c0-7d07-4bf8-a33d-bdf3f03a8c62"
      },
      "execution_count": null,
      "outputs": [
        {
          "output_type": "display_data",
          "data": {
            "text/plain": [
              "<Figure size 432x288 with 1 Axes>"
            ],
            "image/png": "[encoded data removed]"
          },
          "metadata": {
            "needs_background": "light"
          }
        }
      ]
    },
    {
      "cell_type": "code",
      "source": [
        "import math\n",
        "\n",
        "BiLSTM2_loss = regressor2.evaluate(X_test, y_test, verbose=1)\n",
        "\n",
        "#Err_BiLSTM2 = math.sqrt(BiLSTM2_loss)\n",
        "print('\\nThe error of the model with 1 layer BiLSTM is:',BiLSTM2_loss)"
      ],
      "metadata": {
        "execution": {
          "iopub.status.busy": "2022-05-11T14:38:52.503982Z",
          "iopub.execute_input": "2022-05-11T14:38:52.504239Z",
          "iopub.status.idle": "2022-05-11T14:38:54.053362Z",
          "shell.execute_reply.started": "2022-05-11T14:38:52.504209Z",
          "shell.execute_reply": "2022-05-11T14:38:54.052613Z"
        },
        "trusted": true,
        "colab": {
          "base_uri": "https://localhost:8080/"
        },
        "id": "_wlbT1W6Dvh_",
        "outputId": "f392916f-7d7c-436e-8caf-215fa51f8afb"
      },
      "execution_count": null,
      "outputs": [
        {
          "output_type": "stream",
          "name": "stdout",
          "text": [
            "176/176 [==============================] - 1s 8ms/step - loss: 0.0091 - MAPE: 5.5359\n",
            "\n",
            "The error of the model with 1 layer BiLSTM is: [0.009056000970304012, 5.535891532897949]\n"
          ]
        }
      ]
    },
    {
      "cell_type": "markdown",
      "source": [
        "**Bi-LSTM**"
      ],
      "metadata": {
        "id": "Hbav9KO69tau"
      }
    },
    {
      "cell_type": "code",
      "source": [
        "import tensorflow as tf\n",
        "from tensorflow.keras import layers\n",
        "from keras.models import Sequential\n",
        "from tensorflow.keras.optimizers import Adam\n",
        "from keras.layers import Dense, LSTM, LeakyReLU, Dropout, BatchNormalization\n",
        "from keras.layers import Bidirectional\n",
        "\n",
        "num_units = 128\n",
        "activation_function = 'relu'\n",
        "optimizer = 'adam'\n",
        "loss_function = 'mean_squared_error'\n",
        "batch_size = 128\n",
        "num_epochs = 10\n",
        "\n",
        "# Initialize the RNN\n",
        "regressor2 = Sequential()\n",
        "\n",
        "# Adding the input layer and the LSTM layer\n",
        "#regressor2.add(tf.keras.layers.Conv1D(120, 3, activation=\"relu\",input_shape=(120, 5)))\n",
        "#regressor2.add(tf.keras.layers.AveragePooling1D(4))\n",
        "regressor2.add(Bidirectional(LSTM(units = num_units, input_shape=(120, 6))))#activation = activation_function,\n",
        "regressor2.add(LeakyReLU(alpha= 0.5))\n",
        "regressor2.add(BatchNormalization())\n",
        "regressor2.add(Dropout(0.5))\n",
        "# Adding the output layer\n",
        "regressor2.add(Dense(units = 1))\n",
        "# Compiling the RNN\n",
        "regressor2.compile(optimizer = optimizer, loss = loss_function, metrics = ('MAPE'))\n",
        "\n"
      ],
      "metadata": {
        "id": "PWE120X19yPy"
      },
      "execution_count": null,
      "outputs": []
    },
    {
      "cell_type": "code",
      "source": [
        "\n",
        "#regressor2.summary()\n",
        "# Using the training set to train the model\n",
        "history_BiLSTM2 = regressor2.fit(X_train, y_train, validation_data=(X_valid, y_valid), batch_size = batch_size, epochs = num_epochs)"
      ],
      "metadata": {
        "colab": {
          "base_uri": "https://localhost:8080/"
        },
        "id": "OLZVmRzV-I2A",
        "outputId": "8a2c39ab-7f07-4968-ccde-613952a9b704"
      },
      "execution_count": null,
      "outputs": [
        {
          "output_type": "stream",
          "name": "stdout",
          "text": [
            "Epoch 1/10\n",
            "358/358 [==============================] - 10s 19ms/step - loss: 0.0337 - MAPE: 564.1741 - val_loss: 0.9858 - val_MAPE: 70.3305\n",
            "Epoch 2/10\n",
            "358/358 [==============================] - 6s 17ms/step - loss: 0.0013 - MAPE: 123.1517 - val_loss: 0.1661 - val_MAPE: 28.1346\n",
            "Epoch 3/10\n",
            "358/358 [==============================] - 6s 16ms/step - loss: 8.4503e-04 - MAPE: 99.4235 - val_loss: 0.0085 - val_MAPE: 4.8211\n",
            "Epoch 4/10\n",
            "358/358 [==============================] - 6s 16ms/step - loss: 7.7810e-04 - MAPE: 95.7752 - val_loss: 0.0070 - val_MAPE: 4.3007\n",
            "Epoch 5/10\n",
            "358/358 [==============================] - 6s 17ms/step - loss: 7.1533e-04 - MAPE: 95.8564 - val_loss: 0.0083 - val_MAPE: 5.3561\n",
            "Epoch 6/10\n",
            "358/358 [==============================] - 6s 17ms/step - loss: 6.5117e-04 - MAPE: 93.1445 - val_loss: 0.0030 - val_MAPE: 2.9907\n",
            "Epoch 7/10\n",
            "358/358 [==============================] - 6s 16ms/step - loss: 6.4338e-04 - MAPE: 90.0405 - val_loss: 0.0026 - val_MAPE: 2.8425\n",
            "Epoch 8/10\n",
            "358/358 [==============================] - 6s 17ms/step - loss: 6.5630e-04 - MAPE: 96.6896 - val_loss: 0.0078 - val_MAPE: 5.0404\n",
            "Epoch 9/10\n",
            "358/358 [==============================] - 6s 17ms/step - loss: 6.0534e-04 - MAPE: 91.1691 - val_loss: 0.0058 - val_MAPE: 4.5898\n",
            "Epoch 10/10\n",
            "358/358 [==============================] - 8s 21ms/step - loss: 5.8914e-04 - MAPE: 92.3760 - val_loss: 0.0028 - val_MAPE: 3.1017\n"
          ]
        }
      ]
    },
    {
      "cell_type": "code",
      "source": [
        "regressor2.summary()"
      ],
      "metadata": {
        "colab": {
          "base_uri": "https://localhost:8080/"
        },
        "id": "OGmi0hgLAwge",
        "outputId": "1e5761b3-2e9e-4932-f693-2ff04246ff24"
      },
      "execution_count": null,
      "outputs": [
        {
          "output_type": "stream",
          "name": "stdout",
          "text": [
            "Model: \"sequential_1\"\n",
            "_________________________________________________________________\n",
            " Layer (type)                Output Shape              Param #   \n",
            "=================================================================\n",
            " bidirectional_1 (Bidirectio  (None, 256)              138240    \n",
            " nal)                                                            \n",
            "                                                                 \n",
            " leaky_re_lu_1 (LeakyReLU)   (None, 256)               0         \n",
            "                                                                 \n",
            " batch_normalization_1 (Batc  (None, 256)              1024      \n",
            " hNormalization)                                                 \n",
            "                                                                 \n",
            " dropout_1 (Dropout)         (None, 256)               0         \n",
            "                                                                 \n",
            " dense_1 (Dense)             (None, 1)                 257       \n",
            "                                                                 \n",
            "=================================================================\n",
            "Total params: 139,521\n",
            "Trainable params: 139,009\n",
            "Non-trainable params: 512\n",
            "_________________________________________________________________\n"
          ]
        }
      ]
    },
    {
      "cell_type": "code",
      "source": [
        "loss_BiLSTM2 = history_BiLSTM2.history['loss']\n",
        "val_loss_BiLSTM2 = history_BiLSTM2.history['val_loss']\n",
        "\n",
        "epochs = range(len(loss_BiLSTM2))\n",
        "\n",
        "plt.figure()\n",
        "\n",
        "plt.plot(epochs, loss_BiLSTM2, 'b', label='Training loss')\n",
        "plt.plot(epochs, val_loss_BiLSTM2, 'r', label='Validation loss')\n",
        "plt.title(\"Training and Validation Loss\")\n",
        "plt.legend()\n",
        "\n",
        "plt.show()"
      ],
      "metadata": {
        "colab": {
          "base_uri": "https://localhost:8080/",
          "height": 281
        },
        "id": "O7BfZ5mV-OLn",
        "outputId": "c738b2a7-16f2-46cb-ed91-cc14d3984332"
      },
      "execution_count": null,
      "outputs": [
        {
          "output_type": "display_data",
          "data": {
            "text/plain": [
              "<Figure size 432x288 with 1 Axes>"
            ],
            "image/png": "[encoded data removed]"
          },
          "metadata": {
            "needs_background": "light"
          }
        }
      ]
    },
    {
      "cell_type": "code",
      "source": [
        "mape = history_BiLSTM2.history['MAPE']\n",
        "val_mape = history_BiLSTM2.history['val_MAPE']\n",
        "\n",
        "epochs = range(len(mape))\n",
        "\n",
        "plt.figure()\n",
        "\n",
        "plt.plot(epochs, mape, 'b', label='Training MAPE')\n",
        "plt.plot(epochs, val_mape, 'r', label='Validation MAPE')\n",
        "plt.title(\"Training and Validation MAPE\")\n",
        "plt.legend()\n",
        "\n",
        "plt.show()"
      ],
      "metadata": {
        "colab": {
          "base_uri": "https://localhost:8080/",
          "height": 281
        },
        "id": "zhNLxB63-Q8H",
        "outputId": "b827df4f-9307-4bff-e7b6-81cd28c0eaa1"
      },
      "execution_count": null,
      "outputs": [
        {
          "output_type": "display_data",
          "data": {
            "text/plain": [
              "<Figure size 432x288 with 1 Axes>"
            ],
            "image/png": "[encoded data removed]"
          },
          "metadata": {
            "needs_background": "light"
          }
        }
      ]
    },
    {
      "cell_type": "code",
      "source": [
        "pred_BiLSTM2 = regressor2.predict(X_test)"
      ],
      "metadata": {
        "id": "KAREKmlQ-UDU"
      },
      "execution_count": null,
      "outputs": []
    },
    {
      "cell_type": "code",
      "source": [
        "plt.plot(y_test, color = 'black', label = 'Real Price')\n",
        "plt.plot(pred_BiLSTM2, color = 'green', label = 'Predicted Price')\n",
        "plt.title('Close Price Prediction', fontsize=30)\n",
        "#plt.xticks(range(0,df.shape[0],50),df['Date'].loc[::50],rotation=45)\n",
        "plt.xlabel('DateTime')\n",
        "plt.ylabel('Close Price')\n",
        "plt.legend(fontsize=18)\n",
        "plt.show()"
      ],
      "metadata": {
        "colab": {
          "base_uri": "https://localhost:8080/",
          "height": 308
        },
        "id": "2BTx20KR-Vqx",
        "outputId": "7be694ce-006c-466e-ce35-727d39653be8"
      },
      "execution_count": null,
      "outputs": [
        {
          "output_type": "display_data",
          "data": {
            "text/plain": [
              "<Figure size 432x288 with 1 Axes>"
            ],
            "image/png": "[encoded data removed]"
          },
          "metadata": {
            "needs_background": "light"
          }
        }
      ]
    },
    {
      "cell_type": "code",
      "source": [
        "import math\n",
        "\n",
        "BiLSTM2_loss = regressor2.evaluate(X_test, y_test, verbose=1)\n",
        "\n",
        "#Err_BiLSTM2 = math.sqrt(BiLSTM2_loss)\n",
        "print('\\nThe error of the model with 1 layer BiLSTM is:',BiLSTM2_loss)"
      ],
      "metadata": {
        "colab": {
          "base_uri": "https://localhost:8080/"
        },
        "id": "xqhxZoOg-WO5",
        "outputId": "ef865e83-10de-4441-f778-2aec7af8f850"
      },
      "execution_count": null,
      "outputs": [
        {
          "output_type": "stream",
          "name": "stdout",
          "text": [
            "176/176 [==============================] - 1s 7ms/step - loss: 0.0018 - MAPE: 2.3012\n",
            "\n",
            "The error of the model with 1 layer BiLSTM is: [0.0018174207070842385, 2.3012380599975586]\n"
          ]
        }
      ]
    }
  ]
}